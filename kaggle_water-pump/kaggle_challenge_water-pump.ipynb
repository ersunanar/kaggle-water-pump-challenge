{
 "cells": [
  {
   "cell_type": "code",
   "execution_count": 6,
   "metadata": {
    "id": "Go-Rv6pKCf27"
   },
   "outputs": [],
   "source": [
    "import numpy as np\n",
    "import pandas as pd\n",
    "import matplotlib.pyplot as plt\n",
    "%matplotlib inline\n",
    "import seaborn as sns\n",
    "sns.set()\n",
    "import datetime as dt\n",
    "\n",
    "# Set ipython's max row display\n",
    "pd.set_option('display.max_row', 300)\n",
    "\n",
    "# Set iPython's max column width to 50\n",
    "pd.set_option('display.max_columns', 50)"
   ]
  },
  {
   "cell_type": "code",
   "execution_count": 7,
   "metadata": {
    "id": "Fy17EWAlCQi9"
   },
   "outputs": [],
   "source": [
    "projectData = pd.read_csv(\"trainingsetlabels.csv\")\n",
    "projectData_values = pd.read_csv(\"trainingsetvalues.csv\")\n",
    "testData=pd.read_csv('testsetvalues.csv')"
   ]
  },
  {
   "cell_type": "code",
   "execution_count": 8,
   "metadata": {
    "id": "MsQz4KSPJdHI"
   },
   "outputs": [],
   "source": [
    "projectData=projectData_values.merge(projectData,on='id',how='inner')\n",
    "projectData_statusgroup = projectData['status_group']"
   ]
  },
  {
   "cell_type": "code",
   "execution_count": 9,
   "metadata": {},
   "outputs": [],
   "source": [
    "testData_id = pd.DataFrame\n",
    "testData_id=testData['id']"
   ]
  },
  {
   "cell_type": "code",
   "execution_count": 15,
   "metadata": {},
   "outputs": [
    {
     "output_type": "execute_result",
     "data": {
      "text/plain": [
       "      id  amount_tsh date_recorded        funder  gps_height     installer  \\\n",
       "0  69572      6000.0    2011-03-14         Roman        1390         Roman   \n",
       "1   8776         0.0    2013-03-06       Grumeti        1399       GRUMETI   \n",
       "2  34310        25.0    2013-02-25  Lottery Club         686  World vision   \n",
       "3  67743         0.0    2013-01-28        Unicef         263        UNICEF   \n",
       "4  19728         0.0    2011-07-13   Action In A           0       Artisan   \n",
       "\n",
       "   longitude   latitude              wpt_name  num_private  \\\n",
       "0  34.938093  -9.856322                  none            0   \n",
       "1  34.698766  -2.147466              Zahanati            0   \n",
       "2  37.460664  -3.821329           Kwa Mahundi            0   \n",
       "3  38.486161 -11.155298  Zahanati Ya Nanyumbu            0   \n",
       "4  31.130847  -1.825359               Shuleni            0   \n",
       "\n",
       "                     basin  subvillage   region  region_code  district_code  \\\n",
       "0               Lake Nyasa    Mnyusi B   Iringa           11              5   \n",
       "1            Lake Victoria     Nyamara     Mara           20              2   \n",
       "2                  Pangani     Majengo  Manyara           21              4   \n",
       "3  Ruvuma / Southern Coast  Mahakamani   Mtwara           90             63   \n",
       "4            Lake Victoria  Kyanyamisa   Kagera           18              1   \n",
       "\n",
       "         lga        ward  population public_meeting              recorded_by  \\\n",
       "0     Ludewa    Mundindi         109           True  GeoData Consultants Ltd   \n",
       "1  Serengeti       Natta         280            NaN  GeoData Consultants Ltd   \n",
       "2  Simanjiro     Ngorika         250           True  GeoData Consultants Ltd   \n",
       "3   Nanyumbu    Nanyumbu          58           True  GeoData Consultants Ltd   \n",
       "4    Karagwe  Nyakasimbi           0           True  GeoData Consultants Ltd   \n",
       "\n",
       "  scheme_management                  scheme_name permit  construction_year  \\\n",
       "0               VWC                        Roman  False               1999   \n",
       "1             Other                          NaN   True               2010   \n",
       "2               VWC  Nyumba ya mungu pipe scheme   True               2009   \n",
       "3               VWC                          NaN   True               1986   \n",
       "4               NaN                          NaN   True                  0   \n",
       "\n",
       "  extraction_type extraction_type_group extraction_type_class management  \\\n",
       "0         gravity               gravity               gravity        vwc   \n",
       "1         gravity               gravity               gravity        wug   \n",
       "2         gravity               gravity               gravity        vwc   \n",
       "3     submersible           submersible           submersible        vwc   \n",
       "4         gravity               gravity               gravity      other   \n",
       "\n",
       "  management_group         payment payment_type water_quality quality_group  \\\n",
       "0       user-group    pay annually     annually          soft          good   \n",
       "1       user-group       never pay    never pay          soft          good   \n",
       "2       user-group  pay per bucket   per bucket          soft          good   \n",
       "3       user-group       never pay    never pay          soft          good   \n",
       "4            other       never pay    never pay          soft          good   \n",
       "\n",
       "       quantity quantity_group                source           source_type  \\\n",
       "0        enough         enough                spring                spring   \n",
       "1  insufficient   insufficient  rainwater harvesting  rainwater harvesting   \n",
       "2        enough         enough                   dam                   dam   \n",
       "3           dry            dry           machine dbh              borehole   \n",
       "4      seasonal       seasonal  rainwater harvesting  rainwater harvesting   \n",
       "\n",
       "  source_class              waterpoint_type waterpoint_type_group  \n",
       "0  groundwater           communal standpipe    communal standpipe  \n",
       "1      surface           communal standpipe    communal standpipe  \n",
       "2      surface  communal standpipe multiple    communal standpipe  \n",
       "3  groundwater  communal standpipe multiple    communal standpipe  \n",
       "4      surface           communal standpipe    communal standpipe  "
      ],
      "text/html": "<div>\n<style scoped>\n    .dataframe tbody tr th:only-of-type {\n        vertical-align: middle;\n    }\n\n    .dataframe tbody tr th {\n        vertical-align: top;\n    }\n\n    .dataframe thead th {\n        text-align: right;\n    }\n</style>\n<table border=\"1\" class=\"dataframe\">\n  <thead>\n    <tr style=\"text-align: right;\">\n      <th></th>\n      <th>id</th>\n      <th>amount_tsh</th>\n      <th>date_recorded</th>\n      <th>funder</th>\n      <th>gps_height</th>\n      <th>installer</th>\n      <th>longitude</th>\n      <th>latitude</th>\n      <th>wpt_name</th>\n      <th>num_private</th>\n      <th>basin</th>\n      <th>subvillage</th>\n      <th>region</th>\n      <th>region_code</th>\n      <th>district_code</th>\n      <th>lga</th>\n      <th>ward</th>\n      <th>population</th>\n      <th>public_meeting</th>\n      <th>recorded_by</th>\n      <th>scheme_management</th>\n      <th>scheme_name</th>\n      <th>permit</th>\n      <th>construction_year</th>\n      <th>extraction_type</th>\n      <th>extraction_type_group</th>\n      <th>extraction_type_class</th>\n      <th>management</th>\n      <th>management_group</th>\n      <th>payment</th>\n      <th>payment_type</th>\n      <th>water_quality</th>\n      <th>quality_group</th>\n      <th>quantity</th>\n      <th>quantity_group</th>\n      <th>source</th>\n      <th>source_type</th>\n      <th>source_class</th>\n      <th>waterpoint_type</th>\n      <th>waterpoint_type_group</th>\n    </tr>\n  </thead>\n  <tbody>\n    <tr>\n      <th>0</th>\n      <td>69572</td>\n      <td>6000.0</td>\n      <td>2011-03-14</td>\n      <td>Roman</td>\n      <td>1390</td>\n      <td>Roman</td>\n      <td>34.938093</td>\n      <td>-9.856322</td>\n      <td>none</td>\n      <td>0</td>\n      <td>Lake Nyasa</td>\n      <td>Mnyusi B</td>\n      <td>Iringa</td>\n      <td>11</td>\n      <td>5</td>\n      <td>Ludewa</td>\n      <td>Mundindi</td>\n      <td>109</td>\n      <td>True</td>\n      <td>GeoData Consultants Ltd</td>\n      <td>VWC</td>\n      <td>Roman</td>\n      <td>False</td>\n      <td>1999</td>\n      <td>gravity</td>\n      <td>gravity</td>\n      <td>gravity</td>\n      <td>vwc</td>\n      <td>user-group</td>\n      <td>pay annually</td>\n      <td>annually</td>\n      <td>soft</td>\n      <td>good</td>\n      <td>enough</td>\n      <td>enough</td>\n      <td>spring</td>\n      <td>spring</td>\n      <td>groundwater</td>\n      <td>communal standpipe</td>\n      <td>communal standpipe</td>\n    </tr>\n    <tr>\n      <th>1</th>\n      <td>8776</td>\n      <td>0.0</td>\n      <td>2013-03-06</td>\n      <td>Grumeti</td>\n      <td>1399</td>\n      <td>GRUMETI</td>\n      <td>34.698766</td>\n      <td>-2.147466</td>\n      <td>Zahanati</td>\n      <td>0</td>\n      <td>Lake Victoria</td>\n      <td>Nyamara</td>\n      <td>Mara</td>\n      <td>20</td>\n      <td>2</td>\n      <td>Serengeti</td>\n      <td>Natta</td>\n      <td>280</td>\n      <td>NaN</td>\n      <td>GeoData Consultants Ltd</td>\n      <td>Other</td>\n      <td>NaN</td>\n      <td>True</td>\n      <td>2010</td>\n      <td>gravity</td>\n      <td>gravity</td>\n      <td>gravity</td>\n      <td>wug</td>\n      <td>user-group</td>\n      <td>never pay</td>\n      <td>never pay</td>\n      <td>soft</td>\n      <td>good</td>\n      <td>insufficient</td>\n      <td>insufficient</td>\n      <td>rainwater harvesting</td>\n      <td>rainwater harvesting</td>\n      <td>surface</td>\n      <td>communal standpipe</td>\n      <td>communal standpipe</td>\n    </tr>\n    <tr>\n      <th>2</th>\n      <td>34310</td>\n      <td>25.0</td>\n      <td>2013-02-25</td>\n      <td>Lottery Club</td>\n      <td>686</td>\n      <td>World vision</td>\n      <td>37.460664</td>\n      <td>-3.821329</td>\n      <td>Kwa Mahundi</td>\n      <td>0</td>\n      <td>Pangani</td>\n      <td>Majengo</td>\n      <td>Manyara</td>\n      <td>21</td>\n      <td>4</td>\n      <td>Simanjiro</td>\n      <td>Ngorika</td>\n      <td>250</td>\n      <td>True</td>\n      <td>GeoData Consultants Ltd</td>\n      <td>VWC</td>\n      <td>Nyumba ya mungu pipe scheme</td>\n      <td>True</td>\n      <td>2009</td>\n      <td>gravity</td>\n      <td>gravity</td>\n      <td>gravity</td>\n      <td>vwc</td>\n      <td>user-group</td>\n      <td>pay per bucket</td>\n      <td>per bucket</td>\n      <td>soft</td>\n      <td>good</td>\n      <td>enough</td>\n      <td>enough</td>\n      <td>dam</td>\n      <td>dam</td>\n      <td>surface</td>\n      <td>communal standpipe multiple</td>\n      <td>communal standpipe</td>\n    </tr>\n    <tr>\n      <th>3</th>\n      <td>67743</td>\n      <td>0.0</td>\n      <td>2013-01-28</td>\n      <td>Unicef</td>\n      <td>263</td>\n      <td>UNICEF</td>\n      <td>38.486161</td>\n      <td>-11.155298</td>\n      <td>Zahanati Ya Nanyumbu</td>\n      <td>0</td>\n      <td>Ruvuma / Southern Coast</td>\n      <td>Mahakamani</td>\n      <td>Mtwara</td>\n      <td>90</td>\n      <td>63</td>\n      <td>Nanyumbu</td>\n      <td>Nanyumbu</td>\n      <td>58</td>\n      <td>True</td>\n      <td>GeoData Consultants Ltd</td>\n      <td>VWC</td>\n      <td>NaN</td>\n      <td>True</td>\n      <td>1986</td>\n      <td>submersible</td>\n      <td>submersible</td>\n      <td>submersible</td>\n      <td>vwc</td>\n      <td>user-group</td>\n      <td>never pay</td>\n      <td>never pay</td>\n      <td>soft</td>\n      <td>good</td>\n      <td>dry</td>\n      <td>dry</td>\n      <td>machine dbh</td>\n      <td>borehole</td>\n      <td>groundwater</td>\n      <td>communal standpipe multiple</td>\n      <td>communal standpipe</td>\n    </tr>\n    <tr>\n      <th>4</th>\n      <td>19728</td>\n      <td>0.0</td>\n      <td>2011-07-13</td>\n      <td>Action In A</td>\n      <td>0</td>\n      <td>Artisan</td>\n      <td>31.130847</td>\n      <td>-1.825359</td>\n      <td>Shuleni</td>\n      <td>0</td>\n      <td>Lake Victoria</td>\n      <td>Kyanyamisa</td>\n      <td>Kagera</td>\n      <td>18</td>\n      <td>1</td>\n      <td>Karagwe</td>\n      <td>Nyakasimbi</td>\n      <td>0</td>\n      <td>True</td>\n      <td>GeoData Consultants Ltd</td>\n      <td>NaN</td>\n      <td>NaN</td>\n      <td>True</td>\n      <td>0</td>\n      <td>gravity</td>\n      <td>gravity</td>\n      <td>gravity</td>\n      <td>other</td>\n      <td>other</td>\n      <td>never pay</td>\n      <td>never pay</td>\n      <td>soft</td>\n      <td>good</td>\n      <td>seasonal</td>\n      <td>seasonal</td>\n      <td>rainwater harvesting</td>\n      <td>rainwater harvesting</td>\n      <td>surface</td>\n      <td>communal standpipe</td>\n      <td>communal standpipe</td>\n    </tr>\n  </tbody>\n</table>\n</div>"
     },
     "metadata": {},
     "execution_count": 15
    }
   ],
   "source": [
    "projectData_values.head()"
   ]
  },
  {
   "cell_type": "code",
   "execution_count": 11,
   "metadata": {
    "colab": {
     "base_uri": "https://localhost:8080/",
     "height": 411
    },
    "id": "R6WDi9EVC7aF",
    "outputId": "6311faf4-0c34-4856-de8c-5129a1915c5a"
   },
   "outputs": [
    {
     "output_type": "execute_result",
     "data": {
      "text/plain": [
       "      id  amount_tsh date_recorded        funder  gps_height     installer  \\\n",
       "0  69572      6000.0    2011-03-14         Roman        1390         Roman   \n",
       "1   8776         0.0    2013-03-06       Grumeti        1399       GRUMETI   \n",
       "2  34310        25.0    2013-02-25  Lottery Club         686  World vision   \n",
       "3  67743         0.0    2013-01-28        Unicef         263        UNICEF   \n",
       "4  19728         0.0    2011-07-13   Action In A           0       Artisan   \n",
       "\n",
       "   longitude   latitude              wpt_name  num_private  \\\n",
       "0  34.938093  -9.856322                  none            0   \n",
       "1  34.698766  -2.147466              Zahanati            0   \n",
       "2  37.460664  -3.821329           Kwa Mahundi            0   \n",
       "3  38.486161 -11.155298  Zahanati Ya Nanyumbu            0   \n",
       "4  31.130847  -1.825359               Shuleni            0   \n",
       "\n",
       "                     basin  subvillage   region  region_code  district_code  \\\n",
       "0               Lake Nyasa    Mnyusi B   Iringa           11              5   \n",
       "1            Lake Victoria     Nyamara     Mara           20              2   \n",
       "2                  Pangani     Majengo  Manyara           21              4   \n",
       "3  Ruvuma / Southern Coast  Mahakamani   Mtwara           90             63   \n",
       "4            Lake Victoria  Kyanyamisa   Kagera           18              1   \n",
       "\n",
       "         lga        ward  population public_meeting              recorded_by  \\\n",
       "0     Ludewa    Mundindi         109           True  GeoData Consultants Ltd   \n",
       "1  Serengeti       Natta         280            NaN  GeoData Consultants Ltd   \n",
       "2  Simanjiro     Ngorika         250           True  GeoData Consultants Ltd   \n",
       "3   Nanyumbu    Nanyumbu          58           True  GeoData Consultants Ltd   \n",
       "4    Karagwe  Nyakasimbi           0           True  GeoData Consultants Ltd   \n",
       "\n",
       "  scheme_management                  scheme_name permit  construction_year  \\\n",
       "0               VWC                        Roman  False               1999   \n",
       "1             Other                          NaN   True               2010   \n",
       "2               VWC  Nyumba ya mungu pipe scheme   True               2009   \n",
       "3               VWC                          NaN   True               1986   \n",
       "4               NaN                          NaN   True                  0   \n",
       "\n",
       "  extraction_type extraction_type_group extraction_type_class management  \\\n",
       "0         gravity               gravity               gravity        vwc   \n",
       "1         gravity               gravity               gravity        wug   \n",
       "2         gravity               gravity               gravity        vwc   \n",
       "3     submersible           submersible           submersible        vwc   \n",
       "4         gravity               gravity               gravity      other   \n",
       "\n",
       "  management_group         payment payment_type water_quality quality_group  \\\n",
       "0       user-group    pay annually     annually          soft          good   \n",
       "1       user-group       never pay    never pay          soft          good   \n",
       "2       user-group  pay per bucket   per bucket          soft          good   \n",
       "3       user-group       never pay    never pay          soft          good   \n",
       "4            other       never pay    never pay          soft          good   \n",
       "\n",
       "       quantity quantity_group                source           source_type  \\\n",
       "0        enough         enough                spring                spring   \n",
       "1  insufficient   insufficient  rainwater harvesting  rainwater harvesting   \n",
       "2        enough         enough                   dam                   dam   \n",
       "3           dry            dry           machine dbh              borehole   \n",
       "4      seasonal       seasonal  rainwater harvesting  rainwater harvesting   \n",
       "\n",
       "  source_class              waterpoint_type waterpoint_type_group  \\\n",
       "0  groundwater           communal standpipe    communal standpipe   \n",
       "1      surface           communal standpipe    communal standpipe   \n",
       "2      surface  communal standpipe multiple    communal standpipe   \n",
       "3  groundwater  communal standpipe multiple    communal standpipe   \n",
       "4      surface           communal standpipe    communal standpipe   \n",
       "\n",
       "     status_group  \n",
       "0      functional  \n",
       "1      functional  \n",
       "2      functional  \n",
       "3  non functional  \n",
       "4      functional  "
      ],
      "text/html": "<div>\n<style scoped>\n    .dataframe tbody tr th:only-of-type {\n        vertical-align: middle;\n    }\n\n    .dataframe tbody tr th {\n        vertical-align: top;\n    }\n\n    .dataframe thead th {\n        text-align: right;\n    }\n</style>\n<table border=\"1\" class=\"dataframe\">\n  <thead>\n    <tr style=\"text-align: right;\">\n      <th></th>\n      <th>id</th>\n      <th>amount_tsh</th>\n      <th>date_recorded</th>\n      <th>funder</th>\n      <th>gps_height</th>\n      <th>installer</th>\n      <th>longitude</th>\n      <th>latitude</th>\n      <th>wpt_name</th>\n      <th>num_private</th>\n      <th>basin</th>\n      <th>subvillage</th>\n      <th>region</th>\n      <th>region_code</th>\n      <th>district_code</th>\n      <th>lga</th>\n      <th>ward</th>\n      <th>population</th>\n      <th>public_meeting</th>\n      <th>recorded_by</th>\n      <th>scheme_management</th>\n      <th>scheme_name</th>\n      <th>permit</th>\n      <th>construction_year</th>\n      <th>extraction_type</th>\n      <th>extraction_type_group</th>\n      <th>extraction_type_class</th>\n      <th>management</th>\n      <th>management_group</th>\n      <th>payment</th>\n      <th>payment_type</th>\n      <th>water_quality</th>\n      <th>quality_group</th>\n      <th>quantity</th>\n      <th>quantity_group</th>\n      <th>source</th>\n      <th>source_type</th>\n      <th>source_class</th>\n      <th>waterpoint_type</th>\n      <th>waterpoint_type_group</th>\n      <th>status_group</th>\n    </tr>\n  </thead>\n  <tbody>\n    <tr>\n      <th>0</th>\n      <td>69572</td>\n      <td>6000.0</td>\n      <td>2011-03-14</td>\n      <td>Roman</td>\n      <td>1390</td>\n      <td>Roman</td>\n      <td>34.938093</td>\n      <td>-9.856322</td>\n      <td>none</td>\n      <td>0</td>\n      <td>Lake Nyasa</td>\n      <td>Mnyusi B</td>\n      <td>Iringa</td>\n      <td>11</td>\n      <td>5</td>\n      <td>Ludewa</td>\n      <td>Mundindi</td>\n      <td>109</td>\n      <td>True</td>\n      <td>GeoData Consultants Ltd</td>\n      <td>VWC</td>\n      <td>Roman</td>\n      <td>False</td>\n      <td>1999</td>\n      <td>gravity</td>\n      <td>gravity</td>\n      <td>gravity</td>\n      <td>vwc</td>\n      <td>user-group</td>\n      <td>pay annually</td>\n      <td>annually</td>\n      <td>soft</td>\n      <td>good</td>\n      <td>enough</td>\n      <td>enough</td>\n      <td>spring</td>\n      <td>spring</td>\n      <td>groundwater</td>\n      <td>communal standpipe</td>\n      <td>communal standpipe</td>\n      <td>functional</td>\n    </tr>\n    <tr>\n      <th>1</th>\n      <td>8776</td>\n      <td>0.0</td>\n      <td>2013-03-06</td>\n      <td>Grumeti</td>\n      <td>1399</td>\n      <td>GRUMETI</td>\n      <td>34.698766</td>\n      <td>-2.147466</td>\n      <td>Zahanati</td>\n      <td>0</td>\n      <td>Lake Victoria</td>\n      <td>Nyamara</td>\n      <td>Mara</td>\n      <td>20</td>\n      <td>2</td>\n      <td>Serengeti</td>\n      <td>Natta</td>\n      <td>280</td>\n      <td>NaN</td>\n      <td>GeoData Consultants Ltd</td>\n      <td>Other</td>\n      <td>NaN</td>\n      <td>True</td>\n      <td>2010</td>\n      <td>gravity</td>\n      <td>gravity</td>\n      <td>gravity</td>\n      <td>wug</td>\n      <td>user-group</td>\n      <td>never pay</td>\n      <td>never pay</td>\n      <td>soft</td>\n      <td>good</td>\n      <td>insufficient</td>\n      <td>insufficient</td>\n      <td>rainwater harvesting</td>\n      <td>rainwater harvesting</td>\n      <td>surface</td>\n      <td>communal standpipe</td>\n      <td>communal standpipe</td>\n      <td>functional</td>\n    </tr>\n    <tr>\n      <th>2</th>\n      <td>34310</td>\n      <td>25.0</td>\n      <td>2013-02-25</td>\n      <td>Lottery Club</td>\n      <td>686</td>\n      <td>World vision</td>\n      <td>37.460664</td>\n      <td>-3.821329</td>\n      <td>Kwa Mahundi</td>\n      <td>0</td>\n      <td>Pangani</td>\n      <td>Majengo</td>\n      <td>Manyara</td>\n      <td>21</td>\n      <td>4</td>\n      <td>Simanjiro</td>\n      <td>Ngorika</td>\n      <td>250</td>\n      <td>True</td>\n      <td>GeoData Consultants Ltd</td>\n      <td>VWC</td>\n      <td>Nyumba ya mungu pipe scheme</td>\n      <td>True</td>\n      <td>2009</td>\n      <td>gravity</td>\n      <td>gravity</td>\n      <td>gravity</td>\n      <td>vwc</td>\n      <td>user-group</td>\n      <td>pay per bucket</td>\n      <td>per bucket</td>\n      <td>soft</td>\n      <td>good</td>\n      <td>enough</td>\n      <td>enough</td>\n      <td>dam</td>\n      <td>dam</td>\n      <td>surface</td>\n      <td>communal standpipe multiple</td>\n      <td>communal standpipe</td>\n      <td>functional</td>\n    </tr>\n    <tr>\n      <th>3</th>\n      <td>67743</td>\n      <td>0.0</td>\n      <td>2013-01-28</td>\n      <td>Unicef</td>\n      <td>263</td>\n      <td>UNICEF</td>\n      <td>38.486161</td>\n      <td>-11.155298</td>\n      <td>Zahanati Ya Nanyumbu</td>\n      <td>0</td>\n      <td>Ruvuma / Southern Coast</td>\n      <td>Mahakamani</td>\n      <td>Mtwara</td>\n      <td>90</td>\n      <td>63</td>\n      <td>Nanyumbu</td>\n      <td>Nanyumbu</td>\n      <td>58</td>\n      <td>True</td>\n      <td>GeoData Consultants Ltd</td>\n      <td>VWC</td>\n      <td>NaN</td>\n      <td>True</td>\n      <td>1986</td>\n      <td>submersible</td>\n      <td>submersible</td>\n      <td>submersible</td>\n      <td>vwc</td>\n      <td>user-group</td>\n      <td>never pay</td>\n      <td>never pay</td>\n      <td>soft</td>\n      <td>good</td>\n      <td>dry</td>\n      <td>dry</td>\n      <td>machine dbh</td>\n      <td>borehole</td>\n      <td>groundwater</td>\n      <td>communal standpipe multiple</td>\n      <td>communal standpipe</td>\n      <td>non functional</td>\n    </tr>\n    <tr>\n      <th>4</th>\n      <td>19728</td>\n      <td>0.0</td>\n      <td>2011-07-13</td>\n      <td>Action In A</td>\n      <td>0</td>\n      <td>Artisan</td>\n      <td>31.130847</td>\n      <td>-1.825359</td>\n      <td>Shuleni</td>\n      <td>0</td>\n      <td>Lake Victoria</td>\n      <td>Kyanyamisa</td>\n      <td>Kagera</td>\n      <td>18</td>\n      <td>1</td>\n      <td>Karagwe</td>\n      <td>Nyakasimbi</td>\n      <td>0</td>\n      <td>True</td>\n      <td>GeoData Consultants Ltd</td>\n      <td>NaN</td>\n      <td>NaN</td>\n      <td>True</td>\n      <td>0</td>\n      <td>gravity</td>\n      <td>gravity</td>\n      <td>gravity</td>\n      <td>other</td>\n      <td>other</td>\n      <td>never pay</td>\n      <td>never pay</td>\n      <td>soft</td>\n      <td>good</td>\n      <td>seasonal</td>\n      <td>seasonal</td>\n      <td>rainwater harvesting</td>\n      <td>rainwater harvesting</td>\n      <td>surface</td>\n      <td>communal standpipe</td>\n      <td>communal standpipe</td>\n      <td>functional</td>\n    </tr>\n  </tbody>\n</table>\n</div>"
     },
     "metadata": {},
     "execution_count": 11
    }
   ],
   "source": [
    "projectData.head()"
   ]
  },
  {
   "cell_type": "code",
   "execution_count": 13,
   "metadata": {},
   "outputs": [
    {
     "output_type": "execute_result",
     "data": {
      "text/plain": [
       "      id  amount_tsh date_recorded                  funder  gps_height  \\\n",
       "0  50785         0.0    2013-02-04                    Dmdd        1996   \n",
       "1  51630         0.0    2013-02-04  Government Of Tanzania        1569   \n",
       "2  17168         0.0    2013-02-01                     NaN        1567   \n",
       "3  45559         0.0    2013-01-22              Finn Water         267   \n",
       "4  49871       500.0    2013-03-27                  Bruder        1260   \n",
       "\n",
       "    installer  longitude   latitude                 wpt_name  num_private  \\\n",
       "0        DMDD  35.290799  -4.059696  Dinamu Secondary School            0   \n",
       "1         DWE  36.656709  -3.309214                  Kimnyak            0   \n",
       "2         NaN  34.767863  -5.004344           Puma Secondary            0   \n",
       "3  FINN WATER  38.058046  -9.418672           Kwa Mzee Pange            0   \n",
       "4      BRUDER  35.006123 -10.950412          Kwa Mzee Turuka            0   \n",
       "\n",
       "                     basin  subvillage   region  region_code  district_code  \\\n",
       "0                 Internal      Magoma  Manyara           21              3   \n",
       "1                  Pangani     Kimnyak   Arusha            2              2   \n",
       "2                 Internal       Msatu  Singida           13              2   \n",
       "3  Ruvuma / Southern Coast  Kipindimbi    Lindi           80             43   \n",
       "4  Ruvuma / Southern Coast     Losonga   Ruvuma           10              3   \n",
       "\n",
       "             lga          ward  population public_meeting  \\\n",
       "0          Mbulu        Bashay         321           True   \n",
       "1   Arusha Rural      Kimnyaki         300           True   \n",
       "2  Singida Rural          Puma         500           True   \n",
       "3         Liwale       Mkutano         250            NaN   \n",
       "4         Mbinga  Mbinga Urban          60            NaN   \n",
       "\n",
       "               recorded_by scheme_management     scheme_name permit  \\\n",
       "0  GeoData Consultants Ltd        Parastatal             NaN   True   \n",
       "1  GeoData Consultants Ltd               VWC  TPRI pipe line   True   \n",
       "2  GeoData Consultants Ltd               VWC               P    NaN   \n",
       "3  GeoData Consultants Ltd               VWC             NaN   True   \n",
       "4  GeoData Consultants Ltd       Water Board          BRUDER   True   \n",
       "\n",
       "   construction_year extraction_type extraction_type_group  \\\n",
       "0               2012           other                 other   \n",
       "1               2000         gravity               gravity   \n",
       "2               2010           other                 other   \n",
       "3               1987           other                 other   \n",
       "4               2000         gravity               gravity   \n",
       "\n",
       "  extraction_type_class   management management_group      payment  \\\n",
       "0                 other   parastatal       parastatal    never pay   \n",
       "1               gravity          vwc       user-group    never pay   \n",
       "2                 other          vwc       user-group    never pay   \n",
       "3                 other          vwc       user-group      unknown   \n",
       "4               gravity  water board       user-group  pay monthly   \n",
       "\n",
       "  payment_type water_quality quality_group      quantity quantity_group  \\\n",
       "0    never pay          soft          good      seasonal       seasonal   \n",
       "1    never pay          soft          good  insufficient   insufficient   \n",
       "2    never pay          soft          good  insufficient   insufficient   \n",
       "3      unknown          soft          good           dry            dry   \n",
       "4      monthly          soft          good        enough         enough   \n",
       "\n",
       "                 source           source_type source_class  \\\n",
       "0  rainwater harvesting  rainwater harvesting      surface   \n",
       "1                spring                spring  groundwater   \n",
       "2  rainwater harvesting  rainwater harvesting      surface   \n",
       "3          shallow well          shallow well  groundwater   \n",
       "4                spring                spring  groundwater   \n",
       "\n",
       "      waterpoint_type waterpoint_type_group  \n",
       "0               other                 other  \n",
       "1  communal standpipe    communal standpipe  \n",
       "2               other                 other  \n",
       "3               other                 other  \n",
       "4  communal standpipe    communal standpipe  "
      ],
      "text/html": "<div>\n<style scoped>\n    .dataframe tbody tr th:only-of-type {\n        vertical-align: middle;\n    }\n\n    .dataframe tbody tr th {\n        vertical-align: top;\n    }\n\n    .dataframe thead th {\n        text-align: right;\n    }\n</style>\n<table border=\"1\" class=\"dataframe\">\n  <thead>\n    <tr style=\"text-align: right;\">\n      <th></th>\n      <th>id</th>\n      <th>amount_tsh</th>\n      <th>date_recorded</th>\n      <th>funder</th>\n      <th>gps_height</th>\n      <th>installer</th>\n      <th>longitude</th>\n      <th>latitude</th>\n      <th>wpt_name</th>\n      <th>num_private</th>\n      <th>basin</th>\n      <th>subvillage</th>\n      <th>region</th>\n      <th>region_code</th>\n      <th>district_code</th>\n      <th>lga</th>\n      <th>ward</th>\n      <th>population</th>\n      <th>public_meeting</th>\n      <th>recorded_by</th>\n      <th>scheme_management</th>\n      <th>scheme_name</th>\n      <th>permit</th>\n      <th>construction_year</th>\n      <th>extraction_type</th>\n      <th>extraction_type_group</th>\n      <th>extraction_type_class</th>\n      <th>management</th>\n      <th>management_group</th>\n      <th>payment</th>\n      <th>payment_type</th>\n      <th>water_quality</th>\n      <th>quality_group</th>\n      <th>quantity</th>\n      <th>quantity_group</th>\n      <th>source</th>\n      <th>source_type</th>\n      <th>source_class</th>\n      <th>waterpoint_type</th>\n      <th>waterpoint_type_group</th>\n    </tr>\n  </thead>\n  <tbody>\n    <tr>\n      <th>0</th>\n      <td>50785</td>\n      <td>0.0</td>\n      <td>2013-02-04</td>\n      <td>Dmdd</td>\n      <td>1996</td>\n      <td>DMDD</td>\n      <td>35.290799</td>\n      <td>-4.059696</td>\n      <td>Dinamu Secondary School</td>\n      <td>0</td>\n      <td>Internal</td>\n      <td>Magoma</td>\n      <td>Manyara</td>\n      <td>21</td>\n      <td>3</td>\n      <td>Mbulu</td>\n      <td>Bashay</td>\n      <td>321</td>\n      <td>True</td>\n      <td>GeoData Consultants Ltd</td>\n      <td>Parastatal</td>\n      <td>NaN</td>\n      <td>True</td>\n      <td>2012</td>\n      <td>other</td>\n      <td>other</td>\n      <td>other</td>\n      <td>parastatal</td>\n      <td>parastatal</td>\n      <td>never pay</td>\n      <td>never pay</td>\n      <td>soft</td>\n      <td>good</td>\n      <td>seasonal</td>\n      <td>seasonal</td>\n      <td>rainwater harvesting</td>\n      <td>rainwater harvesting</td>\n      <td>surface</td>\n      <td>other</td>\n      <td>other</td>\n    </tr>\n    <tr>\n      <th>1</th>\n      <td>51630</td>\n      <td>0.0</td>\n      <td>2013-02-04</td>\n      <td>Government Of Tanzania</td>\n      <td>1569</td>\n      <td>DWE</td>\n      <td>36.656709</td>\n      <td>-3.309214</td>\n      <td>Kimnyak</td>\n      <td>0</td>\n      <td>Pangani</td>\n      <td>Kimnyak</td>\n      <td>Arusha</td>\n      <td>2</td>\n      <td>2</td>\n      <td>Arusha Rural</td>\n      <td>Kimnyaki</td>\n      <td>300</td>\n      <td>True</td>\n      <td>GeoData Consultants Ltd</td>\n      <td>VWC</td>\n      <td>TPRI pipe line</td>\n      <td>True</td>\n      <td>2000</td>\n      <td>gravity</td>\n      <td>gravity</td>\n      <td>gravity</td>\n      <td>vwc</td>\n      <td>user-group</td>\n      <td>never pay</td>\n      <td>never pay</td>\n      <td>soft</td>\n      <td>good</td>\n      <td>insufficient</td>\n      <td>insufficient</td>\n      <td>spring</td>\n      <td>spring</td>\n      <td>groundwater</td>\n      <td>communal standpipe</td>\n      <td>communal standpipe</td>\n    </tr>\n    <tr>\n      <th>2</th>\n      <td>17168</td>\n      <td>0.0</td>\n      <td>2013-02-01</td>\n      <td>NaN</td>\n      <td>1567</td>\n      <td>NaN</td>\n      <td>34.767863</td>\n      <td>-5.004344</td>\n      <td>Puma Secondary</td>\n      <td>0</td>\n      <td>Internal</td>\n      <td>Msatu</td>\n      <td>Singida</td>\n      <td>13</td>\n      <td>2</td>\n      <td>Singida Rural</td>\n      <td>Puma</td>\n      <td>500</td>\n      <td>True</td>\n      <td>GeoData Consultants Ltd</td>\n      <td>VWC</td>\n      <td>P</td>\n      <td>NaN</td>\n      <td>2010</td>\n      <td>other</td>\n      <td>other</td>\n      <td>other</td>\n      <td>vwc</td>\n      <td>user-group</td>\n      <td>never pay</td>\n      <td>never pay</td>\n      <td>soft</td>\n      <td>good</td>\n      <td>insufficient</td>\n      <td>insufficient</td>\n      <td>rainwater harvesting</td>\n      <td>rainwater harvesting</td>\n      <td>surface</td>\n      <td>other</td>\n      <td>other</td>\n    </tr>\n    <tr>\n      <th>3</th>\n      <td>45559</td>\n      <td>0.0</td>\n      <td>2013-01-22</td>\n      <td>Finn Water</td>\n      <td>267</td>\n      <td>FINN WATER</td>\n      <td>38.058046</td>\n      <td>-9.418672</td>\n      <td>Kwa Mzee Pange</td>\n      <td>0</td>\n      <td>Ruvuma / Southern Coast</td>\n      <td>Kipindimbi</td>\n      <td>Lindi</td>\n      <td>80</td>\n      <td>43</td>\n      <td>Liwale</td>\n      <td>Mkutano</td>\n      <td>250</td>\n      <td>NaN</td>\n      <td>GeoData Consultants Ltd</td>\n      <td>VWC</td>\n      <td>NaN</td>\n      <td>True</td>\n      <td>1987</td>\n      <td>other</td>\n      <td>other</td>\n      <td>other</td>\n      <td>vwc</td>\n      <td>user-group</td>\n      <td>unknown</td>\n      <td>unknown</td>\n      <td>soft</td>\n      <td>good</td>\n      <td>dry</td>\n      <td>dry</td>\n      <td>shallow well</td>\n      <td>shallow well</td>\n      <td>groundwater</td>\n      <td>other</td>\n      <td>other</td>\n    </tr>\n    <tr>\n      <th>4</th>\n      <td>49871</td>\n      <td>500.0</td>\n      <td>2013-03-27</td>\n      <td>Bruder</td>\n      <td>1260</td>\n      <td>BRUDER</td>\n      <td>35.006123</td>\n      <td>-10.950412</td>\n      <td>Kwa Mzee Turuka</td>\n      <td>0</td>\n      <td>Ruvuma / Southern Coast</td>\n      <td>Losonga</td>\n      <td>Ruvuma</td>\n      <td>10</td>\n      <td>3</td>\n      <td>Mbinga</td>\n      <td>Mbinga Urban</td>\n      <td>60</td>\n      <td>NaN</td>\n      <td>GeoData Consultants Ltd</td>\n      <td>Water Board</td>\n      <td>BRUDER</td>\n      <td>True</td>\n      <td>2000</td>\n      <td>gravity</td>\n      <td>gravity</td>\n      <td>gravity</td>\n      <td>water board</td>\n      <td>user-group</td>\n      <td>pay monthly</td>\n      <td>monthly</td>\n      <td>soft</td>\n      <td>good</td>\n      <td>enough</td>\n      <td>enough</td>\n      <td>spring</td>\n      <td>spring</td>\n      <td>groundwater</td>\n      <td>communal standpipe</td>\n      <td>communal standpipe</td>\n    </tr>\n  </tbody>\n</table>\n</div>"
     },
     "metadata": {},
     "execution_count": 13
    }
   ],
   "source": [
    "testData.head()"
   ]
  },
  {
   "cell_type": "code",
   "execution_count": 8,
   "metadata": {
    "colab": {
     "base_uri": "https://localhost:8080/",
     "height": 297
    },
    "id": "-xwd4cj1DFgq",
    "outputId": "aa84f5b7-752e-4e7c-d8e2-a32f1dc9d920"
   },
   "outputs": [
    {
     "output_type": "execute_result",
     "data": {
      "text/plain": [
       "                 id     amount_tsh    gps_height     longitude      latitude  \\\n",
       "count  59400.000000   59400.000000  59400.000000  59400.000000  5.940000e+04   \n",
       "mean   37115.131768     317.650385    668.297239     34.077427 -5.706033e+00   \n",
       "std    21453.128371    2997.574558    693.116350      6.567432  2.946019e+00   \n",
       "min        0.000000       0.000000    -90.000000      0.000000 -1.164944e+01   \n",
       "25%    18519.750000       0.000000      0.000000     33.090347 -8.540621e+00   \n",
       "50%    37061.500000       0.000000    369.000000     34.908743 -5.021597e+00   \n",
       "75%    55656.500000      20.000000   1319.250000     37.178387 -3.326156e+00   \n",
       "max    74247.000000  350000.000000   2770.000000     40.345193 -2.000000e-08   \n",
       "\n",
       "        num_private   region_code  district_code    population  \\\n",
       "count  59400.000000  59400.000000   59400.000000  59400.000000   \n",
       "mean       0.474141     15.297003       5.629747    179.909983   \n",
       "std       12.236230     17.587406       9.633649    471.482176   \n",
       "min        0.000000      1.000000       0.000000      0.000000   \n",
       "25%        0.000000      5.000000       2.000000      0.000000   \n",
       "50%        0.000000     12.000000       3.000000     25.000000   \n",
       "75%        0.000000     17.000000       5.000000    215.000000   \n",
       "max     1776.000000     99.000000      80.000000  30500.000000   \n",
       "\n",
       "       construction_year  \n",
       "count       59400.000000  \n",
       "mean         1300.652475  \n",
       "std           951.620547  \n",
       "min             0.000000  \n",
       "25%             0.000000  \n",
       "50%          1986.000000  \n",
       "75%          2004.000000  \n",
       "max          2013.000000  "
      ],
      "text/html": "<div>\n<style scoped>\n    .dataframe tbody tr th:only-of-type {\n        vertical-align: middle;\n    }\n\n    .dataframe tbody tr th {\n        vertical-align: top;\n    }\n\n    .dataframe thead th {\n        text-align: right;\n    }\n</style>\n<table border=\"1\" class=\"dataframe\">\n  <thead>\n    <tr style=\"text-align: right;\">\n      <th></th>\n      <th>id</th>\n      <th>amount_tsh</th>\n      <th>gps_height</th>\n      <th>longitude</th>\n      <th>latitude</th>\n      <th>num_private</th>\n      <th>region_code</th>\n      <th>district_code</th>\n      <th>population</th>\n      <th>construction_year</th>\n    </tr>\n  </thead>\n  <tbody>\n    <tr>\n      <th>count</th>\n      <td>59400.000000</td>\n      <td>59400.000000</td>\n      <td>59400.000000</td>\n      <td>59400.000000</td>\n      <td>5.940000e+04</td>\n      <td>59400.000000</td>\n      <td>59400.000000</td>\n      <td>59400.000000</td>\n      <td>59400.000000</td>\n      <td>59400.000000</td>\n    </tr>\n    <tr>\n      <th>mean</th>\n      <td>37115.131768</td>\n      <td>317.650385</td>\n      <td>668.297239</td>\n      <td>34.077427</td>\n      <td>-5.706033e+00</td>\n      <td>0.474141</td>\n      <td>15.297003</td>\n      <td>5.629747</td>\n      <td>179.909983</td>\n      <td>1300.652475</td>\n    </tr>\n    <tr>\n      <th>std</th>\n      <td>21453.128371</td>\n      <td>2997.574558</td>\n      <td>693.116350</td>\n      <td>6.567432</td>\n      <td>2.946019e+00</td>\n      <td>12.236230</td>\n      <td>17.587406</td>\n      <td>9.633649</td>\n      <td>471.482176</td>\n      <td>951.620547</td>\n    </tr>\n    <tr>\n      <th>min</th>\n      <td>0.000000</td>\n      <td>0.000000</td>\n      <td>-90.000000</td>\n      <td>0.000000</td>\n      <td>-1.164944e+01</td>\n      <td>0.000000</td>\n      <td>1.000000</td>\n      <td>0.000000</td>\n      <td>0.000000</td>\n      <td>0.000000</td>\n    </tr>\n    <tr>\n      <th>25%</th>\n      <td>18519.750000</td>\n      <td>0.000000</td>\n      <td>0.000000</td>\n      <td>33.090347</td>\n      <td>-8.540621e+00</td>\n      <td>0.000000</td>\n      <td>5.000000</td>\n      <td>2.000000</td>\n      <td>0.000000</td>\n      <td>0.000000</td>\n    </tr>\n    <tr>\n      <th>50%</th>\n      <td>37061.500000</td>\n      <td>0.000000</td>\n      <td>369.000000</td>\n      <td>34.908743</td>\n      <td>-5.021597e+00</td>\n      <td>0.000000</td>\n      <td>12.000000</td>\n      <td>3.000000</td>\n      <td>25.000000</td>\n      <td>1986.000000</td>\n    </tr>\n    <tr>\n      <th>75%</th>\n      <td>55656.500000</td>\n      <td>20.000000</td>\n      <td>1319.250000</td>\n      <td>37.178387</td>\n      <td>-3.326156e+00</td>\n      <td>0.000000</td>\n      <td>17.000000</td>\n      <td>5.000000</td>\n      <td>215.000000</td>\n      <td>2004.000000</td>\n    </tr>\n    <tr>\n      <th>max</th>\n      <td>74247.000000</td>\n      <td>350000.000000</td>\n      <td>2770.000000</td>\n      <td>40.345193</td>\n      <td>-2.000000e-08</td>\n      <td>1776.000000</td>\n      <td>99.000000</td>\n      <td>80.000000</td>\n      <td>30500.000000</td>\n      <td>2013.000000</td>\n    </tr>\n  </tbody>\n</table>\n</div>"
     },
     "metadata": {},
     "execution_count": 8
    }
   ],
   "source": [
    "projectData.describe()"
   ]
  },
  {
   "cell_type": "code",
   "execution_count": 9,
   "metadata": {
    "colab": {
     "base_uri": "https://localhost:8080/"
    },
    "id": "a02yCAfYDM_D",
    "outputId": "d3a98e55-1e9e-4930-e323-9b57ed1df6c0"
   },
   "outputs": [
    {
     "output_type": "stream",
     "name": "stdout",
     "text": [
      "<class 'pandas.core.frame.DataFrame'>\nInt64Index: 59400 entries, 0 to 59399\nData columns (total 41 columns):\n #   Column                 Non-Null Count  Dtype  \n---  ------                 --------------  -----  \n 0   id                     59400 non-null  int64  \n 1   amount_tsh             59400 non-null  float64\n 2   date_recorded          59400 non-null  object \n 3   funder                 55765 non-null  object \n 4   gps_height             59400 non-null  int64  \n 5   installer              55745 non-null  object \n 6   longitude              59400 non-null  float64\n 7   latitude               59400 non-null  float64\n 8   wpt_name               59400 non-null  object \n 9   num_private            59400 non-null  int64  \n 10  basin                  59400 non-null  object \n 11  subvillage             59029 non-null  object \n 12  region                 59400 non-null  object \n 13  region_code            59400 non-null  int64  \n 14  district_code          59400 non-null  int64  \n 15  lga                    59400 non-null  object \n 16  ward                   59400 non-null  object \n 17  population             59400 non-null  int64  \n 18  public_meeting         56066 non-null  object \n 19  recorded_by            59400 non-null  object \n 20  scheme_management      55523 non-null  object \n 21  scheme_name            31234 non-null  object \n 22  permit                 56344 non-null  object \n 23  construction_year      59400 non-null  int64  \n 24  extraction_type        59400 non-null  object \n 25  extraction_type_group  59400 non-null  object \n 26  extraction_type_class  59400 non-null  object \n 27  management             59400 non-null  object \n 28  management_group       59400 non-null  object \n 29  payment                59400 non-null  object \n 30  payment_type           59400 non-null  object \n 31  water_quality          59400 non-null  object \n 32  quality_group          59400 non-null  object \n 33  quantity               59400 non-null  object \n 34  quantity_group         59400 non-null  object \n 35  source                 59400 non-null  object \n 36  source_type            59400 non-null  object \n 37  source_class           59400 non-null  object \n 38  waterpoint_type        59400 non-null  object \n 39  waterpoint_type_group  59400 non-null  object \n 40  status_group           59400 non-null  object \ndtypes: float64(3), int64(7), object(31)\nmemory usage: 19.0+ MB\n"
     ]
    }
   ],
   "source": [
    "projectData.info()"
   ]
  },
  {
   "cell_type": "code",
   "execution_count": 10,
   "metadata": {
    "colab": {
     "base_uri": "https://localhost:8080/"
    },
    "id": "Z1gWHe3K13-p",
    "outputId": "62909011-8018-414b-acd7-a785a964da1b"
   },
   "outputs": [
    {
     "output_type": "execute_result",
     "data": {
      "text/plain": [
       "0       20709\n",
       "2010     2645\n",
       "2008     2613\n",
       "2009     2533\n",
       "2000     2091\n",
       "2007     1587\n",
       "2006     1471\n",
       "2003     1286\n",
       "2011     1256\n",
       "2004     1123\n",
       "2012     1084\n",
       "2002     1075\n",
       "1978     1037\n",
       "1995     1014\n",
       "2005     1011\n",
       "1999      979\n",
       "1998      966\n",
       "1990      954\n",
       "1985      945\n",
       "1980      811\n",
       "1996      811\n",
       "1984      779\n",
       "1982      744\n",
       "1994      738\n",
       "1972      708\n",
       "1974      676\n",
       "1997      644\n",
       "1992      640\n",
       "1993      608\n",
       "2001      540\n",
       "1988      521\n",
       "1983      488\n",
       "1975      437\n",
       "1986      434\n",
       "1976      414\n",
       "1970      411\n",
       "1991      324\n",
       "1989      316\n",
       "1987      302\n",
       "1981      238\n",
       "1977      202\n",
       "1979      192\n",
       "1973      184\n",
       "2013      176\n",
       "1971      145\n",
       "1960      102\n",
       "1967       88\n",
       "1963       85\n",
       "1968       77\n",
       "1969       59\n",
       "1964       40\n",
       "1962       30\n",
       "1961       21\n",
       "1965       19\n",
       "1966       17\n",
       "Name: construction_year, dtype: int64"
      ]
     },
     "metadata": {},
     "execution_count": 10
    }
   ],
   "source": [
    "projectData['construction_year'].value_counts()"
   ]
  },
  {
   "cell_type": "markdown",
   "metadata": {
    "id": "af7P4k6O2NBv"
   },
   "source": [
    "We have too many 0 values in construction_year so instead of removing them, we will replace them with the mean of all the other values."
   ]
  },
  {
   "cell_type": "code",
   "execution_count": 14,
   "metadata": {
    "colab": {
     "base_uri": "https://localhost:8080/"
    },
    "id": "4JJhEb3DZ2my",
    "outputId": "8121172e-3a06-4f77-9ced-ccdaf6260d6b"
   },
   "outputs": [],
   "source": [
    "projectData['construction_year'] = projectData['construction_year'].replace(0, np.NaN)\n",
    "testData['construction_year'] = testData['construction_year'].replace(0, np.NaN)\n",
    "X = projectData.iloc[:, 23:25].values\n",
    "X2 = testData.iloc[:, 22:24].values"
   ]
  },
  {
   "cell_type": "code",
   "execution_count": 19,
   "metadata": {},
   "outputs": [
    {
     "output_type": "execute_result",
     "data": {
      "text/plain": [
       "array([[1999.0, 'gravity'],\n",
       "       [2010.0, 'gravity'],\n",
       "       [2009.0, 'gravity'],\n",
       "       ...,\n",
       "       [nan, 'swn 80'],\n",
       "       [nan, 'nira/tanira'],\n",
       "       [2002.0, 'nira/tanira']], dtype=object)"
      ]
     },
     "metadata": {},
     "execution_count": 19
    }
   ],
   "source": [
    "X"
   ]
  },
  {
   "cell_type": "code",
   "execution_count": 20,
   "metadata": {
    "id": "dy-jHx_5N9dT"
   },
   "outputs": [],
   "source": [
    "from sklearn.impute import SimpleImputer\n",
    "imputer1 = SimpleImputer(missing_values=np.nan, strategy='mean')\n",
    "imputer2 = SimpleImputer(missing_values=np.nan, strategy='mean')\n",
    "imputer1.fit(X[:, 0:1])\n",
    "imputer2.fit(X2[:, 1:2])\n",
    "projectData['construction_year'] = imputer1.transform(X[:, 0:1])\n",
    "testData['construction_year'] = imputer1.transform(X2[:, 1:2])"
   ]
  },
  {
   "cell_type": "markdown",
   "metadata": {
    "id": "tPPeXE0Q2nuv"
   },
   "source": [
    "We are going to change the date_recorded column from type object to datetime64"
   ]
  },
  {
   "cell_type": "code",
   "execution_count": 22,
   "metadata": {
    "colab": {
     "base_uri": "https://localhost:8080/"
    },
    "id": "pbojYYfch7oJ",
    "outputId": "0d946247-857f-4da0-b305-162d74ae5fd9"
   },
   "outputs": [],
   "source": [
    "projectData['date_recorded'] = pd.to_datetime(projectData['date_recorded'], format='%Y-%m-%d')\n",
    "testData['date_recorded'] = pd.to_datetime(testData['date_recorded'], format='%Y-%m-%d')"
   ]
  },
  {
   "source": [
    "projectData['id'].value_counts()"
   ],
   "cell_type": "code",
   "metadata": {
    "colab": {
     "base_uri": "https://localhost:8080/"
    },
    "id": "BMi9VBuv4WJt",
    "outputId": "4290e284-b798-46b9-8864-159d933f6b28"
   },
   "execution_count": null,
   "outputs": []
  },
  {
   "cell_type": "markdown",
   "metadata": {
    "id": "0aKD2QMM4Zbc"
   },
   "source": [
    "id is a unique value and is useless for our model."
   ]
  },
  {
   "cell_type": "code",
   "execution_count": 25,
   "metadata": {
    "id": "-7laFWLI4cmk"
   },
   "outputs": [],
   "source": [
    "projectData.drop('id',axis='columns', inplace=True)\n",
    "testData.drop('id',axis='columns', inplace=True)"
   ]
  },
  {
   "source": [
    "projectData['funder'].value_counts()"
   ],
   "cell_type": "code",
   "metadata": {
    "colab": {
     "base_uri": "https://localhost:8080/"
    },
    "id": "qLz2o_Om2x8V",
    "outputId": "76b89692-c99f-48f2-d35e-5ec9e65be0e2"
   },
   "execution_count": null,
   "outputs": []
  },
  {
   "cell_type": "code",
   "execution_count": 36,
   "metadata": {
    "id": "2ccXt4PrjxU4"
   },
   "outputs": [],
   "source": [
    "def clean_funder(projectData):\n",
    "  if projectData['funder'] == 'Government Of Tanzania':\n",
    "    return 'Government of Tanzania'\n",
    "  elif projectData['funder']=='Danida':\n",
    "    return 'Danida'\n",
    "  elif projectData['funder']=='Hesawa':\n",
    "    return 'Hesawa'\n",
    "  elif projectData['funder']=='Rwssp':\n",
    "    return 'Rwssp'\n",
    "  elif projectData['funder']=='World Bank':\n",
    "    return 'World Bank'    \n",
    "  else:\n",
    "    return 'other'\n",
    "\n",
    "projectData['funder']= projectData.apply(lambda row: clean_funder(row), axis=1)\n",
    "testData['funder']= testData.apply(lambda row: clean_funder(row), axis=1)"
   ]
  },
  {
   "cell_type": "markdown",
   "metadata": {
    "id": "iV8A3aocEGyr"
   },
   "source": [
    "So with this method on funder column, we kept the top 5 values and changed all else to other. Which can be useful when we are using Categorical Encoding"
   ]
  },
  {
   "cell_type": "code",
   "execution_count": 1006,
   "metadata": {
    "colab": {
     "base_uri": "https://localhost:8080/"
    },
    "id": "DbBcjqGCEDHT",
    "outputId": "83562738-b010-4503-d97c-4f7522b1bc0d"
   },
   "outputs": [
    {
     "data": {
      "text/plain": [
       "other                     42277\n",
       "Government of Tanzania     9084\n",
       "Danida                     3114\n",
       "Hesawa                     2202\n",
       "Rwssp                      1374\n",
       "World Bank                 1349\n",
       "Name: funder, dtype: int64"
      ]
     },
     "execution_count": 1006,
     "metadata": {},
     "output_type": "execute_result"
    }
   ],
   "source": [
    "projectData['funder'].value_counts()"
   ]
  },
  {
   "source": [
    "projectData['installer'].value_counts()"
   ],
   "cell_type": "code",
   "metadata": {
    "colab": {
     "base_uri": "https://localhost:8080/"
    },
    "id": "DcYHq3id26IG",
    "outputId": "273f4ecb-c157-4b3e-f7d5-858c0fe7a191"
   },
   "execution_count": null,
   "outputs": []
  },
  {
   "cell_type": "code",
   "execution_count": 35,
   "metadata": {
    "id": "edXlErbfEWNQ"
   },
   "outputs": [],
   "source": [
    "def clean_installer(projectData):\n",
    "  if projectData['installer'] == 'DWE':\n",
    "    return 'DWE'\n",
    "  elif projectData['installer']=='Government':\n",
    "    return 'Government'\n",
    "  elif projectData['installer']=='RWE':\n",
    "    return 'RWE'\n",
    "  elif projectData['installer']=='Commu':\n",
    "    return 'Commu'\n",
    "  elif projectData['installer']=='DANIDA':\n",
    "    return 'DANIDA'    \n",
    "  else:\n",
    "    return 'other_installer'\n",
    "\n",
    "projectData['installer']= projectData.apply(lambda row: clean_installer(row), axis=1)\n",
    "testData['installer']= testData.apply(lambda row: clean_installer(row), axis=1)"
   ]
  },
  {
   "cell_type": "code",
   "execution_count": 1009,
   "metadata": {
    "colab": {
     "base_uri": "https://localhost:8080/"
    },
    "id": "OjaF5BvuEmyx",
    "outputId": "4a6d0fc4-5686-4549-e3d8-b67afc321e8c"
   },
   "outputs": [
    {
     "data": {
      "text/plain": [
       "other_installer    36857\n",
       "DWE                17402\n",
       "Government          1825\n",
       "RWE                 1206\n",
       "Commu               1060\n",
       "DANIDA              1050\n",
       "Name: installer, dtype: int64"
      ]
     },
     "execution_count": 1009,
     "metadata": {},
     "output_type": "execute_result"
    }
   ],
   "source": [
    "projectData['installer'].value_counts()"
   ]
  },
  {
   "cell_type": "markdown",
   "metadata": {
    "id": "N7ao3WOtEwiq"
   },
   "source": [
    "So with this method on installer column, we kept the top 5 values and changed all else to other. Which can be useful when we are using Categorical Encoding"
   ]
  },
  {
   "source": [
    "projectData['wpt_name'].value_counts()"
   ],
   "cell_type": "code",
   "metadata": {
    "colab": {
     "base_uri": "https://localhost:8080/"
    },
    "id": "ANi-5dBT2-qW",
    "outputId": "fe65c437-449e-4f1b-9a08-f1717ad8d551"
   },
   "execution_count": null,
   "outputs": []
  },
  {
   "cell_type": "markdown",
   "metadata": {
    "id": "rQVbgnvD3EfF"
   },
   "source": [
    "wpt_name column data looks too varied to be useful."
   ]
  },
  {
   "cell_type": "code",
   "execution_count": 27,
   "metadata": {
    "id": "zVfCTUn6kTQV"
   },
   "outputs": [],
   "source": [
    "projectData.drop('wpt_name',axis='columns', inplace=True)\n",
    "testData.drop('wpt_name',axis='columns', inplace=True)"
   ]
  },
  {
   "source": [
    "projectData['num_private'].value_counts()"
   ],
   "cell_type": "code",
   "metadata": {
    "colab": {
     "base_uri": "https://localhost:8080/"
    },
    "id": "aT7_nq4o3OUL",
    "outputId": "d9ff348b-a109-4e9c-ff0c-c3e1dfe5966f"
   },
   "execution_count": null,
   "outputs": []
  },
  {
   "cell_type": "markdown",
   "metadata": {
    "id": "ZB8TgaOP3Q1e"
   },
   "source": [
    "num_private data is definately useless with almost all rows with the value of \"0\""
   ]
  },
  {
   "cell_type": "code",
   "execution_count": 28,
   "metadata": {
    "id": "OQ0RT8oslZKC"
   },
   "outputs": [],
   "source": [
    "projectData.drop('num_private',axis='columns', inplace=True)\n",
    "testData.drop('num_private',axis='columns', inplace=True)"
   ]
  },
  {
   "source": [
    "projectData['subvillage'].value_counts()"
   ],
   "cell_type": "code",
   "metadata": {
    "colab": {
     "base_uri": "https://localhost:8080/"
    },
    "id": "hx1gttqQ3cP3",
    "outputId": "134ef24b-a664-4d84-dd09-46a99b4d0300"
   },
   "execution_count": null,
   "outputs": []
  },
  {
   "cell_type": "markdown",
   "metadata": {
    "id": "N9Qc_zkr3gYF"
   },
   "source": [
    "subvillage column data looks too varied to be useful."
   ]
  },
  {
   "cell_type": "code",
   "execution_count": 29,
   "metadata": {
    "id": "MMXDdBPUlg8Z"
   },
   "outputs": [],
   "source": [
    "projectData.drop('subvillage',axis='columns', inplace=True)\n",
    "testData.drop('subvillage',axis='columns', inplace=True)"
   ]
  },
  {
   "source": [
    "projectData['ward'].value_counts()"
   ],
   "cell_type": "code",
   "metadata": {
    "colab": {
     "base_uri": "https://localhost:8080/"
    },
    "id": "YDUncdt_3qHm",
    "outputId": "2fe04481-3f4e-4a7c-c842-531538186c35"
   },
   "execution_count": null,
   "outputs": []
  },
  {
   "cell_type": "code",
   "execution_count": 34,
   "metadata": {
    "id": "mkpucvzNFf5s"
   },
   "outputs": [],
   "source": [
    "def clean_ward(projectData):\n",
    "  if projectData['ward'] == 'Igosi':\n",
    "    return 'Igosi'\n",
    "  elif projectData['ward']=='Imalinyi':\n",
    "    return 'Imalinyi'\n",
    "  elif projectData['ward']=='Siha Kati':\n",
    "    return 'Siha Kati'\n",
    "  elif projectData['ward']=='Mdandu':\n",
    "    return 'Mdandu'\n",
    "  elif projectData['ward']=='Nduruma':\n",
    "    return 'Nduruma'    \n",
    "  else:\n",
    "    return 'other_ward'\n",
    "\n",
    "projectData['ward']= projectData.apply(lambda row: clean_ward(row), axis=1)\n",
    "testData['ward']= testData.apply(lambda row: clean_ward(row), axis=1)"
   ]
  },
  {
   "cell_type": "code",
   "execution_count": 1018,
   "metadata": {
    "colab": {
     "base_uri": "https://localhost:8080/"
    },
    "id": "RQKfFySTrg50",
    "outputId": "d48ec995-8932-4f3a-8614-5ccb1386f09c"
   },
   "outputs": [
    {
     "data": {
      "text/plain": [
       "other_ward    58161\n",
       "Igosi           307\n",
       "Imalinyi        252\n",
       "Siha Kati       232\n",
       "Mdandu          231\n",
       "Nduruma         217\n",
       "Name: ward, dtype: int64"
      ]
     },
     "execution_count": 1018,
     "metadata": {},
     "output_type": "execute_result"
    }
   ],
   "source": [
    "projectData['ward'].value_counts()"
   ]
  },
  {
   "cell_type": "code",
   "execution_count": 1019,
   "metadata": {
    "colab": {
     "base_uri": "https://localhost:8080/"
    },
    "id": "El7pHvWJ3sq0",
    "outputId": "823dc145-41a8-4e84-ae6f-6f63f84f6e43"
   },
   "outputs": [
    {
     "data": {
      "text/plain": [
       "GeoData Consultants Ltd    59400\n",
       "Name: recorded_by, dtype: int64"
      ]
     },
     "execution_count": 1019,
     "metadata": {},
     "output_type": "execute_result"
    }
   ],
   "source": [
    "projectData['recorded_by'].value_counts()"
   ]
  },
  {
   "cell_type": "markdown",
   "metadata": {
    "id": "fXb7-HCw3vXj"
   },
   "source": [
    "recorded_by column only has only one data and is useless."
   ]
  },
  {
   "cell_type": "code",
   "execution_count": 30,
   "metadata": {
    "id": "eCrAydYYrtqk"
   },
   "outputs": [],
   "source": [
    "projectData.drop('recorded_by',axis='columns', inplace=True)\n",
    "testData.drop('recorded_by',axis='columns', inplace=True)"
   ]
  },
  {
   "cell_type": "code",
   "execution_count": 1021,
   "metadata": {
    "colab": {
     "base_uri": "https://localhost:8080/"
    },
    "id": "Z_Sj0L-X35GU",
    "outputId": "35654660-ea2d-4c7c-c36d-fa3c5982c603"
   },
   "outputs": [
    {
     "data": {
      "text/plain": [
       "never pay                25348\n",
       "pay per bucket            8985\n",
       "pay monthly               8300\n",
       "unknown                   8157\n",
       "pay when scheme fails     3914\n",
       "pay annually              3642\n",
       "other                     1054\n",
       "Name: payment, dtype: int64"
      ]
     },
     "execution_count": 1021,
     "metadata": {},
     "output_type": "execute_result"
    }
   ],
   "source": [
    "projectData['payment'].value_counts()"
   ]
  },
  {
   "cell_type": "code",
   "execution_count": 1022,
   "metadata": {
    "colab": {
     "base_uri": "https://localhost:8080/"
    },
    "id": "sRdoi9EA4BRL",
    "outputId": "89da1abb-0ba0-4719-a6f1-f1e9d8acfe2b"
   },
   "outputs": [
    {
     "data": {
      "text/plain": [
       "never pay     25348\n",
       "per bucket     8985\n",
       "monthly        8300\n",
       "unknown        8157\n",
       "on failure     3914\n",
       "annually       3642\n",
       "other          1054\n",
       "Name: payment_type, dtype: int64"
      ]
     },
     "execution_count": 1022,
     "metadata": {},
     "output_type": "execute_result"
    }
   ],
   "source": [
    "projectData['payment_type'].value_counts()"
   ]
  },
  {
   "cell_type": "markdown",
   "metadata": {
    "id": "GU1yeXXE4Fpy"
   },
   "source": [
    "payment and payment_type are correlated and so one of the column is useless."
   ]
  },
  {
   "cell_type": "code",
   "execution_count": 31,
   "metadata": {
    "id": "TvEfkZSTt9eo"
   },
   "outputs": [],
   "source": [
    "projectData.drop('payment',axis='columns', inplace=True)\n",
    "testData.drop('payment',axis='columns', inplace=True)"
   ]
  },
  {
   "cell_type": "code",
   "execution_count": 1024,
   "metadata": {
    "colab": {
     "base_uri": "https://localhost:8080/"
    },
    "id": "fyQPWvTu5ZO5",
    "outputId": "251afef4-2e0f-4050-9e55-d907d16a4e85"
   },
   "outputs": [
    {
     "data": {
      "text/plain": [
       "enough          33186\n",
       "insufficient    15129\n",
       "dry              6246\n",
       "seasonal         4050\n",
       "unknown           789\n",
       "Name: quantity, dtype: int64"
      ]
     },
     "execution_count": 1024,
     "metadata": {},
     "output_type": "execute_result"
    }
   ],
   "source": [
    "projectData['quantity'].value_counts()"
   ]
  },
  {
   "cell_type": "code",
   "execution_count": 1025,
   "metadata": {
    "colab": {
     "base_uri": "https://localhost:8080/"
    },
    "id": "4akkshET5cPf",
    "outputId": "84f3ca7d-8329-455e-9b72-6d92108701e5"
   },
   "outputs": [
    {
     "data": {
      "text/plain": [
       "enough          33186\n",
       "insufficient    15129\n",
       "dry              6246\n",
       "seasonal         4050\n",
       "unknown           789\n",
       "Name: quantity_group, dtype: int64"
      ]
     },
     "execution_count": 1025,
     "metadata": {},
     "output_type": "execute_result"
    }
   ],
   "source": [
    "projectData['quantity_group'].value_counts()"
   ]
  },
  {
   "cell_type": "markdown",
   "metadata": {
    "id": "J70NjFHB5f9X"
   },
   "source": [
    "quantity and quantity_group are correlated and so one of the column is useless."
   ]
  },
  {
   "cell_type": "code",
   "execution_count": 32,
   "metadata": {
    "id": "pvQ3I3acuJCW"
   },
   "outputs": [],
   "source": [
    "projectData.drop('quantity_group',axis='columns', inplace=True)\n",
    "testData.drop('quantity_group',axis='columns', inplace=True)"
   ]
  },
  {
   "source": [
    "projectData['lga'].value_counts()"
   ],
   "cell_type": "code",
   "metadata": {
    "colab": {
     "base_uri": "https://localhost:8080/"
    },
    "id": "3zu9oypk56P5",
    "outputId": "79005dad-5494-4eff-df92-5ffd562e5d96"
   },
   "execution_count": null,
   "outputs": []
  },
  {
   "cell_type": "code",
   "execution_count": 33,
   "metadata": {
    "id": "l8JcrMcYGHVI"
   },
   "outputs": [],
   "source": [
    "def clean_lga(projectData):\n",
    "  if projectData['lga'] == 'Njombe':\n",
    "    return 'Njombe'\n",
    "  elif projectData['lga']=='Arusha Rural':\n",
    "    return 'Arusha Rural'\n",
    "  elif projectData['lga']=='Moshi Rural':\n",
    "    return 'Moshi Rural'\n",
    "  elif projectData['lga']=='Bariadi':\n",
    "    return 'Bariadi'\n",
    "  elif projectData['lga']=='Rungwe':\n",
    "    return 'Rungwe'    \n",
    "  else:\n",
    "    return 'other_lga'\n",
    "\n",
    "projectData['lga']= projectData.apply(lambda row: clean_lga(row), axis=1)\n",
    "testData['lga']= testData.apply(lambda row: clean_lga(row), axis=1)"
   ]
  },
  {
   "cell_type": "code",
   "execution_count": 1029,
   "metadata": {
    "colab": {
     "base_uri": "https://localhost:8080/"
    },
    "id": "gnDTWePkGXTO",
    "outputId": "9439600a-7a23-489c-e999-ce59b09e6957"
   },
   "outputs": [
    {
     "data": {
      "text/plain": [
       "other_lga       52111\n",
       "Njombe           2503\n",
       "Arusha Rural     1252\n",
       "Moshi Rural      1251\n",
       "Bariadi          1177\n",
       "Rungwe           1106\n",
       "Name: lga, dtype: int64"
      ]
     },
     "execution_count": 1029,
     "metadata": {},
     "output_type": "execute_result"
    }
   ],
   "source": [
    "projectData['lga'].value_counts()"
   ]
  },
  {
   "cell_type": "code",
   "execution_count": 1030,
   "metadata": {
    "colab": {
     "base_uri": "https://localhost:8080/"
    },
    "id": "ItBa4w-36BGS",
    "outputId": "0a753da8-b28b-4210-e349-64556c9df638"
   },
   "outputs": [
    {
     "data": {
      "text/plain": [
       "gravity                      26780\n",
       "nira/tanira                   8154\n",
       "other                         6430\n",
       "submersible                   4764\n",
       "swn 80                        3670\n",
       "mono                          2865\n",
       "india mark ii                 2400\n",
       "afridev                       1770\n",
       "ksb                           1415\n",
       "other - rope pump              451\n",
       "other - swn 81                 229\n",
       "windmill                       117\n",
       "india mark iii                  98\n",
       "cemo                            90\n",
       "other - play pump               85\n",
       "walimi                          48\n",
       "climax                          32\n",
       "other - mkulima/shinyanga        2\n",
       "Name: extraction_type, dtype: int64"
      ]
     },
     "execution_count": 1030,
     "metadata": {},
     "output_type": "execute_result"
    }
   ],
   "source": [
    "projectData['extraction_type'].value_counts()"
   ]
  },
  {
   "cell_type": "code",
   "execution_count": 1031,
   "metadata": {
    "colab": {
     "base_uri": "https://localhost:8080/"
    },
    "id": "JdYaMZdY6Gse",
    "outputId": "f40a52ad-b2ed-4813-bd9d-0fa12003ddc0"
   },
   "outputs": [
    {
     "data": {
      "text/plain": [
       "gravity            26780\n",
       "nira/tanira         8154\n",
       "other               6430\n",
       "submersible         6179\n",
       "swn 80              3670\n",
       "mono                2865\n",
       "india mark ii       2400\n",
       "afridev             1770\n",
       "rope pump            451\n",
       "other handpump       364\n",
       "other motorpump      122\n",
       "wind-powered         117\n",
       "india mark iii        98\n",
       "Name: extraction_type_group, dtype: int64"
      ]
     },
     "execution_count": 1031,
     "metadata": {},
     "output_type": "execute_result"
    }
   ],
   "source": [
    "projectData['extraction_type_group'].value_counts()"
   ]
  },
  {
   "cell_type": "code",
   "execution_count": 1032,
   "metadata": {
    "colab": {
     "base_uri": "https://localhost:8080/"
    },
    "id": "AK2Ol-_l6JDu",
    "outputId": "f6528498-7b61-4cf0-8d5b-fcb122ed803e"
   },
   "outputs": [
    {
     "data": {
      "text/plain": [
       "gravity         26780\n",
       "handpump        16456\n",
       "other            6430\n",
       "submersible      6179\n",
       "motorpump        2987\n",
       "rope pump         451\n",
       "wind-powered      117\n",
       "Name: extraction_type_class, dtype: int64"
      ]
     },
     "execution_count": 1032,
     "metadata": {},
     "output_type": "execute_result"
    }
   ],
   "source": [
    "projectData['extraction_type_class'].value_counts()"
   ]
  },
  {
   "cell_type": "markdown",
   "metadata": {
    "id": "UOG-Ts_I6T-O"
   },
   "source": [
    "extraction_type and extraction_type_group and extraction_type_class are correlated. So we remove extraction_type_class for less detailed values. And extraction_type_group for being identitcal to extraction_type"
   ]
  },
  {
   "cell_type": "code",
   "execution_count": 1033,
   "metadata": {
    "id": "y8e1BpKeupdW"
   },
   "outputs": [],
   "source": [
    "projectData.drop('extraction_type_class',axis='columns', inplace=True)\n",
    "testData.drop('extraction_type_class',axis='columns', inplace=True)"
   ]
  },
  {
   "cell_type": "code",
   "execution_count": 1034,
   "metadata": {
    "id": "CR4qEtEdupO4"
   },
   "outputs": [],
   "source": [
    "projectData.drop('extraction_type_group',axis='columns', inplace=True)\n",
    "testData.drop('extraction_type_group',axis='columns', inplace=True)"
   ]
  },
  {
   "cell_type": "code",
   "execution_count": 1035,
   "metadata": {
    "colab": {
     "base_uri": "https://localhost:8080/"
    },
    "id": "gdkp84oJ61q2",
    "outputId": "e364485d-2cf9-4deb-ee4b-f58715431f52"
   },
   "outputs": [
    {
     "data": {
      "text/plain": [
       "soft                  50818\n",
       "salty                  4856\n",
       "unknown                1876\n",
       "milky                   804\n",
       "coloured                490\n",
       "salty abandoned         339\n",
       "fluoride                200\n",
       "fluoride abandoned       17\n",
       "Name: water_quality, dtype: int64"
      ]
     },
     "execution_count": 1035,
     "metadata": {},
     "output_type": "execute_result"
    }
   ],
   "source": [
    "projectData['water_quality'].value_counts()"
   ]
  },
  {
   "cell_type": "code",
   "execution_count": 1036,
   "metadata": {
    "colab": {
     "base_uri": "https://localhost:8080/"
    },
    "id": "WcI5dYjl63uR",
    "outputId": "ed5107bb-104c-479b-b14c-fd5e416cd178"
   },
   "outputs": [
    {
     "data": {
      "text/plain": [
       "good        50818\n",
       "salty        5195\n",
       "unknown      1876\n",
       "milky         804\n",
       "colored       490\n",
       "fluoride      217\n",
       "Name: quality_group, dtype: int64"
      ]
     },
     "execution_count": 1036,
     "metadata": {},
     "output_type": "execute_result"
    }
   ],
   "source": [
    "projectData['quality_group'].value_counts()"
   ]
  },
  {
   "cell_type": "markdown",
   "metadata": {
    "id": "pJME91BN65__"
   },
   "source": [
    "water_quality and quality group is correlated so we can remove water_quality."
   ]
  },
  {
   "cell_type": "code",
   "execution_count": 1037,
   "metadata": {
    "id": "PNgI7LTSvAKP"
   },
   "outputs": [],
   "source": [
    "projectData.drop('water_quality',axis='columns', inplace=True)\n",
    "testData.drop('water_quality',axis='columns', inplace=True)"
   ]
  },
  {
   "cell_type": "markdown",
   "metadata": {
    "id": "PcC8ZgzO7CH9"
   },
   "source": [
    "Since we already know water quality. We understand tat we don't need the geographical data of Tanzania for predicting the quality of water. Therefore, we will remove gps_height, longitude and latitude. "
   ]
  },
  {
   "cell_type": "code",
   "execution_count": 1038,
   "metadata": {
    "id": "YnEYobKf7c0_"
   },
   "outputs": [],
   "source": [
    "#projectData.drop('latitude',axis='columns', inplace=True)\n",
    "#testData.drop('latitude',axis='columns', inplace=True)"
   ]
  },
  {
   "cell_type": "code",
   "execution_count": 1039,
   "metadata": {
    "id": "gg9FfxcJ7aZK"
   },
   "outputs": [],
   "source": [
    "#projectData.drop('longitude',axis='columns', inplace=True)\n",
    "#testData.drop('longitude',axis='columns', inplace=True)"
   ]
  },
  {
   "cell_type": "code",
   "execution_count": 1040,
   "metadata": {
    "id": "XEx3gVPn7YUE"
   },
   "outputs": [],
   "source": [
    "#projectData.drop('gps_height',axis='columns', inplace=True)\n",
    "#testData.drop('gps_height',axis='columns', inplace=True)"
   ]
  },
  {
   "cell_type": "code",
   "execution_count": 1041,
   "metadata": {
    "colab": {
     "base_uri": "https://localhost:8080/"
    },
    "id": "D8q9drlr8EOb",
    "outputId": "0277bd40-c460-4a34-cc9d-246d36698d38"
   },
   "outputs": [
    {
     "data": {
      "text/plain": [
       "spring                  17021\n",
       "shallow well            16824\n",
       "machine dbh             11075\n",
       "river                    9612\n",
       "rainwater harvesting     2295\n",
       "hand dtw                  874\n",
       "lake                      765\n",
       "dam                       656\n",
       "other                     212\n",
       "unknown                    66\n",
       "Name: source, dtype: int64"
      ]
     },
     "execution_count": 1041,
     "metadata": {},
     "output_type": "execute_result"
    }
   ],
   "source": [
    "projectData['source'].value_counts()"
   ]
  },
  {
   "cell_type": "code",
   "execution_count": 1042,
   "metadata": {
    "colab": {
     "base_uri": "https://localhost:8080/"
    },
    "id": "livMpvFZ8M2O",
    "outputId": "ee7add85-599c-4c3f-9bbb-ee6722e9d66c"
   },
   "outputs": [
    {
     "data": {
      "text/plain": [
       "spring                  17021\n",
       "shallow well            16824\n",
       "borehole                11949\n",
       "river/lake              10377\n",
       "rainwater harvesting     2295\n",
       "dam                       656\n",
       "other                     278\n",
       "Name: source_type, dtype: int64"
      ]
     },
     "execution_count": 1042,
     "metadata": {},
     "output_type": "execute_result"
    }
   ],
   "source": [
    "projectData['source_type'].value_counts()"
   ]
  },
  {
   "cell_type": "markdown",
   "metadata": {
    "id": "vObaEOci8RPS"
   },
   "source": [
    "source and source_type are correlated so we can remove the less detailed one."
   ]
  },
  {
   "cell_type": "code",
   "execution_count": 1043,
   "metadata": {
    "id": "TSvuQrAjvH49"
   },
   "outputs": [],
   "source": [
    "projectData.drop('source',axis='columns', inplace=True)\n",
    "testData.drop('source',axis='columns', inplace=True)"
   ]
  },
  {
   "cell_type": "code",
   "execution_count": 1044,
   "metadata": {
    "colab": {
     "base_uri": "https://localhost:8080/"
    },
    "id": "0qbS_RgF8ZgD",
    "outputId": "4aaf1e66-5a10-48da-afcd-08ffb2800c83"
   },
   "outputs": [
    {
     "data": {
      "text/plain": [
       "VWC                 36793\n",
       "WUG                  5206\n",
       "Water authority      3153\n",
       "WUA                  2883\n",
       "Water Board          2748\n",
       "Parastatal           1680\n",
       "Private operator     1063\n",
       "Company              1061\n",
       "Other                 766\n",
       "SWC                    97\n",
       "Trust                  72\n",
       "None                    1\n",
       "Name: scheme_management, dtype: int64"
      ]
     },
     "execution_count": 1044,
     "metadata": {},
     "output_type": "execute_result"
    }
   ],
   "source": [
    "projectData['scheme_management'].value_counts()"
   ]
  },
  {
   "source": [
    "projectData['scheme_name'].value_counts()"
   ],
   "cell_type": "code",
   "metadata": {
    "colab": {
     "base_uri": "https://localhost:8080/"
    },
    "id": "1yv6Aubf8c0t",
    "outputId": "b1c17c2b-4770-4cf5-f25c-d534c7427530"
   },
   "execution_count": null,
   "outputs": []
  },
  {
   "cell_type": "code",
   "execution_count": 1046,
   "metadata": {
    "colab": {
     "base_uri": "https://localhost:8080/"
    },
    "id": "61-jIqfz8_OC",
    "outputId": "830b998c-130a-4e26-ec31-00d8144a4961"
   },
   "outputs": [
    {
     "data": {
      "text/plain": [
       "28166"
      ]
     },
     "execution_count": 1046,
     "metadata": {},
     "output_type": "execute_result"
    }
   ],
   "source": [
    "projectData['scheme_name'].isnull().values.sum()"
   ]
  },
  {
   "cell_type": "markdown",
   "metadata": {
    "id": "gGdX18yg9EpJ"
   },
   "source": [
    "scheme_name column has categorical data and almost %50 null values so it can be removed. projcetData.info() showed this too."
   ]
  },
  {
   "cell_type": "code",
   "execution_count": 1047,
   "metadata": {
    "id": "5G17zQPNydho"
   },
   "outputs": [],
   "source": [
    "projectData.drop('scheme_name',axis='columns', inplace=True)\n",
    "testData.drop('scheme_name',axis='columns', inplace=True)"
   ]
  },
  {
   "cell_type": "code",
   "execution_count": 1048,
   "metadata": {
    "colab": {
     "base_uri": "https://localhost:8080/"
    },
    "id": "0frCWhURAF0y",
    "outputId": "6aac3813-7526-4b1e-9082-9b0c8e362319"
   },
   "outputs": [
    {
     "data": {
      "text/plain": [
       "True     38852\n",
       "False    17492\n",
       "Name: permit, dtype: int64"
      ]
     },
     "execution_count": 1048,
     "metadata": {},
     "output_type": "execute_result"
    }
   ],
   "source": [
    "projectData['permit'].value_counts()"
   ]
  },
  {
   "cell_type": "code",
   "execution_count": 1049,
   "metadata": {
    "colab": {
     "base_uri": "https://localhost:8080/"
    },
    "id": "gf6KgdnhAeDi",
    "outputId": "2bc251eb-7548-4378-cba2-9108cc26a901"
   },
   "outputs": [
    {
     "data": {
      "text/plain": [
       "Iringa           5294\n",
       "Shinyanga        4982\n",
       "Mbeya            4639\n",
       "Kilimanjaro      4379\n",
       "Morogoro         4006\n",
       "Arusha           3350\n",
       "Kagera           3316\n",
       "Mwanza           3102\n",
       "Kigoma           2816\n",
       "Ruvuma           2640\n",
       "Pwani            2635\n",
       "Tanga            2547\n",
       "Dodoma           2201\n",
       "Singida          2093\n",
       "Mara             1969\n",
       "Tabora           1959\n",
       "Rukwa            1808\n",
       "Mtwara           1730\n",
       "Manyara          1583\n",
       "Lindi            1546\n",
       "Dar es Salaam     805\n",
       "Name: region, dtype: int64"
      ]
     },
     "execution_count": 1049,
     "metadata": {},
     "output_type": "execute_result"
    }
   ],
   "source": [
    "projectData['region'].value_counts()"
   ]
  },
  {
   "cell_type": "code",
   "execution_count": 1050,
   "metadata": {
    "colab": {
     "base_uri": "https://localhost:8080/"
    },
    "id": "8I_bcentAggK",
    "outputId": "eff2779a-2245-4903-9690-b10e003b741c"
   },
   "outputs": [
    {
     "data": {
      "text/plain": [
       "11    5300\n",
       "17    5011\n",
       "12    4639\n",
       "3     4379\n",
       "5     4040\n",
       "18    3324\n",
       "19    3047\n",
       "2     3024\n",
       "16    2816\n",
       "10    2640\n",
       "4     2513\n",
       "1     2201\n",
       "13    2093\n",
       "14    1979\n",
       "20    1969\n",
       "15    1808\n",
       "6     1609\n",
       "21    1583\n",
       "80    1238\n",
       "60    1025\n",
       "90     917\n",
       "7      805\n",
       "99     423\n",
       "9      390\n",
       "24     326\n",
       "8      300\n",
       "40       1\n",
       "Name: region_code, dtype: int64"
      ]
     },
     "execution_count": 1050,
     "metadata": {},
     "output_type": "execute_result"
    }
   ],
   "source": [
    "projectData['region_code'].value_counts()"
   ]
  },
  {
   "cell_type": "markdown",
   "metadata": {
    "id": "xliTsFXBAmW_"
   },
   "source": [
    "region code and region seems correlated so we will keep the data with integers."
   ]
  },
  {
   "cell_type": "code",
   "execution_count": 1051,
   "metadata": {
    "id": "WGAlOMFbArBK"
   },
   "outputs": [],
   "source": [
    "projectData.drop('region',axis='columns', inplace=True)\n",
    "testData.drop('region',axis='columns', inplace=True)"
   ]
  },
  {
   "cell_type": "code",
   "execution_count": 1052,
   "metadata": {
    "colab": {
     "base_uri": "https://localhost:8080/"
    },
    "id": "iaVSLHzlj3gn",
    "outputId": "f8867385-c1ff-4d52-9a15-8ce44b59c3ed"
   },
   "outputs": [
    {
     "name": "stdout",
     "output_type": "stream",
     "text": [
      "<class 'pandas.core.frame.DataFrame'>\n",
      "Int64Index: 59400 entries, 0 to 59399\n",
      "Data columns (total 28 columns):\n",
      " #   Column                 Non-Null Count  Dtype         \n",
      "---  ------                 --------------  -----         \n",
      " 0   status_group           59400 non-null  object        \n",
      " 1   amount_tsh             59400 non-null  float64       \n",
      " 2   date_recorded          59400 non-null  datetime64[ns]\n",
      " 3   funder                 59400 non-null  object        \n",
      " 4   gps_height             59400 non-null  int64         \n",
      " 5   installer              59400 non-null  object        \n",
      " 6   longitude              59400 non-null  float64       \n",
      " 7   latitude               59400 non-null  float64       \n",
      " 8   basin                  59400 non-null  object        \n",
      " 9   region_code            59400 non-null  int64         \n",
      " 10  district_code          59400 non-null  int64         \n",
      " 11  lga                    59400 non-null  object        \n",
      " 12  ward                   59400 non-null  object        \n",
      " 13  population             59400 non-null  int64         \n",
      " 14  public_meeting         56066 non-null  object        \n",
      " 15  scheme_management      55523 non-null  object        \n",
      " 16  permit                 56344 non-null  object        \n",
      " 17  construction_year      59400 non-null  float64       \n",
      " 18  extraction_type        59400 non-null  object        \n",
      " 19  management             59400 non-null  object        \n",
      " 20  management_group       59400 non-null  object        \n",
      " 21  payment_type           59400 non-null  object        \n",
      " 22  quality_group          59400 non-null  object        \n",
      " 23  quantity               59400 non-null  object        \n",
      " 24  source_type            59400 non-null  object        \n",
      " 25  source_class           59400 non-null  object        \n",
      " 26  waterpoint_type        59400 non-null  object        \n",
      " 27  waterpoint_type_group  59400 non-null  object        \n",
      "dtypes: datetime64[ns](1), float64(4), int64(4), object(19)\n",
      "memory usage: 13.1+ MB\n"
     ]
    }
   ],
   "source": [
    "projectData.info()"
   ]
  },
  {
   "cell_type": "code",
   "execution_count": 1053,
   "metadata": {
    "colab": {
     "base_uri": "https://localhost:8080/"
    },
    "id": "GTtDyvRrJ4zP",
    "outputId": "8ba8984d-6c51-4c14-8196-94d1d542ced9"
   },
   "outputs": [
    {
     "data": {
      "text/plain": [
       "Lake Victoria              10248\n",
       "Pangani                     8940\n",
       "Rufiji                      7976\n",
       "Internal                    7785\n",
       "Lake Tanganyika             6432\n",
       "Wami / Ruvu                 5987\n",
       "Lake Nyasa                  5085\n",
       "Ruvuma / Southern Coast     4493\n",
       "Lake Rukwa                  2454\n",
       "Name: basin, dtype: int64"
      ]
     },
     "execution_count": 1053,
     "metadata": {},
     "output_type": "execute_result"
    }
   ],
   "source": [
    "projectData['basin'].value_counts()"
   ]
  },
  {
   "cell_type": "code",
   "execution_count": 1054,
   "metadata": {
    "colab": {
     "base_uri": "https://localhost:8080/"
    },
    "id": "Bd1cJ8tzJ8LJ",
    "outputId": "ad3fcfae-83dc-4abc-9761-a01ae4522f32"
   },
   "outputs": [
    {
     "data": {
      "text/plain": [
       "1     12203\n",
       "2     11173\n",
       "3      9998\n",
       "4      8999\n",
       "5      4356\n",
       "6      4074\n",
       "7      3343\n",
       "8      1043\n",
       "30      995\n",
       "33      874\n",
       "53      745\n",
       "43      505\n",
       "13      391\n",
       "23      293\n",
       "63      195\n",
       "62      109\n",
       "60       63\n",
       "0        23\n",
       "80       12\n",
       "67        6\n",
       "Name: district_code, dtype: int64"
      ]
     },
     "execution_count": 1054,
     "metadata": {},
     "output_type": "execute_result"
    }
   ],
   "source": [
    "projectData['district_code'].value_counts()"
   ]
  },
  {
   "source": [
    "projectData['population'].value_counts()"
   ],
   "cell_type": "code",
   "metadata": {
    "colab": {
     "base_uri": "https://localhost:8080/"
    },
    "id": "B_9hqjLaKCXP",
    "outputId": "167dce6d-f756-4393-c7e7-2e472a964875"
   },
   "execution_count": null,
   "outputs": []
  },
  {
   "cell_type": "markdown",
   "metadata": {
    "id": "W7CC4JZ8KHkW"
   },
   "source": [
    "Since we can't know if the population data \"0\" means unpopulated or missing data we will remove this column from our dataframe. As the 0 value is almost 45 percent of the data."
   ]
  },
  {
   "cell_type": "code",
   "execution_count": 1056,
   "metadata": {
    "id": "0nM87wTsKPR0"
   },
   "outputs": [],
   "source": [
    "projectData.drop('population',axis='columns', inplace=True)\n",
    "testData.drop('population',axis='columns', inplace=True)"
   ]
  },
  {
   "cell_type": "markdown",
   "metadata": {
    "id": "E3aq6PgIKhUd"
   },
   "source": [
    "Now we have two columns that have missing data. Public_meeting and sceheme_management. We will fix these"
   ]
  },
  {
   "cell_type": "code",
   "execution_count": 1057,
   "metadata": {
    "colab": {
     "base_uri": "https://localhost:8080/"
    },
    "id": "G12BqIzVKTc-",
    "outputId": "ca598ba7-2226-4620-a193-713b5fd04053"
   },
   "outputs": [
    {
     "data": {
      "text/plain": [
       "True     51011\n",
       "False     5055\n",
       "Name: public_meeting, dtype: int64"
      ]
     },
     "execution_count": 1057,
     "metadata": {},
     "output_type": "execute_result"
    }
   ],
   "source": [
    "projectData['public_meeting'].value_counts()"
   ]
  },
  {
   "cell_type": "markdown",
   "metadata": {
    "id": "2Pw0VWCGMyIh"
   },
   "source": [
    "We replace missing values with forward filling."
   ]
  },
  {
   "cell_type": "code",
   "execution_count": 1058,
   "metadata": {
    "id": "kjUp8-yNKw82"
   },
   "outputs": [],
   "source": [
    "projectData['permit'] = projectData['permit'].fillna(method='ffill')\n",
    "testData['permit'] = testData['permit'].fillna(method='ffill')"
   ]
  },
  {
   "cell_type": "code",
   "execution_count": 1059,
   "metadata": {
    "id": "Z_iR0X4hNJ68"
   },
   "outputs": [],
   "source": [
    "projectData['scheme_management'] = projectData['scheme_management'].replace(np.NaN, 'other')\n",
    "testData['scheme_management'] = testData['scheme_management'].replace(np.NaN, 'other')"
   ]
  },
  {
   "cell_type": "code",
   "execution_count": 1060,
   "metadata": {
    "colab": {
     "base_uri": "https://localhost:8080/"
    },
    "id": "YipJhAaiOVrK",
    "outputId": "eb594551-404d-48d9-ec69-b30b780b6a74"
   },
   "outputs": [
    {
     "data": {
      "text/plain": [
       "True     40957\n",
       "False    18443\n",
       "Name: permit, dtype: int64"
      ]
     },
     "execution_count": 1060,
     "metadata": {},
     "output_type": "execute_result"
    }
   ],
   "source": [
    "projectData['permit'].value_counts()"
   ]
  },
  {
   "cell_type": "code",
   "execution_count": 1061,
   "metadata": {
    "id": "OsHqAzBZO9ug"
   },
   "outputs": [],
   "source": [
    "projectData['permit'] = projectData['permit'].fillna(method='ffill')\n",
    "testData['permit'] = testData['permit'].fillna(method='ffill')"
   ]
  },
  {
   "cell_type": "markdown",
   "metadata": {
    "id": "lcs8bx9-PTNx"
   },
   "source": [
    "We replace missing values with forward filling."
   ]
  },
  {
   "cell_type": "code",
   "execution_count": 1062,
   "metadata": {
    "id": "ueA52HIufMFf"
   },
   "outputs": [],
   "source": [
    "projectData['status_group'] = projectData['status_group'].map({'functional': 1, 'non functional': 0, 'functional needs repair':2})"
   ]
  },
  {
   "cell_type": "code",
   "execution_count": 1063,
   "metadata": {
    "colab": {
     "base_uri": "https://localhost:8080/"
    },
    "id": "AplIhZAEno3P",
    "outputId": "57ea009d-5df8-4df0-85fd-ca3e30cb3dec"
   },
   "outputs": [
    {
     "data": {
      "text/plain": [
       "communal standpipe             28522\n",
       "hand pump                      17488\n",
       "other                           6380\n",
       "communal standpipe multiple     6103\n",
       "improved spring                  784\n",
       "cattle trough                    116\n",
       "dam                                7\n",
       "Name: waterpoint_type, dtype: int64"
      ]
     },
     "execution_count": 1063,
     "metadata": {},
     "output_type": "execute_result"
    }
   ],
   "source": [
    "projectData['waterpoint_type'].value_counts()"
   ]
  },
  {
   "cell_type": "code",
   "execution_count": 1064,
   "metadata": {
    "colab": {
     "base_uri": "https://localhost:8080/"
    },
    "id": "n0UR5Grin1GE",
    "outputId": "2427a341-5e82-45cd-ab75-a1f2d6617c4e"
   },
   "outputs": [
    {
     "data": {
      "text/plain": [
       "communal standpipe    34625\n",
       "hand pump             17488\n",
       "other                  6380\n",
       "improved spring         784\n",
       "cattle trough           116\n",
       "dam                       7\n",
       "Name: waterpoint_type_group, dtype: int64"
      ]
     },
     "execution_count": 1064,
     "metadata": {},
     "output_type": "execute_result"
    }
   ],
   "source": [
    "projectData['waterpoint_type_group'].value_counts()"
   ]
  },
  {
   "cell_type": "markdown",
   "metadata": {
    "id": "LRm8c5nFn-pl"
   },
   "source": [
    "From these two columns we can drop waterpoint_type_group."
   ]
  },
  {
   "cell_type": "code",
   "execution_count": 1065,
   "metadata": {
    "id": "A1YCgN_moDsS"
   },
   "outputs": [],
   "source": [
    "projectData.drop('waterpoint_type_group',axis='columns', inplace=True)\n",
    "testData.drop('waterpoint_type_group',axis='columns', inplace=True)"
   ]
  },
  {
   "cell_type": "markdown",
   "metadata": {
    "id": "Jd2nXFkTP0xs"
   },
   "source": [
    "We have now made sure, every column has 59400 values. Now we begin Categorical Encoding."
   ]
  },
  {
   "cell_type": "code",
   "execution_count": 1066,
   "metadata": {
    "id": "IgH3BlgLRTtb"
   },
   "outputs": [],
   "source": [
    "projectData = pd.get_dummies(projectData, columns=[\"funder\", \"installer\", \"basin\", \"lga\", \"ward\", \"public_meeting\", \"scheme_management\",\n",
    "                                     \"extraction_type\", \"management\", \"management_group\", \"payment_type\", \"quality_group\",\n",
    "                                     \"quantity\", \"source_type\", \"source_class\", \"waterpoint_type\"], prefix=[\"funder\", \"installer\", \"basin\", \"lga\",\"ward\", \"public_meeting\", \"scheme_management\",\n",
    "                                     \"extraction_type\", \"management\", \"management_group\", \"payment_type\", \"quality_group\",\n",
    "                                     \"quantity\", \"source_type\", \"source_class\", \"waterpoint_type\"])\n",
    "testData = pd.get_dummies(testData, columns=[\"funder\", \"installer\", \"basin\", \"lga\", \"ward\", \"public_meeting\", \"scheme_management\",\n",
    "                                     \"extraction_type\", \"management\", \"management_group\", \"payment_type\", \"quality_group\",\n",
    "                                     \"quantity\", \"source_type\", \"source_class\", \"waterpoint_type\"], prefix=[\"funder\", \"installer\", \"basin\", \"lga\",\"ward\", \"public_meeting\", \"scheme_management\",\n",
    "                                     \"extraction_type\", \"management\", \"management_group\", \"payment_type\", \"quality_group\",\n",
    "                                     \"quantity\", \"source_type\", \"source_class\", \"waterpoint_type\"])"
   ]
  },
  {
   "cell_type": "code",
   "execution_count": 1067,
   "metadata": {
    "id": "fd20EIeocF0h"
   },
   "outputs": [],
   "source": [
    "projectData[\"permit\"] = projectData[\"permit\"].astype(np.int64)\n",
    "testData[\"permit\"] = testData[\"permit\"].astype(np.int64)"
   ]
  },
  {
   "cell_type": "code",
   "execution_count": 1068,
   "metadata": {
    "id": "56wTeWI1niV9"
   },
   "outputs": [],
   "source": [
    "projectData[\"construction_year\"] = projectData[\"construction_year\"].astype(np.int64)\n",
    "testData[\"construction_year\"] = testData[\"construction_year\"].astype(np.int64)"
   ]
  },
  {
   "cell_type": "code",
   "execution_count": 1069,
   "metadata": {
    "id": "0aH0ymYG1s57"
   },
   "outputs": [],
   "source": [
    "projectData[\"amount_tsh\"] = projectData[\"amount_tsh\"].astype(np.int64)\n",
    "testData[\"amount_tsh\"] = testData[\"amount_tsh\"].astype(np.int64)"
   ]
  },
  {
   "cell_type": "code",
   "execution_count": 1070,
   "metadata": {
    "colab": {
     "base_uri": "https://localhost:8080/",
     "height": 287
    },
    "id": "cxxiY4pvhI3a",
    "outputId": "2cc1ee65-a9d2-43d4-f276-1445e4b7b496"
   },
   "outputs": [
    {
     "data": {
      "text/html": [
       "<div>\n",
       "<style scoped>\n",
       "    .dataframe tbody tr th:only-of-type {\n",
       "        vertical-align: middle;\n",
       "    }\n",
       "\n",
       "    .dataframe tbody tr th {\n",
       "        vertical-align: top;\n",
       "    }\n",
       "\n",
       "    .dataframe thead th {\n",
       "        text-align: right;\n",
       "    }\n",
       "</style>\n",
       "<table border=\"1\" class=\"dataframe\">\n",
       "  <thead>\n",
       "    <tr style=\"text-align: right;\">\n",
       "      <th></th>\n",
       "      <th>status_group</th>\n",
       "      <th>amount_tsh</th>\n",
       "      <th>date_recorded</th>\n",
       "      <th>gps_height</th>\n",
       "      <th>longitude</th>\n",
       "      <th>latitude</th>\n",
       "      <th>region_code</th>\n",
       "      <th>district_code</th>\n",
       "      <th>permit</th>\n",
       "      <th>construction_year</th>\n",
       "      <th>funder_Danida</th>\n",
       "      <th>funder_Government of Tanzania</th>\n",
       "      <th>funder_Hesawa</th>\n",
       "      <th>funder_Rwssp</th>\n",
       "      <th>funder_World Bank</th>\n",
       "      <th>funder_other</th>\n",
       "      <th>installer_Commu</th>\n",
       "      <th>installer_DANIDA</th>\n",
       "      <th>installer_DWE</th>\n",
       "      <th>installer_Government</th>\n",
       "      <th>installer_RWE</th>\n",
       "      <th>installer_other_installer</th>\n",
       "      <th>basin_Internal</th>\n",
       "      <th>basin_Lake Nyasa</th>\n",
       "      <th>basin_Lake Rukwa</th>\n",
       "      <th>basin_Lake Tanganyika</th>\n",
       "      <th>basin_Lake Victoria</th>\n",
       "      <th>basin_Pangani</th>\n",
       "      <th>basin_Rufiji</th>\n",
       "      <th>basin_Ruvuma / Southern Coast</th>\n",
       "      <th>basin_Wami / Ruvu</th>\n",
       "      <th>lga_Arusha Rural</th>\n",
       "      <th>lga_Bariadi</th>\n",
       "      <th>lga_Moshi Rural</th>\n",
       "      <th>lga_Njombe</th>\n",
       "      <th>lga_Rungwe</th>\n",
       "      <th>lga_other_lga</th>\n",
       "      <th>ward_Igosi</th>\n",
       "      <th>ward_Imalinyi</th>\n",
       "      <th>ward_Mdandu</th>\n",
       "      <th>ward_Nduruma</th>\n",
       "      <th>ward_Siha Kati</th>\n",
       "      <th>ward_other_ward</th>\n",
       "      <th>public_meeting_False</th>\n",
       "      <th>public_meeting_True</th>\n",
       "      <th>scheme_management_Company</th>\n",
       "      <th>scheme_management_None</th>\n",
       "      <th>scheme_management_Other</th>\n",
       "      <th>scheme_management_Parastatal</th>\n",
       "      <th>scheme_management_Private operator</th>\n",
       "      <th>scheme_management_SWC</th>\n",
       "      <th>scheme_management_Trust</th>\n",
       "      <th>scheme_management_VWC</th>\n",
       "      <th>scheme_management_WUA</th>\n",
       "      <th>scheme_management_WUG</th>\n",
       "      <th>scheme_management_Water Board</th>\n",
       "      <th>scheme_management_Water authority</th>\n",
       "      <th>scheme_management_other</th>\n",
       "      <th>extraction_type_afridev</th>\n",
       "      <th>extraction_type_cemo</th>\n",
       "      <th>extraction_type_climax</th>\n",
       "      <th>extraction_type_gravity</th>\n",
       "      <th>extraction_type_india mark ii</th>\n",
       "      <th>extraction_type_india mark iii</th>\n",
       "      <th>extraction_type_ksb</th>\n",
       "      <th>extraction_type_mono</th>\n",
       "      <th>extraction_type_nira/tanira</th>\n",
       "      <th>extraction_type_other</th>\n",
       "      <th>extraction_type_other - mkulima/shinyanga</th>\n",
       "      <th>extraction_type_other - play pump</th>\n",
       "      <th>extraction_type_other - rope pump</th>\n",
       "      <th>extraction_type_other - swn 81</th>\n",
       "      <th>extraction_type_submersible</th>\n",
       "      <th>extraction_type_swn 80</th>\n",
       "      <th>extraction_type_walimi</th>\n",
       "      <th>extraction_type_windmill</th>\n",
       "      <th>management_company</th>\n",
       "      <th>management_other</th>\n",
       "      <th>management_other - school</th>\n",
       "      <th>management_parastatal</th>\n",
       "      <th>management_private operator</th>\n",
       "      <th>management_trust</th>\n",
       "      <th>management_unknown</th>\n",
       "      <th>management_vwc</th>\n",
       "      <th>management_water authority</th>\n",
       "      <th>management_water board</th>\n",
       "      <th>management_wua</th>\n",
       "      <th>management_wug</th>\n",
       "      <th>management_group_commercial</th>\n",
       "      <th>management_group_other</th>\n",
       "      <th>management_group_parastatal</th>\n",
       "      <th>management_group_unknown</th>\n",
       "      <th>management_group_user-group</th>\n",
       "      <th>payment_type_annually</th>\n",
       "      <th>payment_type_monthly</th>\n",
       "      <th>payment_type_never pay</th>\n",
       "      <th>payment_type_on failure</th>\n",
       "      <th>payment_type_other</th>\n",
       "      <th>payment_type_per bucket</th>\n",
       "      <th>payment_type_unknown</th>\n",
       "      <th>quality_group_colored</th>\n",
       "      <th>quality_group_fluoride</th>\n",
       "      <th>quality_group_good</th>\n",
       "      <th>quality_group_milky</th>\n",
       "      <th>quality_group_salty</th>\n",
       "      <th>quality_group_unknown</th>\n",
       "      <th>quantity_dry</th>\n",
       "      <th>quantity_enough</th>\n",
       "      <th>quantity_insufficient</th>\n",
       "      <th>quantity_seasonal</th>\n",
       "      <th>quantity_unknown</th>\n",
       "      <th>source_type_borehole</th>\n",
       "      <th>source_type_dam</th>\n",
       "      <th>source_type_other</th>\n",
       "      <th>source_type_rainwater harvesting</th>\n",
       "      <th>source_type_river/lake</th>\n",
       "      <th>source_type_shallow well</th>\n",
       "      <th>source_type_spring</th>\n",
       "      <th>source_class_groundwater</th>\n",
       "      <th>source_class_surface</th>\n",
       "      <th>source_class_unknown</th>\n",
       "      <th>waterpoint_type_cattle trough</th>\n",
       "      <th>waterpoint_type_communal standpipe</th>\n",
       "      <th>waterpoint_type_communal standpipe multiple</th>\n",
       "      <th>waterpoint_type_dam</th>\n",
       "      <th>waterpoint_type_hand pump</th>\n",
       "      <th>waterpoint_type_improved spring</th>\n",
       "      <th>waterpoint_type_other</th>\n",
       "    </tr>\n",
       "  </thead>\n",
       "  <tbody>\n",
       "    <tr>\n",
       "      <th>0</th>\n",
       "      <td>1</td>\n",
       "      <td>6000</td>\n",
       "      <td>2011-03-14</td>\n",
       "      <td>1390</td>\n",
       "      <td>34.938093</td>\n",
       "      <td>-9.856322</td>\n",
       "      <td>11</td>\n",
       "      <td>5</td>\n",
       "      <td>0</td>\n",
       "      <td>1999</td>\n",
       "      <td>0</td>\n",
       "      <td>0</td>\n",
       "      <td>0</td>\n",
       "      <td>0</td>\n",
       "      <td>0</td>\n",
       "      <td>1</td>\n",
       "      <td>0</td>\n",
       "      <td>0</td>\n",
       "      <td>0</td>\n",
       "      <td>0</td>\n",
       "      <td>0</td>\n",
       "      <td>1</td>\n",
       "      <td>0</td>\n",
       "      <td>1</td>\n",
       "      <td>0</td>\n",
       "      <td>0</td>\n",
       "      <td>0</td>\n",
       "      <td>0</td>\n",
       "      <td>0</td>\n",
       "      <td>0</td>\n",
       "      <td>0</td>\n",
       "      <td>0</td>\n",
       "      <td>0</td>\n",
       "      <td>0</td>\n",
       "      <td>0</td>\n",
       "      <td>0</td>\n",
       "      <td>1</td>\n",
       "      <td>0</td>\n",
       "      <td>0</td>\n",
       "      <td>0</td>\n",
       "      <td>0</td>\n",
       "      <td>0</td>\n",
       "      <td>1</td>\n",
       "      <td>0</td>\n",
       "      <td>1</td>\n",
       "      <td>0</td>\n",
       "      <td>0</td>\n",
       "      <td>0</td>\n",
       "      <td>0</td>\n",
       "      <td>0</td>\n",
       "      <td>0</td>\n",
       "      <td>0</td>\n",
       "      <td>1</td>\n",
       "      <td>0</td>\n",
       "      <td>0</td>\n",
       "      <td>0</td>\n",
       "      <td>0</td>\n",
       "      <td>0</td>\n",
       "      <td>0</td>\n",
       "      <td>0</td>\n",
       "      <td>0</td>\n",
       "      <td>1</td>\n",
       "      <td>0</td>\n",
       "      <td>0</td>\n",
       "      <td>0</td>\n",
       "      <td>0</td>\n",
       "      <td>0</td>\n",
       "      <td>0</td>\n",
       "      <td>0</td>\n",
       "      <td>0</td>\n",
       "      <td>0</td>\n",
       "      <td>0</td>\n",
       "      <td>0</td>\n",
       "      <td>0</td>\n",
       "      <td>0</td>\n",
       "      <td>0</td>\n",
       "      <td>0</td>\n",
       "      <td>0</td>\n",
       "      <td>0</td>\n",
       "      <td>0</td>\n",
       "      <td>0</td>\n",
       "      <td>0</td>\n",
       "      <td>0</td>\n",
       "      <td>1</td>\n",
       "      <td>0</td>\n",
       "      <td>0</td>\n",
       "      <td>0</td>\n",
       "      <td>0</td>\n",
       "      <td>0</td>\n",
       "      <td>0</td>\n",
       "      <td>0</td>\n",
       "      <td>0</td>\n",
       "      <td>1</td>\n",
       "      <td>1</td>\n",
       "      <td>0</td>\n",
       "      <td>0</td>\n",
       "      <td>0</td>\n",
       "      <td>0</td>\n",
       "      <td>0</td>\n",
       "      <td>0</td>\n",
       "      <td>0</td>\n",
       "      <td>0</td>\n",
       "      <td>1</td>\n",
       "      <td>0</td>\n",
       "      <td>0</td>\n",
       "      <td>0</td>\n",
       "      <td>0</td>\n",
       "      <td>1</td>\n",
       "      <td>0</td>\n",
       "      <td>0</td>\n",
       "      <td>0</td>\n",
       "      <td>0</td>\n",
       "      <td>0</td>\n",
       "      <td>0</td>\n",
       "      <td>0</td>\n",
       "      <td>0</td>\n",
       "      <td>0</td>\n",
       "      <td>1</td>\n",
       "      <td>1</td>\n",
       "      <td>0</td>\n",
       "      <td>0</td>\n",
       "      <td>0</td>\n",
       "      <td>1</td>\n",
       "      <td>0</td>\n",
       "      <td>0</td>\n",
       "      <td>0</td>\n",
       "      <td>0</td>\n",
       "      <td>0</td>\n",
       "    </tr>\n",
       "    <tr>\n",
       "      <th>1</th>\n",
       "      <td>1</td>\n",
       "      <td>0</td>\n",
       "      <td>2013-03-06</td>\n",
       "      <td>1399</td>\n",
       "      <td>34.698766</td>\n",
       "      <td>-2.147466</td>\n",
       "      <td>20</td>\n",
       "      <td>2</td>\n",
       "      <td>1</td>\n",
       "      <td>2010</td>\n",
       "      <td>0</td>\n",
       "      <td>0</td>\n",
       "      <td>0</td>\n",
       "      <td>0</td>\n",
       "      <td>0</td>\n",
       "      <td>1</td>\n",
       "      <td>0</td>\n",
       "      <td>0</td>\n",
       "      <td>0</td>\n",
       "      <td>0</td>\n",
       "      <td>0</td>\n",
       "      <td>1</td>\n",
       "      <td>0</td>\n",
       "      <td>0</td>\n",
       "      <td>0</td>\n",
       "      <td>0</td>\n",
       "      <td>1</td>\n",
       "      <td>0</td>\n",
       "      <td>0</td>\n",
       "      <td>0</td>\n",
       "      <td>0</td>\n",
       "      <td>0</td>\n",
       "      <td>0</td>\n",
       "      <td>0</td>\n",
       "      <td>0</td>\n",
       "      <td>0</td>\n",
       "      <td>1</td>\n",
       "      <td>0</td>\n",
       "      <td>0</td>\n",
       "      <td>0</td>\n",
       "      <td>0</td>\n",
       "      <td>0</td>\n",
       "      <td>1</td>\n",
       "      <td>0</td>\n",
       "      <td>0</td>\n",
       "      <td>0</td>\n",
       "      <td>0</td>\n",
       "      <td>1</td>\n",
       "      <td>0</td>\n",
       "      <td>0</td>\n",
       "      <td>0</td>\n",
       "      <td>0</td>\n",
       "      <td>0</td>\n",
       "      <td>0</td>\n",
       "      <td>0</td>\n",
       "      <td>0</td>\n",
       "      <td>0</td>\n",
       "      <td>0</td>\n",
       "      <td>0</td>\n",
       "      <td>0</td>\n",
       "      <td>0</td>\n",
       "      <td>1</td>\n",
       "      <td>0</td>\n",
       "      <td>0</td>\n",
       "      <td>0</td>\n",
       "      <td>0</td>\n",
       "      <td>0</td>\n",
       "      <td>0</td>\n",
       "      <td>0</td>\n",
       "      <td>0</td>\n",
       "      <td>0</td>\n",
       "      <td>0</td>\n",
       "      <td>0</td>\n",
       "      <td>0</td>\n",
       "      <td>0</td>\n",
       "      <td>0</td>\n",
       "      <td>0</td>\n",
       "      <td>0</td>\n",
       "      <td>0</td>\n",
       "      <td>0</td>\n",
       "      <td>0</td>\n",
       "      <td>0</td>\n",
       "      <td>0</td>\n",
       "      <td>0</td>\n",
       "      <td>0</td>\n",
       "      <td>0</td>\n",
       "      <td>0</td>\n",
       "      <td>1</td>\n",
       "      <td>0</td>\n",
       "      <td>0</td>\n",
       "      <td>0</td>\n",
       "      <td>0</td>\n",
       "      <td>1</td>\n",
       "      <td>0</td>\n",
       "      <td>0</td>\n",
       "      <td>1</td>\n",
       "      <td>0</td>\n",
       "      <td>0</td>\n",
       "      <td>0</td>\n",
       "      <td>0</td>\n",
       "      <td>0</td>\n",
       "      <td>0</td>\n",
       "      <td>1</td>\n",
       "      <td>0</td>\n",
       "      <td>0</td>\n",
       "      <td>0</td>\n",
       "      <td>0</td>\n",
       "      <td>0</td>\n",
       "      <td>1</td>\n",
       "      <td>0</td>\n",
       "      <td>0</td>\n",
       "      <td>0</td>\n",
       "      <td>0</td>\n",
       "      <td>0</td>\n",
       "      <td>1</td>\n",
       "      <td>0</td>\n",
       "      <td>0</td>\n",
       "      <td>0</td>\n",
       "      <td>0</td>\n",
       "      <td>1</td>\n",
       "      <td>0</td>\n",
       "      <td>0</td>\n",
       "      <td>1</td>\n",
       "      <td>0</td>\n",
       "      <td>0</td>\n",
       "      <td>0</td>\n",
       "      <td>0</td>\n",
       "      <td>0</td>\n",
       "    </tr>\n",
       "    <tr>\n",
       "      <th>2</th>\n",
       "      <td>1</td>\n",
       "      <td>25</td>\n",
       "      <td>2013-02-25</td>\n",
       "      <td>686</td>\n",
       "      <td>37.460664</td>\n",
       "      <td>-3.821329</td>\n",
       "      <td>21</td>\n",
       "      <td>4</td>\n",
       "      <td>1</td>\n",
       "      <td>2009</td>\n",
       "      <td>0</td>\n",
       "      <td>0</td>\n",
       "      <td>0</td>\n",
       "      <td>0</td>\n",
       "      <td>0</td>\n",
       "      <td>1</td>\n",
       "      <td>0</td>\n",
       "      <td>0</td>\n",
       "      <td>0</td>\n",
       "      <td>0</td>\n",
       "      <td>0</td>\n",
       "      <td>1</td>\n",
       "      <td>0</td>\n",
       "      <td>0</td>\n",
       "      <td>0</td>\n",
       "      <td>0</td>\n",
       "      <td>0</td>\n",
       "      <td>1</td>\n",
       "      <td>0</td>\n",
       "      <td>0</td>\n",
       "      <td>0</td>\n",
       "      <td>0</td>\n",
       "      <td>0</td>\n",
       "      <td>0</td>\n",
       "      <td>0</td>\n",
       "      <td>0</td>\n",
       "      <td>1</td>\n",
       "      <td>0</td>\n",
       "      <td>0</td>\n",
       "      <td>0</td>\n",
       "      <td>0</td>\n",
       "      <td>0</td>\n",
       "      <td>1</td>\n",
       "      <td>0</td>\n",
       "      <td>1</td>\n",
       "      <td>0</td>\n",
       "      <td>0</td>\n",
       "      <td>0</td>\n",
       "      <td>0</td>\n",
       "      <td>0</td>\n",
       "      <td>0</td>\n",
       "      <td>0</td>\n",
       "      <td>1</td>\n",
       "      <td>0</td>\n",
       "      <td>0</td>\n",
       "      <td>0</td>\n",
       "      <td>0</td>\n",
       "      <td>0</td>\n",
       "      <td>0</td>\n",
       "      <td>0</td>\n",
       "      <td>0</td>\n",
       "      <td>1</td>\n",
       "      <td>0</td>\n",
       "      <td>0</td>\n",
       "      <td>0</td>\n",
       "      <td>0</td>\n",
       "      <td>0</td>\n",
       "      <td>0</td>\n",
       "      <td>0</td>\n",
       "      <td>0</td>\n",
       "      <td>0</td>\n",
       "      <td>0</td>\n",
       "      <td>0</td>\n",
       "      <td>0</td>\n",
       "      <td>0</td>\n",
       "      <td>0</td>\n",
       "      <td>0</td>\n",
       "      <td>0</td>\n",
       "      <td>0</td>\n",
       "      <td>0</td>\n",
       "      <td>0</td>\n",
       "      <td>0</td>\n",
       "      <td>0</td>\n",
       "      <td>1</td>\n",
       "      <td>0</td>\n",
       "      <td>0</td>\n",
       "      <td>0</td>\n",
       "      <td>0</td>\n",
       "      <td>0</td>\n",
       "      <td>0</td>\n",
       "      <td>0</td>\n",
       "      <td>0</td>\n",
       "      <td>1</td>\n",
       "      <td>0</td>\n",
       "      <td>0</td>\n",
       "      <td>0</td>\n",
       "      <td>0</td>\n",
       "      <td>0</td>\n",
       "      <td>1</td>\n",
       "      <td>0</td>\n",
       "      <td>0</td>\n",
       "      <td>0</td>\n",
       "      <td>1</td>\n",
       "      <td>0</td>\n",
       "      <td>0</td>\n",
       "      <td>0</td>\n",
       "      <td>0</td>\n",
       "      <td>1</td>\n",
       "      <td>0</td>\n",
       "      <td>0</td>\n",
       "      <td>0</td>\n",
       "      <td>0</td>\n",
       "      <td>1</td>\n",
       "      <td>0</td>\n",
       "      <td>0</td>\n",
       "      <td>0</td>\n",
       "      <td>0</td>\n",
       "      <td>0</td>\n",
       "      <td>0</td>\n",
       "      <td>1</td>\n",
       "      <td>0</td>\n",
       "      <td>0</td>\n",
       "      <td>0</td>\n",
       "      <td>1</td>\n",
       "      <td>0</td>\n",
       "      <td>0</td>\n",
       "      <td>0</td>\n",
       "      <td>0</td>\n",
       "    </tr>\n",
       "    <tr>\n",
       "      <th>3</th>\n",
       "      <td>0</td>\n",
       "      <td>0</td>\n",
       "      <td>2013-01-28</td>\n",
       "      <td>263</td>\n",
       "      <td>38.486161</td>\n",
       "      <td>-11.155298</td>\n",
       "      <td>90</td>\n",
       "      <td>63</td>\n",
       "      <td>1</td>\n",
       "      <td>1986</td>\n",
       "      <td>0</td>\n",
       "      <td>0</td>\n",
       "      <td>0</td>\n",
       "      <td>0</td>\n",
       "      <td>0</td>\n",
       "      <td>1</td>\n",
       "      <td>0</td>\n",
       "      <td>0</td>\n",
       "      <td>0</td>\n",
       "      <td>0</td>\n",
       "      <td>0</td>\n",
       "      <td>1</td>\n",
       "      <td>0</td>\n",
       "      <td>0</td>\n",
       "      <td>0</td>\n",
       "      <td>0</td>\n",
       "      <td>0</td>\n",
       "      <td>0</td>\n",
       "      <td>0</td>\n",
       "      <td>1</td>\n",
       "      <td>0</td>\n",
       "      <td>0</td>\n",
       "      <td>0</td>\n",
       "      <td>0</td>\n",
       "      <td>0</td>\n",
       "      <td>0</td>\n",
       "      <td>1</td>\n",
       "      <td>0</td>\n",
       "      <td>0</td>\n",
       "      <td>0</td>\n",
       "      <td>0</td>\n",
       "      <td>0</td>\n",
       "      <td>1</td>\n",
       "      <td>0</td>\n",
       "      <td>1</td>\n",
       "      <td>0</td>\n",
       "      <td>0</td>\n",
       "      <td>0</td>\n",
       "      <td>0</td>\n",
       "      <td>0</td>\n",
       "      <td>0</td>\n",
       "      <td>0</td>\n",
       "      <td>1</td>\n",
       "      <td>0</td>\n",
       "      <td>0</td>\n",
       "      <td>0</td>\n",
       "      <td>0</td>\n",
       "      <td>0</td>\n",
       "      <td>0</td>\n",
       "      <td>0</td>\n",
       "      <td>0</td>\n",
       "      <td>0</td>\n",
       "      <td>0</td>\n",
       "      <td>0</td>\n",
       "      <td>0</td>\n",
       "      <td>0</td>\n",
       "      <td>0</td>\n",
       "      <td>0</td>\n",
       "      <td>0</td>\n",
       "      <td>0</td>\n",
       "      <td>0</td>\n",
       "      <td>0</td>\n",
       "      <td>1</td>\n",
       "      <td>0</td>\n",
       "      <td>0</td>\n",
       "      <td>0</td>\n",
       "      <td>0</td>\n",
       "      <td>0</td>\n",
       "      <td>0</td>\n",
       "      <td>0</td>\n",
       "      <td>0</td>\n",
       "      <td>0</td>\n",
       "      <td>0</td>\n",
       "      <td>1</td>\n",
       "      <td>0</td>\n",
       "      <td>0</td>\n",
       "      <td>0</td>\n",
       "      <td>0</td>\n",
       "      <td>0</td>\n",
       "      <td>0</td>\n",
       "      <td>0</td>\n",
       "      <td>0</td>\n",
       "      <td>1</td>\n",
       "      <td>0</td>\n",
       "      <td>0</td>\n",
       "      <td>1</td>\n",
       "      <td>0</td>\n",
       "      <td>0</td>\n",
       "      <td>0</td>\n",
       "      <td>0</td>\n",
       "      <td>0</td>\n",
       "      <td>0</td>\n",
       "      <td>1</td>\n",
       "      <td>0</td>\n",
       "      <td>0</td>\n",
       "      <td>0</td>\n",
       "      <td>1</td>\n",
       "      <td>0</td>\n",
       "      <td>0</td>\n",
       "      <td>0</td>\n",
       "      <td>0</td>\n",
       "      <td>1</td>\n",
       "      <td>0</td>\n",
       "      <td>0</td>\n",
       "      <td>0</td>\n",
       "      <td>0</td>\n",
       "      <td>0</td>\n",
       "      <td>0</td>\n",
       "      <td>1</td>\n",
       "      <td>0</td>\n",
       "      <td>0</td>\n",
       "      <td>0</td>\n",
       "      <td>0</td>\n",
       "      <td>1</td>\n",
       "      <td>0</td>\n",
       "      <td>0</td>\n",
       "      <td>0</td>\n",
       "      <td>0</td>\n",
       "    </tr>\n",
       "    <tr>\n",
       "      <th>4</th>\n",
       "      <td>1</td>\n",
       "      <td>0</td>\n",
       "      <td>2011-07-13</td>\n",
       "      <td>0</td>\n",
       "      <td>31.130847</td>\n",
       "      <td>-1.825359</td>\n",
       "      <td>18</td>\n",
       "      <td>1</td>\n",
       "      <td>1</td>\n",
       "      <td>1996</td>\n",
       "      <td>0</td>\n",
       "      <td>0</td>\n",
       "      <td>0</td>\n",
       "      <td>0</td>\n",
       "      <td>0</td>\n",
       "      <td>1</td>\n",
       "      <td>0</td>\n",
       "      <td>0</td>\n",
       "      <td>0</td>\n",
       "      <td>0</td>\n",
       "      <td>0</td>\n",
       "      <td>1</td>\n",
       "      <td>0</td>\n",
       "      <td>0</td>\n",
       "      <td>0</td>\n",
       "      <td>0</td>\n",
       "      <td>1</td>\n",
       "      <td>0</td>\n",
       "      <td>0</td>\n",
       "      <td>0</td>\n",
       "      <td>0</td>\n",
       "      <td>0</td>\n",
       "      <td>0</td>\n",
       "      <td>0</td>\n",
       "      <td>0</td>\n",
       "      <td>0</td>\n",
       "      <td>1</td>\n",
       "      <td>0</td>\n",
       "      <td>0</td>\n",
       "      <td>0</td>\n",
       "      <td>0</td>\n",
       "      <td>0</td>\n",
       "      <td>1</td>\n",
       "      <td>0</td>\n",
       "      <td>1</td>\n",
       "      <td>0</td>\n",
       "      <td>0</td>\n",
       "      <td>0</td>\n",
       "      <td>0</td>\n",
       "      <td>0</td>\n",
       "      <td>0</td>\n",
       "      <td>0</td>\n",
       "      <td>0</td>\n",
       "      <td>0</td>\n",
       "      <td>0</td>\n",
       "      <td>0</td>\n",
       "      <td>0</td>\n",
       "      <td>1</td>\n",
       "      <td>0</td>\n",
       "      <td>0</td>\n",
       "      <td>0</td>\n",
       "      <td>1</td>\n",
       "      <td>0</td>\n",
       "      <td>0</td>\n",
       "      <td>0</td>\n",
       "      <td>0</td>\n",
       "      <td>0</td>\n",
       "      <td>0</td>\n",
       "      <td>0</td>\n",
       "      <td>0</td>\n",
       "      <td>0</td>\n",
       "      <td>0</td>\n",
       "      <td>0</td>\n",
       "      <td>0</td>\n",
       "      <td>0</td>\n",
       "      <td>0</td>\n",
       "      <td>0</td>\n",
       "      <td>1</td>\n",
       "      <td>0</td>\n",
       "      <td>0</td>\n",
       "      <td>0</td>\n",
       "      <td>0</td>\n",
       "      <td>0</td>\n",
       "      <td>0</td>\n",
       "      <td>0</td>\n",
       "      <td>0</td>\n",
       "      <td>0</td>\n",
       "      <td>0</td>\n",
       "      <td>0</td>\n",
       "      <td>1</td>\n",
       "      <td>0</td>\n",
       "      <td>0</td>\n",
       "      <td>0</td>\n",
       "      <td>0</td>\n",
       "      <td>0</td>\n",
       "      <td>1</td>\n",
       "      <td>0</td>\n",
       "      <td>0</td>\n",
       "      <td>0</td>\n",
       "      <td>0</td>\n",
       "      <td>0</td>\n",
       "      <td>0</td>\n",
       "      <td>1</td>\n",
       "      <td>0</td>\n",
       "      <td>0</td>\n",
       "      <td>0</td>\n",
       "      <td>0</td>\n",
       "      <td>0</td>\n",
       "      <td>0</td>\n",
       "      <td>1</td>\n",
       "      <td>0</td>\n",
       "      <td>0</td>\n",
       "      <td>0</td>\n",
       "      <td>0</td>\n",
       "      <td>1</td>\n",
       "      <td>0</td>\n",
       "      <td>0</td>\n",
       "      <td>0</td>\n",
       "      <td>0</td>\n",
       "      <td>1</td>\n",
       "      <td>0</td>\n",
       "      <td>0</td>\n",
       "      <td>1</td>\n",
       "      <td>0</td>\n",
       "      <td>0</td>\n",
       "      <td>0</td>\n",
       "      <td>0</td>\n",
       "      <td>0</td>\n",
       "    </tr>\n",
       "  </tbody>\n",
       "</table>\n",
       "</div>"
      ],
      "text/plain": [
       "   status_group  amount_tsh date_recorded  gps_height  longitude   latitude  \\\n",
       "0             1        6000    2011-03-14        1390  34.938093  -9.856322   \n",
       "1             1           0    2013-03-06        1399  34.698766  -2.147466   \n",
       "2             1          25    2013-02-25         686  37.460664  -3.821329   \n",
       "3             0           0    2013-01-28         263  38.486161 -11.155298   \n",
       "4             1           0    2011-07-13           0  31.130847  -1.825359   \n",
       "\n",
       "   region_code  district_code  permit  construction_year  funder_Danida  \\\n",
       "0           11              5       0               1999              0   \n",
       "1           20              2       1               2010              0   \n",
       "2           21              4       1               2009              0   \n",
       "3           90             63       1               1986              0   \n",
       "4           18              1       1               1996              0   \n",
       "\n",
       "   funder_Government of Tanzania  funder_Hesawa  funder_Rwssp  \\\n",
       "0                              0              0             0   \n",
       "1                              0              0             0   \n",
       "2                              0              0             0   \n",
       "3                              0              0             0   \n",
       "4                              0              0             0   \n",
       "\n",
       "   funder_World Bank  funder_other  installer_Commu  installer_DANIDA  \\\n",
       "0                  0             1                0                 0   \n",
       "1                  0             1                0                 0   \n",
       "2                  0             1                0                 0   \n",
       "3                  0             1                0                 0   \n",
       "4                  0             1                0                 0   \n",
       "\n",
       "   installer_DWE  installer_Government  installer_RWE  \\\n",
       "0              0                     0              0   \n",
       "1              0                     0              0   \n",
       "2              0                     0              0   \n",
       "3              0                     0              0   \n",
       "4              0                     0              0   \n",
       "\n",
       "   installer_other_installer  basin_Internal  basin_Lake Nyasa  \\\n",
       "0                          1               0                 1   \n",
       "1                          1               0                 0   \n",
       "2                          1               0                 0   \n",
       "3                          1               0                 0   \n",
       "4                          1               0                 0   \n",
       "\n",
       "   basin_Lake Rukwa  basin_Lake Tanganyika  basin_Lake Victoria  \\\n",
       "0                 0                      0                    0   \n",
       "1                 0                      0                    1   \n",
       "2                 0                      0                    0   \n",
       "3                 0                      0                    0   \n",
       "4                 0                      0                    1   \n",
       "\n",
       "   basin_Pangani  basin_Rufiji  basin_Ruvuma / Southern Coast  \\\n",
       "0              0             0                              0   \n",
       "1              0             0                              0   \n",
       "2              1             0                              0   \n",
       "3              0             0                              1   \n",
       "4              0             0                              0   \n",
       "\n",
       "   basin_Wami / Ruvu  lga_Arusha Rural  lga_Bariadi  lga_Moshi Rural  \\\n",
       "0                  0                 0            0                0   \n",
       "1                  0                 0            0                0   \n",
       "2                  0                 0            0                0   \n",
       "3                  0                 0            0                0   \n",
       "4                  0                 0            0                0   \n",
       "\n",
       "   lga_Njombe  lga_Rungwe  lga_other_lga  ward_Igosi  ward_Imalinyi  \\\n",
       "0           0           0              1           0              0   \n",
       "1           0           0              1           0              0   \n",
       "2           0           0              1           0              0   \n",
       "3           0           0              1           0              0   \n",
       "4           0           0              1           0              0   \n",
       "\n",
       "   ward_Mdandu  ward_Nduruma  ward_Siha Kati  ward_other_ward  \\\n",
       "0            0             0               0                1   \n",
       "1            0             0               0                1   \n",
       "2            0             0               0                1   \n",
       "3            0             0               0                1   \n",
       "4            0             0               0                1   \n",
       "\n",
       "   public_meeting_False  public_meeting_True  scheme_management_Company  \\\n",
       "0                     0                    1                          0   \n",
       "1                     0                    0                          0   \n",
       "2                     0                    1                          0   \n",
       "3                     0                    1                          0   \n",
       "4                     0                    1                          0   \n",
       "\n",
       "   scheme_management_None  scheme_management_Other  \\\n",
       "0                       0                        0   \n",
       "1                       0                        1   \n",
       "2                       0                        0   \n",
       "3                       0                        0   \n",
       "4                       0                        0   \n",
       "\n",
       "   scheme_management_Parastatal  scheme_management_Private operator  \\\n",
       "0                             0                                   0   \n",
       "1                             0                                   0   \n",
       "2                             0                                   0   \n",
       "3                             0                                   0   \n",
       "4                             0                                   0   \n",
       "\n",
       "   scheme_management_SWC  scheme_management_Trust  scheme_management_VWC  \\\n",
       "0                      0                        0                      1   \n",
       "1                      0                        0                      0   \n",
       "2                      0                        0                      1   \n",
       "3                      0                        0                      1   \n",
       "4                      0                        0                      0   \n",
       "\n",
       "   scheme_management_WUA  scheme_management_WUG  \\\n",
       "0                      0                      0   \n",
       "1                      0                      0   \n",
       "2                      0                      0   \n",
       "3                      0                      0   \n",
       "4                      0                      0   \n",
       "\n",
       "   scheme_management_Water Board  scheme_management_Water authority  \\\n",
       "0                              0                                  0   \n",
       "1                              0                                  0   \n",
       "2                              0                                  0   \n",
       "3                              0                                  0   \n",
       "4                              0                                  0   \n",
       "\n",
       "   scheme_management_other  extraction_type_afridev  extraction_type_cemo  \\\n",
       "0                        0                        0                     0   \n",
       "1                        0                        0                     0   \n",
       "2                        0                        0                     0   \n",
       "3                        0                        0                     0   \n",
       "4                        1                        0                     0   \n",
       "\n",
       "   extraction_type_climax  extraction_type_gravity  \\\n",
       "0                       0                        1   \n",
       "1                       0                        1   \n",
       "2                       0                        1   \n",
       "3                       0                        0   \n",
       "4                       0                        1   \n",
       "\n",
       "   extraction_type_india mark ii  extraction_type_india mark iii  \\\n",
       "0                              0                               0   \n",
       "1                              0                               0   \n",
       "2                              0                               0   \n",
       "3                              0                               0   \n",
       "4                              0                               0   \n",
       "\n",
       "   extraction_type_ksb  extraction_type_mono  extraction_type_nira/tanira  \\\n",
       "0                    0                     0                            0   \n",
       "1                    0                     0                            0   \n",
       "2                    0                     0                            0   \n",
       "3                    0                     0                            0   \n",
       "4                    0                     0                            0   \n",
       "\n",
       "   extraction_type_other  extraction_type_other - mkulima/shinyanga  \\\n",
       "0                      0                                          0   \n",
       "1                      0                                          0   \n",
       "2                      0                                          0   \n",
       "3                      0                                          0   \n",
       "4                      0                                          0   \n",
       "\n",
       "   extraction_type_other - play pump  extraction_type_other - rope pump  \\\n",
       "0                                  0                                  0   \n",
       "1                                  0                                  0   \n",
       "2                                  0                                  0   \n",
       "3                                  0                                  0   \n",
       "4                                  0                                  0   \n",
       "\n",
       "   extraction_type_other - swn 81  extraction_type_submersible  \\\n",
       "0                               0                            0   \n",
       "1                               0                            0   \n",
       "2                               0                            0   \n",
       "3                               0                            1   \n",
       "4                               0                            0   \n",
       "\n",
       "   extraction_type_swn 80  extraction_type_walimi  extraction_type_windmill  \\\n",
       "0                       0                       0                         0   \n",
       "1                       0                       0                         0   \n",
       "2                       0                       0                         0   \n",
       "3                       0                       0                         0   \n",
       "4                       0                       0                         0   \n",
       "\n",
       "   management_company  management_other  management_other - school  \\\n",
       "0                   0                 0                          0   \n",
       "1                   0                 0                          0   \n",
       "2                   0                 0                          0   \n",
       "3                   0                 0                          0   \n",
       "4                   0                 1                          0   \n",
       "\n",
       "   management_parastatal  management_private operator  management_trust  \\\n",
       "0                      0                            0                 0   \n",
       "1                      0                            0                 0   \n",
       "2                      0                            0                 0   \n",
       "3                      0                            0                 0   \n",
       "4                      0                            0                 0   \n",
       "\n",
       "   management_unknown  management_vwc  management_water authority  \\\n",
       "0                   0               1                           0   \n",
       "1                   0               0                           0   \n",
       "2                   0               1                           0   \n",
       "3                   0               1                           0   \n",
       "4                   0               0                           0   \n",
       "\n",
       "   management_water board  management_wua  management_wug  \\\n",
       "0                       0               0               0   \n",
       "1                       0               0               1   \n",
       "2                       0               0               0   \n",
       "3                       0               0               0   \n",
       "4                       0               0               0   \n",
       "\n",
       "   management_group_commercial  management_group_other  \\\n",
       "0                            0                       0   \n",
       "1                            0                       0   \n",
       "2                            0                       0   \n",
       "3                            0                       0   \n",
       "4                            0                       1   \n",
       "\n",
       "   management_group_parastatal  management_group_unknown  \\\n",
       "0                            0                         0   \n",
       "1                            0                         0   \n",
       "2                            0                         0   \n",
       "3                            0                         0   \n",
       "4                            0                         0   \n",
       "\n",
       "   management_group_user-group  payment_type_annually  payment_type_monthly  \\\n",
       "0                            1                      1                     0   \n",
       "1                            1                      0                     0   \n",
       "2                            1                      0                     0   \n",
       "3                            1                      0                     0   \n",
       "4                            0                      0                     0   \n",
       "\n",
       "   payment_type_never pay  payment_type_on failure  payment_type_other  \\\n",
       "0                       0                        0                   0   \n",
       "1                       1                        0                   0   \n",
       "2                       0                        0                   0   \n",
       "3                       1                        0                   0   \n",
       "4                       1                        0                   0   \n",
       "\n",
       "   payment_type_per bucket  payment_type_unknown  quality_group_colored  \\\n",
       "0                        0                     0                      0   \n",
       "1                        0                     0                      0   \n",
       "2                        1                     0                      0   \n",
       "3                        0                     0                      0   \n",
       "4                        0                     0                      0   \n",
       "\n",
       "   quality_group_fluoride  quality_group_good  quality_group_milky  \\\n",
       "0                       0                   1                    0   \n",
       "1                       0                   1                    0   \n",
       "2                       0                   1                    0   \n",
       "3                       0                   1                    0   \n",
       "4                       0                   1                    0   \n",
       "\n",
       "   quality_group_salty  quality_group_unknown  quantity_dry  quantity_enough  \\\n",
       "0                    0                      0             0                1   \n",
       "1                    0                      0             0                0   \n",
       "2                    0                      0             0                1   \n",
       "3                    0                      0             1                0   \n",
       "4                    0                      0             0                0   \n",
       "\n",
       "   quantity_insufficient  quantity_seasonal  quantity_unknown  \\\n",
       "0                      0                  0                 0   \n",
       "1                      1                  0                 0   \n",
       "2                      0                  0                 0   \n",
       "3                      0                  0                 0   \n",
       "4                      0                  1                 0   \n",
       "\n",
       "   source_type_borehole  source_type_dam  source_type_other  \\\n",
       "0                     0                0                  0   \n",
       "1                     0                0                  0   \n",
       "2                     0                1                  0   \n",
       "3                     1                0                  0   \n",
       "4                     0                0                  0   \n",
       "\n",
       "   source_type_rainwater harvesting  source_type_river/lake  \\\n",
       "0                                 0                       0   \n",
       "1                                 1                       0   \n",
       "2                                 0                       0   \n",
       "3                                 0                       0   \n",
       "4                                 1                       0   \n",
       "\n",
       "   source_type_shallow well  source_type_spring  source_class_groundwater  \\\n",
       "0                         0                   1                         1   \n",
       "1                         0                   0                         0   \n",
       "2                         0                   0                         0   \n",
       "3                         0                   0                         1   \n",
       "4                         0                   0                         0   \n",
       "\n",
       "   source_class_surface  source_class_unknown  waterpoint_type_cattle trough  \\\n",
       "0                     0                     0                              0   \n",
       "1                     1                     0                              0   \n",
       "2                     1                     0                              0   \n",
       "3                     0                     0                              0   \n",
       "4                     1                     0                              0   \n",
       "\n",
       "   waterpoint_type_communal standpipe  \\\n",
       "0                                   1   \n",
       "1                                   1   \n",
       "2                                   0   \n",
       "3                                   0   \n",
       "4                                   1   \n",
       "\n",
       "   waterpoint_type_communal standpipe multiple  waterpoint_type_dam  \\\n",
       "0                                            0                    0   \n",
       "1                                            0                    0   \n",
       "2                                            1                    0   \n",
       "3                                            1                    0   \n",
       "4                                            0                    0   \n",
       "\n",
       "   waterpoint_type_hand pump  waterpoint_type_improved spring  \\\n",
       "0                          0                                0   \n",
       "1                          0                                0   \n",
       "2                          0                                0   \n",
       "3                          0                                0   \n",
       "4                          0                                0   \n",
       "\n",
       "   waterpoint_type_other  \n",
       "0                      0  \n",
       "1                      0  \n",
       "2                      0  \n",
       "3                      0  \n",
       "4                      0  "
      ]
     },
     "execution_count": 1070,
     "metadata": {},
     "output_type": "execute_result"
    }
   ],
   "source": [
    "projectData.head()"
   ]
  },
  {
   "cell_type": "code",
   "execution_count": 1071,
   "metadata": {
    "id": "cRkdR_pTlv8i"
   },
   "outputs": [],
   "source": [
    "pd.set_option('display.max_rows', None)\n",
    "pd.set_option('display.max_columns', None)\n",
    "pd.set_option('display.width', None)"
   ]
  },
  {
   "source": [
    "corrMatrix = projectData.corr()\n",
    "print(corrMatrix)"
   ],
   "cell_type": "code",
   "metadata": {
    "colab": {
     "base_uri": "https://localhost:8080/"
    },
    "id": "BPR9Ru0UjGmB",
    "outputId": "a3c18beb-b319-47ac-e3a3-7cab012094a0"
   },
   "execution_count": null,
   "outputs": []
  },
  {
   "cell_type": "code",
   "execution_count": 1073,
   "metadata": {
    "id": "NtlQe8OeqaoH"
   },
   "outputs": [],
   "source": [
    "projectData.drop('source_class_unknown',axis='columns', inplace=True)\n",
    "testData.drop('source_class_unknown',axis='columns', inplace=True)"
   ]
  },
  {
   "cell_type": "markdown",
   "metadata": {
    "id": "AyZwkoYXqcIO"
   },
   "source": [
    "source_class_unknown is weakly Correlated with all"
   ]
  },
  {
   "cell_type": "code",
   "execution_count": 1074,
   "metadata": {
    "id": "Yrmm5w-BqeLf"
   },
   "outputs": [],
   "source": [
    "projectData.drop('source_class_surface',axis='columns', inplace=True)\n",
    "testData.drop('source_class_surface',axis='columns', inplace=True)"
   ]
  },
  {
   "cell_type": "markdown",
   "metadata": {
    "id": "IoHbez7qqm54"
   },
   "source": [
    "source_class_surface is fully correlated %98+ with source_class_groundwater"
   ]
  },
  {
   "cell_type": "code",
   "execution_count": 1075,
   "metadata": {},
   "outputs": [],
   "source": [
    "projectData.drop('extraction_type_other - mkulima/shinyanga',axis='columns', inplace=True)\n",
    "projectData.drop('scheme_management_None',axis='columns', inplace=True)"
   ]
  },
  {
   "cell_type": "code",
   "execution_count": 1076,
   "metadata": {},
   "outputs": [],
   "source": [
    "#These columns don't exist in testData"
   ]
  },
  {
   "cell_type": "code",
   "execution_count": null,
   "metadata": {},
   "outputs": [],
   "source": [
    "#Removed all these colums based on Selector below. So that models run faster."
   ]
  },
  {
   "cell_type": "code",
   "execution_count": 1082,
   "metadata": {},
   "outputs": [],
   "source": [
    "projectData['date_recorded'] = projectData['date_recorded'].dt.year\n",
    "testData['date_recorded'] = testData['date_recorded'].dt.year"
   ]
  },
  {
   "cell_type": "code",
   "execution_count": 1083,
   "metadata": {},
   "outputs": [],
   "source": [
    "projectData[\"date_recorded\"] = projectData[\"date_recorded\"].astype(np.int64)\n",
    "testData[\"date_recorded\"] = testData[\"date_recorded\"].astype(np.int64)"
   ]
  },
  {
   "cell_type": "code",
   "execution_count": 1084,
   "metadata": {},
   "outputs": [],
   "source": [
    "projectData.drop('status_group',axis='columns', inplace=True)"
   ]
  },
  {
   "cell_type": "code",
   "execution_count": 1086,
   "metadata": {},
   "outputs": [],
   "source": [
    "projectData.drop(projectData.columns[[2,3,4,7,9,10,11,12,13,15,16,18,19,20,22,23,24,25,26,27,28,29,30,31,32,33,34,35,\n",
    "                                      37,38,39,40,41,42,44,45,46,47,48,49,50,51,52,53,54,56,57,58,61,62,63,66,67,68,69,\n",
    "                                      70,71,72,73,74,75,76,77,78,79,80,81,82,83,85,86,87,89,92,93,95,97,98,99,100,101,\n",
    "                                      105,106,107,108,109,110,112,116,118]],axis='columns', inplace=True)\n",
    "\n",
    "testData.drop(testData.columns[[2,3,4,7,9,10,11,12,13,15,16,18,19,20,22,23,24,25,26,27,28,29,30,31,32,33,34,35,\n",
    "                                      37,38,39,40,41,42,44,45,46,47,48,49,50,51,52,53,54,56,57,58,\n",
    "                                      61,62,63,66,67,68,69,70,71,72,73,74,75,76,77,78,79,80,81,82,\n",
    "                                      83,85,86,87,89,92,93,95,97,98,99,100,101,105,106,107,108,109,110,\n",
    "                                      112,116,118]],axis='columns', inplace=True)"
   ]
  },
  {
   "cell_type": "code",
   "execution_count": 1094,
   "metadata": {
    "colab": {
     "base_uri": "https://localhost:8080/"
    },
    "id": "nUjjCwQnHJJb",
    "outputId": "eb2a3987-1e5d-4b13-d7bc-0195dbc3b999"
   },
   "outputs": [
    {
     "name": "stdout",
     "output_type": "stream",
     "text": [
      "Training dataset shape: (58806, 32) (58806,)\n",
      "Testing dataset shape: (594, 32) (594,)\n"
     ]
    }
   ],
   "source": [
    "from sklearn.model_selection import train_test_split\n",
    "\n",
    "X_train, X_test, y_train, y_test = train_test_split(\n",
    "    projectData.values[:,0:-1],\n",
    "    projectData_statusgroup,\n",
    "    test_size=0.01,\n",
    "    random_state=42)\n",
    "\n",
    "y_train = y_train.ravel()\n",
    "y_test = y_test.ravel()\n",
    "\n",
    "\n",
    "print('Training dataset shape:', X_train.shape, y_train.shape)\n",
    "print('Testing dataset shape:', X_test.shape, y_test.shape)"
   ]
  },
  {
   "cell_type": "code",
   "execution_count": null,
   "metadata": {},
   "outputs": [],
   "source": [
    "#http://rasbt.github.io/mlxtend/user_guide/feature_selection/SequentialFeatureSelector/"
   ]
  },
  {
   "cell_type": "markdown",
   "metadata": {
    "id": "PU54s63z1J76"
   },
   "source": [
    "Here we changed date_recorded to only year in integer."
   ]
  },
  {
   "cell_type": "code",
   "execution_count": 1095,
   "metadata": {
    "colab": {
     "base_uri": "https://localhost:8080/"
    },
    "id": "Zx29pwlN0Nsz",
    "outputId": "747e706d-104d-4b7c-a20f-8e5b378205e7"
   },
   "outputs": [
    {
     "name": "stderr",
     "output_type": "stream",
     "text": [
      "[Parallel(n_jobs=1)]: Using backend SequentialBackend with 1 concurrent workers.\n",
      "[Parallel(n_jobs=1)]: Done   1 out of   1 | elapsed:    6.9s remaining:    0.0s\n",
      "[Parallel(n_jobs=1)]: Done  32 out of  32 | elapsed:  2.5min finished\n",
      "\n",
      "[2021-05-05 10:51:13] Features: 1/25 -- score: 0.642502465734789[Parallel(n_jobs=1)]: Using backend SequentialBackend with 1 concurrent workers.\n",
      "[Parallel(n_jobs=1)]: Done   1 out of   1 | elapsed:    5.6s remaining:    0.0s\n",
      "[Parallel(n_jobs=1)]: Done  31 out of  31 | elapsed:  2.6min finished\n",
      "\n",
      "[2021-05-05 10:53:52] Features: 2/25 -- score: 0.6881950821344761[Parallel(n_jobs=1)]: Using backend SequentialBackend with 1 concurrent workers.\n",
      "[Parallel(n_jobs=1)]: Done   1 out of   1 | elapsed:    6.2s remaining:    0.0s\n",
      "[Parallel(n_jobs=1)]: Done  30 out of  30 | elapsed:  2.8min finished\n",
      "\n",
      "[2021-05-05 10:56:37] Features: 3/25 -- score: 0.6992143658810325[Parallel(n_jobs=1)]: Using backend SequentialBackend with 1 concurrent workers.\n",
      "[Parallel(n_jobs=1)]: Done   1 out of   1 | elapsed:    9.2s remaining:    0.0s\n",
      "[Parallel(n_jobs=1)]: Done  29 out of  29 | elapsed:  3.8min finished\n",
      "\n",
      "[2021-05-05 11:00:26] Features: 4/25 -- score: 0.7212699384416555[Parallel(n_jobs=1)]: Using backend SequentialBackend with 1 concurrent workers.\n",
      "[Parallel(n_jobs=1)]: Done   1 out of   1 | elapsed:   11.6s remaining:    0.0s\n",
      "[Parallel(n_jobs=1)]: Done  28 out of  28 | elapsed:  4.7min finished\n",
      "\n",
      "[2021-05-05 11:05:08] Features: 5/25 -- score: 0.7368465802809236[Parallel(n_jobs=1)]: Using backend SequentialBackend with 1 concurrent workers.\n",
      "[Parallel(n_jobs=1)]: Done   1 out of   1 | elapsed:   13.4s remaining:    0.0s\n",
      "[Parallel(n_jobs=1)]: Done  27 out of  27 | elapsed:  5.4min finished\n",
      "\n",
      "[2021-05-05 11:10:34] Features: 6/25 -- score: 0.744821956943169[Parallel(n_jobs=1)]: Using backend SequentialBackend with 1 concurrent workers.\n",
      "[Parallel(n_jobs=1)]: Done   1 out of   1 | elapsed:   14.1s remaining:    0.0s\n",
      "[Parallel(n_jobs=1)]: Done  26 out of  26 | elapsed:  5.6min finished\n",
      "\n",
      "[2021-05-05 11:16:08] Features: 7/25 -- score: 0.7520491106349692[Parallel(n_jobs=1)]: Using backend SequentialBackend with 1 concurrent workers.\n",
      "[Parallel(n_jobs=1)]: Done   1 out of   1 | elapsed:   14.6s remaining:    0.0s\n",
      "[Parallel(n_jobs=1)]: Done  25 out of  25 | elapsed:  5.7min finished\n",
      "\n",
      "[2021-05-05 11:21:47] Features: 8/25 -- score: 0.7593442845968098[Parallel(n_jobs=1)]: Using backend SequentialBackend with 1 concurrent workers.\n",
      "[Parallel(n_jobs=1)]: Done   1 out of   1 | elapsed:   16.4s remaining:    0.0s\n",
      "[Parallel(n_jobs=1)]: Done  24 out of  24 | elapsed:  6.2min finished\n",
      "\n",
      "[2021-05-05 11:28:00] Features: 9/25 -- score: 0.7637485970819303[Parallel(n_jobs=1)]: Using backend SequentialBackend with 1 concurrent workers.\n",
      "[Parallel(n_jobs=1)]: Done   1 out of   1 | elapsed:   17.1s remaining:    0.0s\n",
      "[Parallel(n_jobs=1)]: Done  23 out of  23 | elapsed:  6.7min finished\n",
      "\n",
      "[2021-05-05 11:34:43] Features: 10/25 -- score: 0.7681529095670508[Parallel(n_jobs=1)]: Using backend SequentialBackend with 1 concurrent workers.\n",
      "[Parallel(n_jobs=1)]: Done   1 out of   1 | elapsed:   17.6s remaining:    0.0s\n",
      "[Parallel(n_jobs=1)]: Done  22 out of  22 | elapsed:  6.6min finished\n",
      "\n",
      "[2021-05-05 11:41:16] Features: 11/25 -- score: 0.770465598748427[Parallel(n_jobs=1)]: Using backend SequentialBackend with 1 concurrent workers.\n",
      "[Parallel(n_jobs=1)]: Done   1 out of   1 | elapsed:   17.8s remaining:    0.0s\n",
      "[Parallel(n_jobs=1)]: Done  21 out of  21 | elapsed:  6.3min finished\n",
      "\n",
      "[2021-05-05 11:47:35] Features: 12/25 -- score: 0.7726932625922526[Parallel(n_jobs=1)]: Using backend SequentialBackend with 1 concurrent workers.\n",
      "[Parallel(n_jobs=1)]: Done   1 out of   1 | elapsed:   18.7s remaining:    0.0s\n",
      "[Parallel(n_jobs=1)]: Done  20 out of  20 | elapsed:  6.3min finished\n",
      "\n",
      "[2021-05-05 11:53:51] Features: 13/25 -- score: 0.7744787946808148[Parallel(n_jobs=1)]: Using backend SequentialBackend with 1 concurrent workers.\n",
      "[Parallel(n_jobs=1)]: Done   1 out of   1 | elapsed:   19.1s remaining:    0.0s\n",
      "[Parallel(n_jobs=1)]: Done  19 out of  19 | elapsed:  6.1min finished\n",
      "\n",
      "[2021-05-05 11:59:59] Features: 14/25 -- score: 0.775363058191341[Parallel(n_jobs=1)]: Using backend SequentialBackend with 1 concurrent workers.\n",
      "[Parallel(n_jobs=1)]: Done   1 out of   1 | elapsed:   20.6s remaining:    0.0s\n",
      "[Parallel(n_jobs=1)]: Done  18 out of  18 | elapsed:  6.2min finished\n",
      "\n",
      "[2021-05-05 12:06:10] Features: 15/25 -- score: 0.7771655953474136[Parallel(n_jobs=1)]: Using backend SequentialBackend with 1 concurrent workers.\n",
      "[Parallel(n_jobs=1)]: Done   1 out of   1 | elapsed:   20.3s remaining:    0.0s\n",
      "[Parallel(n_jobs=1)]: Done  17 out of  17 | elapsed:  5.8min finished\n",
      "\n",
      "[2021-05-05 12:11:57] Features: 16/25 -- score: 0.778798081828385[Parallel(n_jobs=1)]: Using backend SequentialBackend with 1 concurrent workers.\n",
      "[Parallel(n_jobs=1)]: Done   1 out of   1 | elapsed:   20.9s remaining:    0.0s\n",
      "[Parallel(n_jobs=1)]: Done  16 out of  16 | elapsed:  5.7min finished\n",
      "\n",
      "[2021-05-05 12:17:36] Features: 17/25 -- score: 0.7804475733768664[Parallel(n_jobs=1)]: Using backend SequentialBackend with 1 concurrent workers.\n",
      "[Parallel(n_jobs=1)]: Done   1 out of   1 | elapsed:   21.4s remaining:    0.0s\n",
      "[Parallel(n_jobs=1)]: Done  15 out of  15 | elapsed:  5.4min finished\n",
      "\n",
      "[2021-05-05 12:22:58] Features: 18/25 -- score: 0.7811107710097609[Parallel(n_jobs=1)]: Using backend SequentialBackend with 1 concurrent workers.\n",
      "[Parallel(n_jobs=1)]: Done   1 out of   1 | elapsed:   21.5s remaining:    0.0s\n",
      "[Parallel(n_jobs=1)]: Done  14 out of  14 | elapsed:  5.1min finished\n",
      "\n",
      "[2021-05-05 12:28:04] Features: 19/25 -- score: 0.7816379281025746[Parallel(n_jobs=1)]: Using backend SequentialBackend with 1 concurrent workers.\n",
      "[Parallel(n_jobs=1)]: Done   1 out of   1 | elapsed:   22.0s remaining:    0.0s\n",
      "[Parallel(n_jobs=1)]: Done  13 out of  13 | elapsed:  4.9min finished\n",
      "\n",
      "[2021-05-05 12:32:57] Features: 20/25 -- score: 0.7821990953304084[Parallel(n_jobs=1)]: Using backend SequentialBackend with 1 concurrent workers.\n",
      "[Parallel(n_jobs=1)]: Done   1 out of   1 | elapsed:   22.9s remaining:    0.0s\n",
      "[Parallel(n_jobs=1)]: Done  12 out of  12 | elapsed:  4.6min finished\n",
      "\n",
      "[2021-05-05 12:37:34] Features: 21/25 -- score: 0.7833214297860763[Parallel(n_jobs=1)]: Using backend SequentialBackend with 1 concurrent workers.\n",
      "[Parallel(n_jobs=1)]: Done   1 out of   1 | elapsed:   23.1s remaining:    0.0s\n",
      "[Parallel(n_jobs=1)]: Done  11 out of  11 | elapsed:  4.3min finished\n",
      "\n",
      "[2021-05-05 12:41:51] Features: 22/25 -- score: 0.7832874196510561[Parallel(n_jobs=1)]: Using backend SequentialBackend with 1 concurrent workers.\n",
      "[Parallel(n_jobs=1)]: Done   1 out of   1 | elapsed:   23.3s remaining:    0.0s\n",
      "[Parallel(n_jobs=1)]: Done  10 out of  10 | elapsed:  3.9min finished\n",
      "\n",
      "[2021-05-05 12:45:43] Features: 23/25 -- score: 0.784154678094072[Parallel(n_jobs=1)]: Using backend SequentialBackend with 1 concurrent workers.\n",
      "[Parallel(n_jobs=1)]: Done   1 out of   1 | elapsed:   22.8s remaining:    0.0s\n",
      "[Parallel(n_jobs=1)]: Done   9 out of   9 | elapsed:  3.5min finished\n",
      "\n",
      "[2021-05-05 12:49:11] Features: 24/25 -- score: 0.7841716831615821[Parallel(n_jobs=1)]: Using backend SequentialBackend with 1 concurrent workers.\n",
      "[Parallel(n_jobs=1)]: Done   1 out of   1 | elapsed:   24.8s remaining:    0.0s\n",
      "[Parallel(n_jobs=1)]: Done   8 out of   8 | elapsed:  3.4min finished\n",
      "\n",
      "[2021-05-05 12:52:33] Features: 25/25 -- score: 0.7840696527565214"
     ]
    }
   ],
   "source": [
    "from sklearn.ensemble import RandomForestClassifier\n",
    "from mlxtend.feature_selection import SequentialFeatureSelector as sfs\n",
    "clf = RandomForestClassifier(n_estimators=200, n_jobs=3)\n",
    "sfs1 = sfs(clf,\n",
    "           k_features=25,\n",
    "           forward=True,\n",
    "           floating=False,\n",
    "           verbose=2,\n",
    "           scoring='accuracy',\n",
    "           cv=6)\n",
    "\n",
    "sfs1 = sfs1.fit(X_train, y_train)\n"
   ]
  },
  {
   "cell_type": "code",
   "execution_count": 986,
   "metadata": {},
   "outputs": [
    {
     "name": "stdout",
     "output_type": "stream",
     "text": [
      "[0, 1, 5, 6, 8, 14, 17, 21, 36, 43, 55, 59, 60, 64, 65, 84, 90, 91, 94, 96, 102, 103, 104, 111, 113, 114, 115, 117]\n"
     ]
    },
    {
     "data": {
      "text/plain": [
       "{1: {'feature_idx': (103,),\n",
       "  'cv_scores': array([0.64164724, 0.63869464, 0.64801865, 0.64522145, 0.64304584,\n",
       "         0.63527584]),\n",
       "  'avg_score': 0.641983941983942,\n",
       "  'feature_names': ('103',)},\n",
       " 2: {'feature_idx': (65, 103),\n",
       "  'cv_scores': array([0.68702409, 0.68951049, 0.69044289, 0.69448329, 0.68578089,\n",
       "         0.68127428]),\n",
       "  'avg_score': 0.6880859880859881,\n",
       "  'feature_names': ('65', '103')},\n",
       " 3: {'feature_idx': (8, 65, 103),\n",
       "  'cv_scores': array([0.6994561 , 0.7000777 , 0.6983683 , 0.7024087 , 0.69246309,\n",
       "         0.69417249]),\n",
       "  'avg_score': 0.6978243978243978,\n",
       "  'feature_names': ('8', '65', '103')},\n",
       " 4: {'feature_idx': (5, 8, 65, 103),\n",
       "  'cv_scores': array([0.71794872, 0.72649573, 0.71903652, 0.72773893, 0.71732712,\n",
       "         0.71406371]),\n",
       "  'avg_score': 0.7204351204351204,\n",
       "  'feature_names': ('5', '8', '65', '103')},\n",
       " 5: {'feature_idx': (5, 6, 8, 65, 103),\n",
       "  'cv_scores': array([0.72944833, 0.73395493, 0.73115773, 0.73426573, 0.73426573,\n",
       "         0.72867133]),\n",
       "  'avg_score': 0.7319606319606319,\n",
       "  'feature_names': ('5', '6', '8', '65', '103')},\n",
       " 6: {'feature_idx': (5, 6, 8, 65, 103, 117),\n",
       "  'cv_scores': array([0.73442113, 0.74234654, 0.74048174, 0.75027195, 0.74436674,\n",
       "         0.73659674]),\n",
       "  'avg_score': 0.7414141414141414,\n",
       "  'feature_names': ('5', '6', '8', '65', '103', '117')},\n",
       " 7: {'feature_idx': (0, 5, 6, 8, 65, 103, 117),\n",
       "  'cv_scores': array([0.73908314, 0.75167055, 0.74685315, 0.74918415, 0.75462315,\n",
       "         0.74514375]),\n",
       "  'avg_score': 0.7477596477596479,\n",
       "  'feature_names': ('0', '5', '6', '8', '65', '103', '117')},\n",
       " 8: {'feature_idx': (0, 5, 6, 8, 65, 103, 115, 117),\n",
       "  'cv_scores': array([0.74933955, 0.75757576, 0.75462315, 0.75415695, 0.75710956,\n",
       "         0.74234654]),\n",
       "  'avg_score': 0.7525252525252526,\n",
       "  'feature_names': ('0', '5', '6', '8', '65', '103', '115', '117')},\n",
       " 9: {'feature_idx': (0, 5, 6, 8, 65, 103, 104, 115, 117),\n",
       "  'cv_scores': array([0.75415695, 0.76099456, 0.76099456, 0.75959596, 0.76270396,\n",
       "         0.75213675]),\n",
       "  'avg_score': 0.7584304584304583,\n",
       "  'feature_names': ('0', '5', '6', '8', '65', '103', '104', '115', '117')},\n",
       " 10: {'feature_idx': (0, 5, 6, 8, 59, 65, 103, 104, 115, 117),\n",
       "  'cv_scores': array([0.75897436, 0.76441336, 0.76550117, 0.76348096, 0.76270396,\n",
       "         0.75462315]),\n",
       "  'avg_score': 0.7616161616161615,\n",
       "  'feature_names': ('0',\n",
       "   '5',\n",
       "   '6',\n",
       "   '8',\n",
       "   '59',\n",
       "   '65',\n",
       "   '103',\n",
       "   '104',\n",
       "   '115',\n",
       "   '117')},\n",
       " 11: {'feature_idx': (0, 5, 6, 8, 59, 65, 103, 104, 113, 115, 117),\n",
       "  'cv_scores': array([0.76223776, 0.76627817, 0.76923077, 0.76674437, 0.76674437,\n",
       "         0.75275835]),\n",
       "  'avg_score': 0.7639989639989638,\n",
       "  'feature_names': ('0',\n",
       "   '5',\n",
       "   '6',\n",
       "   '8',\n",
       "   '59',\n",
       "   '65',\n",
       "   '103',\n",
       "   '104',\n",
       "   '113',\n",
       "   '115',\n",
       "   '117')},\n",
       " 12: {'feature_idx': (0, 5, 6, 8, 14, 59, 65, 103, 104, 113, 115, 117),\n",
       "  'cv_scores': array([0.76317016, 0.76674437, 0.77000777, 0.76829837, 0.77140637,\n",
       "         0.75897436]),\n",
       "  'avg_score': 0.7664335664335664,\n",
       "  'feature_names': ('0',\n",
       "   '5',\n",
       "   '6',\n",
       "   '8',\n",
       "   '14',\n",
       "   '59',\n",
       "   '65',\n",
       "   '103',\n",
       "   '104',\n",
       "   '113',\n",
       "   '115',\n",
       "   '117')},\n",
       " 13: {'feature_idx': (0, 5, 6, 8, 14, 59, 65, 96, 103, 104, 113, 115, 117),\n",
       "  'cv_scores': array([0.76752137, 0.76441336, 0.77202797, 0.77327117, 0.77327117,\n",
       "         0.76208236]),\n",
       "  'avg_score': 0.7687645687645688,\n",
       "  'feature_names': ('0',\n",
       "   '5',\n",
       "   '6',\n",
       "   '8',\n",
       "   '14',\n",
       "   '59',\n",
       "   '65',\n",
       "   '96',\n",
       "   '103',\n",
       "   '104',\n",
       "   '113',\n",
       "   '115',\n",
       "   '117')},\n",
       " 14: {'feature_idx': (0, 5, 6, 8, 14, 17, 59, 65, 96, 103, 104, 113, 115, 117),\n",
       "  'cv_scores': array([0.77125097, 0.77078477, 0.77311577, 0.77187257, 0.77606838,\n",
       "         0.76083916]),\n",
       "  'avg_score': 0.7706552706552706,\n",
       "  'feature_names': ('0',\n",
       "   '5',\n",
       "   '6',\n",
       "   '8',\n",
       "   '14',\n",
       "   '17',\n",
       "   '59',\n",
       "   '65',\n",
       "   '96',\n",
       "   '103',\n",
       "   '104',\n",
       "   '113',\n",
       "   '115',\n",
       "   '117')},\n",
       " 15: {'feature_idx': (0,\n",
       "   5,\n",
       "   6,\n",
       "   8,\n",
       "   14,\n",
       "   17,\n",
       "   59,\n",
       "   64,\n",
       "   65,\n",
       "   96,\n",
       "   103,\n",
       "   104,\n",
       "   113,\n",
       "   115,\n",
       "   117),\n",
       "  'cv_scores': array([0.77233877, 0.77249417, 0.77606838, 0.77109557, 0.77606838,\n",
       "         0.76596737]),\n",
       "  'avg_score': 0.7723387723387724,\n",
       "  'feature_names': ('0',\n",
       "   '5',\n",
       "   '6',\n",
       "   '8',\n",
       "   '14',\n",
       "   '17',\n",
       "   '59',\n",
       "   '64',\n",
       "   '65',\n",
       "   '96',\n",
       "   '103',\n",
       "   '104',\n",
       "   '113',\n",
       "   '115',\n",
       "   '117')},\n",
       " 16: {'feature_idx': (0,\n",
       "   5,\n",
       "   6,\n",
       "   8,\n",
       "   14,\n",
       "   17,\n",
       "   21,\n",
       "   59,\n",
       "   64,\n",
       "   65,\n",
       "   96,\n",
       "   103,\n",
       "   104,\n",
       "   113,\n",
       "   115,\n",
       "   117),\n",
       "  'cv_scores': array([0.77311577, 0.77342657, 0.77575758, 0.77513598, 0.77793318,\n",
       "         0.76674437]),\n",
       "  'avg_score': 0.7736855736855737,\n",
       "  'feature_names': ('0',\n",
       "   '5',\n",
       "   '6',\n",
       "   '8',\n",
       "   '14',\n",
       "   '17',\n",
       "   '21',\n",
       "   '59',\n",
       "   '64',\n",
       "   '65',\n",
       "   '96',\n",
       "   '103',\n",
       "   '104',\n",
       "   '113',\n",
       "   '115',\n",
       "   '117')},\n",
       " 17: {'feature_idx': (0,\n",
       "   5,\n",
       "   6,\n",
       "   8,\n",
       "   14,\n",
       "   17,\n",
       "   21,\n",
       "   59,\n",
       "   64,\n",
       "   65,\n",
       "   94,\n",
       "   96,\n",
       "   103,\n",
       "   104,\n",
       "   113,\n",
       "   115,\n",
       "   117),\n",
       "  'cv_scores': array([0.77529138, 0.77373737, 0.77917638, 0.77575758, 0.77700078,\n",
       "         0.76814297]),\n",
       "  'avg_score': 0.774851074851075,\n",
       "  'feature_names': ('0',\n",
       "   '5',\n",
       "   '6',\n",
       "   '8',\n",
       "   '14',\n",
       "   '17',\n",
       "   '21',\n",
       "   '59',\n",
       "   '64',\n",
       "   '65',\n",
       "   '94',\n",
       "   '96',\n",
       "   '103',\n",
       "   '104',\n",
       "   '113',\n",
       "   '115',\n",
       "   '117')},\n",
       " 18: {'feature_idx': (0,\n",
       "   5,\n",
       "   6,\n",
       "   8,\n",
       "   14,\n",
       "   17,\n",
       "   21,\n",
       "   59,\n",
       "   64,\n",
       "   65,\n",
       "   91,\n",
       "   94,\n",
       "   96,\n",
       "   103,\n",
       "   104,\n",
       "   113,\n",
       "   115,\n",
       "   117),\n",
       "  'cv_scores': array([0.77684538, 0.77233877, 0.77700078, 0.77622378, 0.78073038,\n",
       "         0.76845377]),\n",
       "  'avg_score': 0.7752654752654752,\n",
       "  'feature_names': ('0',\n",
       "   '5',\n",
       "   '6',\n",
       "   '8',\n",
       "   '14',\n",
       "   '17',\n",
       "   '21',\n",
       "   '59',\n",
       "   '64',\n",
       "   '65',\n",
       "   '91',\n",
       "   '94',\n",
       "   '96',\n",
       "   '103',\n",
       "   '104',\n",
       "   '113',\n",
       "   '115',\n",
       "   '117')},\n",
       " 19: {'feature_idx': (0,\n",
       "   5,\n",
       "   6,\n",
       "   8,\n",
       "   14,\n",
       "   17,\n",
       "   21,\n",
       "   59,\n",
       "   64,\n",
       "   65,\n",
       "   84,\n",
       "   91,\n",
       "   94,\n",
       "   96,\n",
       "   103,\n",
       "   104,\n",
       "   113,\n",
       "   115,\n",
       "   117),\n",
       "  'cv_scores': array([0.77529138, 0.77342657, 0.77808858, 0.77933178, 0.77979798,\n",
       "         0.77125097]),\n",
       "  'avg_score': 0.7761978761978763,\n",
       "  'feature_names': ('0',\n",
       "   '5',\n",
       "   '6',\n",
       "   '8',\n",
       "   '14',\n",
       "   '17',\n",
       "   '21',\n",
       "   '59',\n",
       "   '64',\n",
       "   '65',\n",
       "   '84',\n",
       "   '91',\n",
       "   '94',\n",
       "   '96',\n",
       "   '103',\n",
       "   '104',\n",
       "   '113',\n",
       "   '115',\n",
       "   '117')},\n",
       " 20: {'feature_idx': (0,\n",
       "   5,\n",
       "   6,\n",
       "   8,\n",
       "   14,\n",
       "   17,\n",
       "   21,\n",
       "   59,\n",
       "   64,\n",
       "   65,\n",
       "   84,\n",
       "   91,\n",
       "   94,\n",
       "   96,\n",
       "   102,\n",
       "   103,\n",
       "   104,\n",
       "   113,\n",
       "   115,\n",
       "   117),\n",
       "  'cv_scores': array([0.77653458, 0.77855478, 0.77731158, 0.77933178, 0.78135198,\n",
       "         0.76954157]),\n",
       "  'avg_score': 0.7771043771043771,\n",
       "  'feature_names': ('0',\n",
       "   '5',\n",
       "   '6',\n",
       "   '8',\n",
       "   '14',\n",
       "   '17',\n",
       "   '21',\n",
       "   '59',\n",
       "   '64',\n",
       "   '65',\n",
       "   '84',\n",
       "   '91',\n",
       "   '94',\n",
       "   '96',\n",
       "   '102',\n",
       "   '103',\n",
       "   '104',\n",
       "   '113',\n",
       "   '115',\n",
       "   '117')},\n",
       " 21: {'feature_idx': (0,\n",
       "   1,\n",
       "   5,\n",
       "   6,\n",
       "   8,\n",
       "   14,\n",
       "   17,\n",
       "   21,\n",
       "   59,\n",
       "   64,\n",
       "   65,\n",
       "   84,\n",
       "   91,\n",
       "   94,\n",
       "   96,\n",
       "   102,\n",
       "   103,\n",
       "   104,\n",
       "   113,\n",
       "   115,\n",
       "   117),\n",
       "  'cv_scores': array([0.77560218, 0.77855478, 0.78073038, 0.78259518, 0.77917638,\n",
       "         0.77016317]),\n",
       "  'avg_score': 0.7778036778036778,\n",
       "  'feature_names': ('0',\n",
       "   '1',\n",
       "   '5',\n",
       "   '6',\n",
       "   '8',\n",
       "   '14',\n",
       "   '17',\n",
       "   '21',\n",
       "   '59',\n",
       "   '64',\n",
       "   '65',\n",
       "   '84',\n",
       "   '91',\n",
       "   '94',\n",
       "   '96',\n",
       "   '102',\n",
       "   '103',\n",
       "   '104',\n",
       "   '113',\n",
       "   '115',\n",
       "   '117')},\n",
       " 22: {'feature_idx': (0,\n",
       "   1,\n",
       "   5,\n",
       "   6,\n",
       "   8,\n",
       "   14,\n",
       "   17,\n",
       "   21,\n",
       "   59,\n",
       "   60,\n",
       "   64,\n",
       "   65,\n",
       "   84,\n",
       "   91,\n",
       "   94,\n",
       "   96,\n",
       "   102,\n",
       "   103,\n",
       "   104,\n",
       "   113,\n",
       "   115,\n",
       "   117),\n",
       "  'cv_scores': array([0.77420357, 0.77964258, 0.78150738, 0.78166278, 0.78135198,\n",
       "         0.76938617]),\n",
       "  'avg_score': 0.7779590779590779,\n",
       "  'feature_names': ('0',\n",
       "   '1',\n",
       "   '5',\n",
       "   '6',\n",
       "   '8',\n",
       "   '14',\n",
       "   '17',\n",
       "   '21',\n",
       "   '59',\n",
       "   '60',\n",
       "   '64',\n",
       "   '65',\n",
       "   '84',\n",
       "   '91',\n",
       "   '94',\n",
       "   '96',\n",
       "   '102',\n",
       "   '103',\n",
       "   '104',\n",
       "   '113',\n",
       "   '115',\n",
       "   '117')},\n",
       " 23: {'feature_idx': (0,\n",
       "   1,\n",
       "   5,\n",
       "   6,\n",
       "   8,\n",
       "   14,\n",
       "   17,\n",
       "   21,\n",
       "   59,\n",
       "   60,\n",
       "   64,\n",
       "   65,\n",
       "   84,\n",
       "   91,\n",
       "   94,\n",
       "   96,\n",
       "   102,\n",
       "   103,\n",
       "   104,\n",
       "   113,\n",
       "   114,\n",
       "   115,\n",
       "   117),\n",
       "  'cv_scores': array([0.77591298, 0.77839938, 0.78337218, 0.78399378, 0.78337218,\n",
       "         0.76814297]),\n",
       "  'avg_score': 0.7788655788655788,\n",
       "  'feature_names': ('0',\n",
       "   '1',\n",
       "   '5',\n",
       "   '6',\n",
       "   '8',\n",
       "   '14',\n",
       "   '17',\n",
       "   '21',\n",
       "   '59',\n",
       "   '60',\n",
       "   '64',\n",
       "   '65',\n",
       "   '84',\n",
       "   '91',\n",
       "   '94',\n",
       "   '96',\n",
       "   '102',\n",
       "   '103',\n",
       "   '104',\n",
       "   '113',\n",
       "   '114',\n",
       "   '115',\n",
       "   '117')},\n",
       " 24: {'feature_idx': (0,\n",
       "   1,\n",
       "   5,\n",
       "   6,\n",
       "   8,\n",
       "   14,\n",
       "   17,\n",
       "   21,\n",
       "   55,\n",
       "   59,\n",
       "   60,\n",
       "   64,\n",
       "   65,\n",
       "   84,\n",
       "   91,\n",
       "   94,\n",
       "   96,\n",
       "   102,\n",
       "   103,\n",
       "   104,\n",
       "   113,\n",
       "   114,\n",
       "   115,\n",
       "   117),\n",
       "  'cv_scores': array([0.77793318, 0.78228438, 0.78041958, 0.78228438, 0.78383838,\n",
       "         0.77047397]),\n",
       "  'avg_score': 0.7795389795389794,\n",
       "  'feature_names': ('0',\n",
       "   '1',\n",
       "   '5',\n",
       "   '6',\n",
       "   '8',\n",
       "   '14',\n",
       "   '17',\n",
       "   '21',\n",
       "   '55',\n",
       "   '59',\n",
       "   '60',\n",
       "   '64',\n",
       "   '65',\n",
       "   '84',\n",
       "   '91',\n",
       "   '94',\n",
       "   '96',\n",
       "   '102',\n",
       "   '103',\n",
       "   '104',\n",
       "   '113',\n",
       "   '114',\n",
       "   '115',\n",
       "   '117')},\n",
       " 25: {'feature_idx': (0,\n",
       "   1,\n",
       "   5,\n",
       "   6,\n",
       "   8,\n",
       "   14,\n",
       "   17,\n",
       "   21,\n",
       "   36,\n",
       "   55,\n",
       "   59,\n",
       "   60,\n",
       "   64,\n",
       "   65,\n",
       "   84,\n",
       "   91,\n",
       "   94,\n",
       "   96,\n",
       "   102,\n",
       "   103,\n",
       "   104,\n",
       "   113,\n",
       "   114,\n",
       "   115,\n",
       "   117),\n",
       "  'cv_scores': array([0.78010878, 0.77917638, 0.78166278, 0.78539239, 0.78290598,\n",
       "         0.77062937]),\n",
       "  'avg_score': 0.7799792799792798,\n",
       "  'feature_names': ('0',\n",
       "   '1',\n",
       "   '5',\n",
       "   '6',\n",
       "   '8',\n",
       "   '14',\n",
       "   '17',\n",
       "   '21',\n",
       "   '36',\n",
       "   '55',\n",
       "   '59',\n",
       "   '60',\n",
       "   '64',\n",
       "   '65',\n",
       "   '84',\n",
       "   '91',\n",
       "   '94',\n",
       "   '96',\n",
       "   '102',\n",
       "   '103',\n",
       "   '104',\n",
       "   '113',\n",
       "   '114',\n",
       "   '115',\n",
       "   '117')},\n",
       " 26: {'feature_idx': (0,\n",
       "   1,\n",
       "   5,\n",
       "   6,\n",
       "   8,\n",
       "   14,\n",
       "   17,\n",
       "   21,\n",
       "   36,\n",
       "   55,\n",
       "   59,\n",
       "   60,\n",
       "   64,\n",
       "   65,\n",
       "   84,\n",
       "   90,\n",
       "   91,\n",
       "   94,\n",
       "   96,\n",
       "   102,\n",
       "   103,\n",
       "   104,\n",
       "   113,\n",
       "   114,\n",
       "   115,\n",
       "   117),\n",
       "  'cv_scores': array([0.77668998, 0.78321678, 0.78275058, 0.78492618, 0.78461538,\n",
       "         0.76860917]),\n",
       "  'avg_score': 0.7801346801346801,\n",
       "  'feature_names': ('0',\n",
       "   '1',\n",
       "   '5',\n",
       "   '6',\n",
       "   '8',\n",
       "   '14',\n",
       "   '17',\n",
       "   '21',\n",
       "   '36',\n",
       "   '55',\n",
       "   '59',\n",
       "   '60',\n",
       "   '64',\n",
       "   '65',\n",
       "   '84',\n",
       "   '90',\n",
       "   '91',\n",
       "   '94',\n",
       "   '96',\n",
       "   '102',\n",
       "   '103',\n",
       "   '104',\n",
       "   '113',\n",
       "   '114',\n",
       "   '115',\n",
       "   '117')},\n",
       " 27: {'feature_idx': (0,\n",
       "   1,\n",
       "   5,\n",
       "   6,\n",
       "   8,\n",
       "   14,\n",
       "   17,\n",
       "   21,\n",
       "   36,\n",
       "   55,\n",
       "   59,\n",
       "   60,\n",
       "   64,\n",
       "   65,\n",
       "   84,\n",
       "   90,\n",
       "   91,\n",
       "   94,\n",
       "   96,\n",
       "   102,\n",
       "   103,\n",
       "   104,\n",
       "   111,\n",
       "   113,\n",
       "   114,\n",
       "   115,\n",
       "   117),\n",
       "  'cv_scores': array([0.78041958, 0.77902098, 0.78523699, 0.78368298, 0.78694639,\n",
       "         0.77016317]),\n",
       "  'avg_score': 0.780911680911681,\n",
       "  'feature_names': ('0',\n",
       "   '1',\n",
       "   '5',\n",
       "   '6',\n",
       "   '8',\n",
       "   '14',\n",
       "   '17',\n",
       "   '21',\n",
       "   '36',\n",
       "   '55',\n",
       "   '59',\n",
       "   '60',\n",
       "   '64',\n",
       "   '65',\n",
       "   '84',\n",
       "   '90',\n",
       "   '91',\n",
       "   '94',\n",
       "   '96',\n",
       "   '102',\n",
       "   '103',\n",
       "   '104',\n",
       "   '111',\n",
       "   '113',\n",
       "   '114',\n",
       "   '115',\n",
       "   '117')},\n",
       " 28: {'feature_idx': (0,\n",
       "   1,\n",
       "   5,\n",
       "   6,\n",
       "   8,\n",
       "   14,\n",
       "   17,\n",
       "   21,\n",
       "   36,\n",
       "   43,\n",
       "   55,\n",
       "   59,\n",
       "   60,\n",
       "   64,\n",
       "   65,\n",
       "   84,\n",
       "   90,\n",
       "   91,\n",
       "   94,\n",
       "   96,\n",
       "   102,\n",
       "   103,\n",
       "   104,\n",
       "   111,\n",
       "   113,\n",
       "   114,\n",
       "   115,\n",
       "   117),\n",
       "  'cv_scores': array([0.77995338, 0.78477078, 0.78212898, 0.78445998, 0.78445998,\n",
       "         0.77233877]),\n",
       "  'avg_score': 0.7813519813519814,\n",
       "  'feature_names': ('0',\n",
       "   '1',\n",
       "   '5',\n",
       "   '6',\n",
       "   '8',\n",
       "   '14',\n",
       "   '17',\n",
       "   '21',\n",
       "   '36',\n",
       "   '43',\n",
       "   '55',\n",
       "   '59',\n",
       "   '60',\n",
       "   '64',\n",
       "   '65',\n",
       "   '84',\n",
       "   '90',\n",
       "   '91',\n",
       "   '94',\n",
       "   '96',\n",
       "   '102',\n",
       "   '103',\n",
       "   '104',\n",
       "   '111',\n",
       "   '113',\n",
       "   '114',\n",
       "   '115',\n",
       "   '117')}}"
      ]
     },
     "execution_count": 986,
     "metadata": {},
     "output_type": "execute_result"
    }
   ],
   "source": [
    "feat_cols = list(sfs1.k_feature_idx_)\n",
    "print(feat_cols)\n",
    "\n",
    "sfs1.subsets_"
   ]
  },
  {
   "cell_type": "code",
   "execution_count": 1093,
   "metadata": {},
   "outputs": [],
   "source": [
    "clf1 = clf.fit(projectData,projectData_statusgroup)\n",
    "\n",
    "prediction1 = clf1.predict(testData)\n",
    "\n",
    "data = {'ID': testData_id, 'status_group': prediction1}\n",
    "submit = pd.DataFrame(data=data)\n",
    "\n",
    "vals_to_replace = {1:'functional', 2:'functional needs repair',0:'non functional'}\n",
    "\n",
    "submit.status_group = submit.status_group.replace(vals_to_replace)        \n",
    "\n",
    "submit.to_csv('C:/Users/cCengiZz/Downloads/pump_predictions.csv', index=False)"
   ]
  },
  {
   "cell_type": "code",
   "execution_count": 881,
   "metadata": {
    "collapsed": true
   },
   "outputs": [
    {
     "name": "stderr",
     "output_type": "stream",
     "text": [
      "[Parallel(n_jobs=1)]: Using backend SequentialBackend with 1 concurrent workers.\n",
      "[Parallel(n_jobs=1)]: Done   1 out of   1 | elapsed:    5.8s remaining:    0.0s\n",
      "[Parallel(n_jobs=1)]: Done  29 out of  29 | elapsed:  3.4min finished\n",
      "\n",
      "[2021-05-04 21:01:15] Features: 1/20 -- score: 0.5948484848484848[Parallel(n_jobs=1)]: Using backend SequentialBackend with 1 concurrent workers.\n",
      "[Parallel(n_jobs=1)]: Done   1 out of   1 | elapsed:    4.8s remaining:    0.0s\n",
      "[Parallel(n_jobs=1)]: Done  28 out of  28 | elapsed:  2.5min finished\n",
      "\n",
      "[2021-05-04 21:03:47] Features: 2/20 -- score: 0.6176936026936026[Parallel(n_jobs=1)]: Using backend SequentialBackend with 1 concurrent workers.\n",
      "[Parallel(n_jobs=1)]: Done   1 out of   1 | elapsed:    4.7s remaining:    0.0s\n",
      "[Parallel(n_jobs=1)]: Done  27 out of  27 | elapsed:  2.4min finished\n",
      "\n",
      "[2021-05-04 21:06:12] Features: 3/20 -- score: 0.6748821548821549[Parallel(n_jobs=1)]: Using backend SequentialBackend with 1 concurrent workers.\n",
      "[Parallel(n_jobs=1)]: Done   1 out of   1 | elapsed:    4.6s remaining:    0.0s\n",
      "[Parallel(n_jobs=1)]: Done  26 out of  26 | elapsed:  2.3min finished\n",
      "\n",
      "[2021-05-04 21:08:31] Features: 4/20 -- score: 0.685050505050505[Parallel(n_jobs=1)]: Using backend SequentialBackend with 1 concurrent workers.\n",
      "[Parallel(n_jobs=1)]: Done   1 out of   1 | elapsed:    4.9s remaining:    0.0s\n",
      "[Parallel(n_jobs=1)]: Done  25 out of  25 | elapsed:  2.3min finished\n",
      "\n",
      "[2021-05-04 21:10:50] Features: 5/20 -- score: 0.6980808080808081[Parallel(n_jobs=1)]: Using backend SequentialBackend with 1 concurrent workers.\n",
      "[Parallel(n_jobs=1)]: Done   1 out of   1 | elapsed:    5.3s remaining:    0.0s\n",
      "[Parallel(n_jobs=1)]: Done  24 out of  24 | elapsed:  2.4min finished\n",
      "\n",
      "[2021-05-04 21:13:13] Features: 6/20 -- score: 0.6986868686868686[Parallel(n_jobs=1)]: Using backend SequentialBackend with 1 concurrent workers.\n",
      "[Parallel(n_jobs=1)]: Done   1 out of   1 | elapsed:    5.3s remaining:    0.0s\n",
      "[Parallel(n_jobs=1)]: Done  23 out of  23 | elapsed:  2.3min finished\n",
      "\n",
      "[2021-05-04 21:15:29] Features: 7/20 -- score: 0.7005218855218855[Parallel(n_jobs=1)]: Using backend SequentialBackend with 1 concurrent workers.\n",
      "[Parallel(n_jobs=1)]: Done   1 out of   1 | elapsed:    5.5s remaining:    0.0s\n",
      "[Parallel(n_jobs=1)]: Done  22 out of  22 | elapsed:  2.0min finished\n",
      "\n",
      "[2021-05-04 21:17:31] Features: 8/20 -- score: 0.7027609427609427[Parallel(n_jobs=1)]: Using backend SequentialBackend with 1 concurrent workers.\n",
      "[Parallel(n_jobs=1)]: Done   1 out of   1 | elapsed:    4.9s remaining:    0.0s\n",
      "[Parallel(n_jobs=1)]: Done  21 out of  21 | elapsed:  1.5min finished\n",
      "\n",
      "[2021-05-04 21:19:03] Features: 9/20 -- score: 0.7021380471380472[Parallel(n_jobs=1)]: Using backend SequentialBackend with 1 concurrent workers.\n",
      "[Parallel(n_jobs=1)]: Done   1 out of   1 | elapsed:    4.8s remaining:    0.0s\n",
      "[Parallel(n_jobs=1)]: Done  20 out of  20 | elapsed:  1.4min finished\n",
      "\n",
      "[2021-05-04 21:20:28] Features: 10/20 -- score: 0.7078451178451178[Parallel(n_jobs=1)]: Using backend SequentialBackend with 1 concurrent workers.\n",
      "[Parallel(n_jobs=1)]: Done   1 out of   1 | elapsed:    4.8s remaining:    0.0s\n",
      "[Parallel(n_jobs=1)]: Done  19 out of  19 | elapsed:  1.4min finished\n",
      "\n",
      "[2021-05-04 21:21:50] Features: 11/20 -- score: 0.7135858585858585[Parallel(n_jobs=1)]: Using backend SequentialBackend with 1 concurrent workers.\n",
      "[Parallel(n_jobs=1)]: Done   1 out of   1 | elapsed:    4.3s remaining:    0.0s\n",
      "[Parallel(n_jobs=1)]: Done  18 out of  18 | elapsed:  1.1min finished\n",
      "\n",
      "[2021-05-04 21:22:54] Features: 12/20 -- score: 0.7255050505050504[Parallel(n_jobs=1)]: Using backend SequentialBackend with 1 concurrent workers.\n",
      "[Parallel(n_jobs=1)]: Done   1 out of   1 | elapsed:    4.2s remaining:    0.0s\n",
      "[Parallel(n_jobs=1)]: Done  17 out of  17 | elapsed:   57.4s finished\n",
      "\n",
      "[2021-05-04 21:23:51] Features: 13/20 -- score: 0.728922558922559[Parallel(n_jobs=1)]: Using backend SequentialBackend with 1 concurrent workers.\n",
      "[Parallel(n_jobs=1)]: Done   1 out of   1 | elapsed:    4.3s remaining:    0.0s\n",
      "[Parallel(n_jobs=1)]: Done  16 out of  16 | elapsed:   56.6s finished\n",
      "\n",
      "[2021-05-04 21:24:48] Features: 14/20 -- score: 0.7306397306397306[Parallel(n_jobs=1)]: Using backend SequentialBackend with 1 concurrent workers.\n",
      "[Parallel(n_jobs=1)]: Done   1 out of   1 | elapsed:    4.3s remaining:    0.0s\n",
      "[Parallel(n_jobs=1)]: Done  15 out of  15 | elapsed:   52.7s finished\n",
      "\n",
      "[2021-05-04 21:25:41] Features: 15/20 -- score: 0.7313973063973065[Parallel(n_jobs=1)]: Using backend SequentialBackend with 1 concurrent workers.\n",
      "[Parallel(n_jobs=1)]: Done   1 out of   1 | elapsed:  1.1min remaining:    0.0s\n",
      "[Parallel(n_jobs=1)]: Done  14 out of  14 | elapsed: 14.5min finished\n",
      "\n",
      "[2021-05-04 21:40:10] Features: 16/20 -- score: 0.7332323232323232[Parallel(n_jobs=1)]: Using backend SequentialBackend with 1 concurrent workers.\n",
      "[Parallel(n_jobs=1)]: Done   1 out of   1 | elapsed:  1.1min remaining:    0.0s\n",
      "[Parallel(n_jobs=1)]: Done  13 out of  13 | elapsed: 13.7min finished\n",
      "\n",
      "[2021-05-04 21:53:54] Features: 17/20 -- score: 0.7341750841750841[Parallel(n_jobs=1)]: Using backend SequentialBackend with 1 concurrent workers.\n",
      "[Parallel(n_jobs=1)]: Done   1 out of   1 | elapsed:  1.1min remaining:    0.0s\n",
      "[Parallel(n_jobs=1)]: Done  12 out of  12 | elapsed: 12.5min finished\n",
      "\n",
      "[2021-05-04 22:06:23] Features: 18/20 -- score: 0.7346296296296296[Parallel(n_jobs=1)]: Using backend SequentialBackend with 1 concurrent workers.\n",
      "[Parallel(n_jobs=1)]: Done   1 out of   1 | elapsed:  1.1min remaining:    0.0s\n",
      "[Parallel(n_jobs=1)]: Done  11 out of  11 | elapsed: 11.4min finished\n",
      "\n",
      "[2021-05-04 22:17:47] Features: 19/20 -- score: 0.7351346801346801[Parallel(n_jobs=1)]: Using backend SequentialBackend with 1 concurrent workers.\n",
      "[Parallel(n_jobs=1)]: Done   1 out of   1 | elapsed:  1.1min remaining:    0.0s\n",
      "[Parallel(n_jobs=1)]: Done  10 out of  10 | elapsed: 10.5min finished\n",
      "\n",
      "[2021-05-04 22:28:20] Features: 20/20 -- score: 0.7354377104377104"
     ]
    },
    {
     "ename": "NotFittedError",
     "evalue": "This KNeighborsClassifier instance is not fitted yet. Call 'fit' with appropriate arguments before using this estimator.",
     "output_type": "error",
     "traceback": [
      "\u001b[1;31m---------------------------------------------------------------------------\u001b[0m",
      "\u001b[1;31mNotFittedError\u001b[0m                            Traceback (most recent call last)",
      "\u001b[1;32m<ipython-input-881-24d94b298f17>\u001b[0m in \u001b[0;36m<module>\u001b[1;34m\u001b[0m\n\u001b[0;32m     13\u001b[0m \u001b[0msfs2\u001b[0m \u001b[1;33m=\u001b[0m \u001b[0msfs2\u001b[0m\u001b[1;33m.\u001b[0m\u001b[0mfit\u001b[0m\u001b[1;33m(\u001b[0m\u001b[0mprojectData\u001b[0m\u001b[1;33m,\u001b[0m \u001b[0mprojectData_statusgroup\u001b[0m\u001b[1;33m)\u001b[0m\u001b[1;33m\u001b[0m\u001b[1;33m\u001b[0m\u001b[0m\n\u001b[0;32m     14\u001b[0m \u001b[1;33m\u001b[0m\u001b[0m\n\u001b[1;32m---> 15\u001b[1;33m \u001b[0mpredictions\u001b[0m \u001b[1;33m=\u001b[0m \u001b[0mknn\u001b[0m\u001b[1;33m.\u001b[0m\u001b[0mpredict\u001b[0m\u001b[1;33m(\u001b[0m\u001b[0mtestData\u001b[0m\u001b[1;33m)\u001b[0m\u001b[1;33m\u001b[0m\u001b[1;33m\u001b[0m\u001b[0m\n\u001b[0m\u001b[0;32m     16\u001b[0m \u001b[1;33m\u001b[0m\u001b[0m\n\u001b[0;32m     17\u001b[0m \u001b[0mdata\u001b[0m \u001b[1;33m=\u001b[0m \u001b[1;33m{\u001b[0m\u001b[1;34m'ID'\u001b[0m\u001b[1;33m:\u001b[0m \u001b[0mtestData_id\u001b[0m\u001b[1;33m,\u001b[0m \u001b[1;34m'status_group'\u001b[0m\u001b[1;33m:\u001b[0m \u001b[0mpredictions\u001b[0m\u001b[1;33m}\u001b[0m\u001b[1;33m\u001b[0m\u001b[1;33m\u001b[0m\u001b[0m\n",
      "\u001b[1;32mc:\\python39\\opencv\\lib\\site-packages\\sklearn\\neighbors\\_classification.py\u001b[0m in \u001b[0;36mpredict\u001b[1;34m(self, X)\u001b[0m\n\u001b[0;32m    195\u001b[0m         \u001b[0mX\u001b[0m \u001b[1;33m=\u001b[0m \u001b[0mcheck_array\u001b[0m\u001b[1;33m(\u001b[0m\u001b[0mX\u001b[0m\u001b[1;33m,\u001b[0m \u001b[0maccept_sparse\u001b[0m\u001b[1;33m=\u001b[0m\u001b[1;34m'csr'\u001b[0m\u001b[1;33m)\u001b[0m\u001b[1;33m\u001b[0m\u001b[1;33m\u001b[0m\u001b[0m\n\u001b[0;32m    196\u001b[0m \u001b[1;33m\u001b[0m\u001b[0m\n\u001b[1;32m--> 197\u001b[1;33m         \u001b[0mneigh_dist\u001b[0m\u001b[1;33m,\u001b[0m \u001b[0mneigh_ind\u001b[0m \u001b[1;33m=\u001b[0m \u001b[0mself\u001b[0m\u001b[1;33m.\u001b[0m\u001b[0mkneighbors\u001b[0m\u001b[1;33m(\u001b[0m\u001b[0mX\u001b[0m\u001b[1;33m)\u001b[0m\u001b[1;33m\u001b[0m\u001b[1;33m\u001b[0m\u001b[0m\n\u001b[0m\u001b[0;32m    198\u001b[0m         \u001b[0mclasses_\u001b[0m \u001b[1;33m=\u001b[0m \u001b[0mself\u001b[0m\u001b[1;33m.\u001b[0m\u001b[0mclasses_\u001b[0m\u001b[1;33m\u001b[0m\u001b[1;33m\u001b[0m\u001b[0m\n\u001b[0;32m    199\u001b[0m         \u001b[0m_y\u001b[0m \u001b[1;33m=\u001b[0m \u001b[0mself\u001b[0m\u001b[1;33m.\u001b[0m\u001b[0m_y\u001b[0m\u001b[1;33m\u001b[0m\u001b[1;33m\u001b[0m\u001b[0m\n",
      "\u001b[1;32mc:\\python39\\opencv\\lib\\site-packages\\sklearn\\neighbors\\_base.py\u001b[0m in \u001b[0;36mkneighbors\u001b[1;34m(self, X, n_neighbors, return_distance)\u001b[0m\n\u001b[0;32m    647\u001b[0m                [2]]...)\n\u001b[0;32m    648\u001b[0m         \"\"\"\n\u001b[1;32m--> 649\u001b[1;33m         \u001b[0mcheck_is_fitted\u001b[0m\u001b[1;33m(\u001b[0m\u001b[0mself\u001b[0m\u001b[1;33m)\u001b[0m\u001b[1;33m\u001b[0m\u001b[1;33m\u001b[0m\u001b[0m\n\u001b[0m\u001b[0;32m    650\u001b[0m \u001b[1;33m\u001b[0m\u001b[0m\n\u001b[0;32m    651\u001b[0m         \u001b[1;32mif\u001b[0m \u001b[0mn_neighbors\u001b[0m \u001b[1;32mis\u001b[0m \u001b[1;32mNone\u001b[0m\u001b[1;33m:\u001b[0m\u001b[1;33m\u001b[0m\u001b[1;33m\u001b[0m\u001b[0m\n",
      "\u001b[1;32mc:\\python39\\opencv\\lib\\site-packages\\sklearn\\utils\\validation.py\u001b[0m in \u001b[0;36minner_f\u001b[1;34m(*args, **kwargs)\u001b[0m\n\u001b[0;32m     61\u001b[0m             \u001b[0mextra_args\u001b[0m \u001b[1;33m=\u001b[0m \u001b[0mlen\u001b[0m\u001b[1;33m(\u001b[0m\u001b[0margs\u001b[0m\u001b[1;33m)\u001b[0m \u001b[1;33m-\u001b[0m \u001b[0mlen\u001b[0m\u001b[1;33m(\u001b[0m\u001b[0mall_args\u001b[0m\u001b[1;33m)\u001b[0m\u001b[1;33m\u001b[0m\u001b[1;33m\u001b[0m\u001b[0m\n\u001b[0;32m     62\u001b[0m             \u001b[1;32mif\u001b[0m \u001b[0mextra_args\u001b[0m \u001b[1;33m<=\u001b[0m \u001b[1;36m0\u001b[0m\u001b[1;33m:\u001b[0m\u001b[1;33m\u001b[0m\u001b[1;33m\u001b[0m\u001b[0m\n\u001b[1;32m---> 63\u001b[1;33m                 \u001b[1;32mreturn\u001b[0m \u001b[0mf\u001b[0m\u001b[1;33m(\u001b[0m\u001b[1;33m*\u001b[0m\u001b[0margs\u001b[0m\u001b[1;33m,\u001b[0m \u001b[1;33m**\u001b[0m\u001b[0mkwargs\u001b[0m\u001b[1;33m)\u001b[0m\u001b[1;33m\u001b[0m\u001b[1;33m\u001b[0m\u001b[0m\n\u001b[0m\u001b[0;32m     64\u001b[0m \u001b[1;33m\u001b[0m\u001b[0m\n\u001b[0;32m     65\u001b[0m             \u001b[1;31m# extra_args > 0\u001b[0m\u001b[1;33m\u001b[0m\u001b[1;33m\u001b[0m\u001b[1;33m\u001b[0m\u001b[0m\n",
      "\u001b[1;32mc:\\python39\\opencv\\lib\\site-packages\\sklearn\\utils\\validation.py\u001b[0m in \u001b[0;36mcheck_is_fitted\u001b[1;34m(estimator, attributes, msg, all_or_any)\u001b[0m\n\u001b[0;32m   1096\u001b[0m \u001b[1;33m\u001b[0m\u001b[0m\n\u001b[0;32m   1097\u001b[0m     \u001b[1;32mif\u001b[0m \u001b[1;32mnot\u001b[0m \u001b[0mattrs\u001b[0m\u001b[1;33m:\u001b[0m\u001b[1;33m\u001b[0m\u001b[1;33m\u001b[0m\u001b[0m\n\u001b[1;32m-> 1098\u001b[1;33m         \u001b[1;32mraise\u001b[0m \u001b[0mNotFittedError\u001b[0m\u001b[1;33m(\u001b[0m\u001b[0mmsg\u001b[0m \u001b[1;33m%\u001b[0m \u001b[1;33m{\u001b[0m\u001b[1;34m'name'\u001b[0m\u001b[1;33m:\u001b[0m \u001b[0mtype\u001b[0m\u001b[1;33m(\u001b[0m\u001b[0mestimator\u001b[0m\u001b[1;33m)\u001b[0m\u001b[1;33m.\u001b[0m\u001b[0m__name__\u001b[0m\u001b[1;33m}\u001b[0m\u001b[1;33m)\u001b[0m\u001b[1;33m\u001b[0m\u001b[1;33m\u001b[0m\u001b[0m\n\u001b[0m\u001b[0;32m   1099\u001b[0m \u001b[1;33m\u001b[0m\u001b[0m\n\u001b[0;32m   1100\u001b[0m \u001b[1;33m\u001b[0m\u001b[0m\n",
      "\u001b[1;31mNotFittedError\u001b[0m: This KNeighborsClassifier instance is not fitted yet. Call 'fit' with appropriate arguments before using this estimator."
     ]
    }
   ],
   "source": [
    "from sklearn.neighbors import KNeighborsClassifier\n",
    "\n",
    "knn = KNeighborsClassifier(n_neighbors=8, n_jobs=3)\n",
    "\n",
    "sfs2 = sfs(knn, \n",
    "           k_features=20, \n",
    "           forward=True, \n",
    "           floating=False, \n",
    "           verbose=2,\n",
    "           scoring='accuracy',\n",
    "           cv=2)\n",
    "\n",
    "sfs2 = sfs2.fit(projectData, projectData_statusgroup)\n",
    "\n",
    "\n"
   ]
  },
  {
   "cell_type": "code",
   "execution_count": 882,
   "metadata": {},
   "outputs": [],
   "source": [
    "knn.fit(projectData,projectData_statusgroup)\n",
    "\n",
    "prediction2 = knn.predict(testData)\n",
    "\n",
    "data = {'ID': testData_id, 'status_group': prediction2}\n",
    "submit = pd.DataFrame(data=data)\n",
    "vals_to_replace = {1:'functional', 2:'functional needs repair', 0:'non functional'}\n",
    "\n",
    "submit.status_group = submit.status_group.replace(vals_to_replace)        \n",
    "\n",
    "submit.to_csv('C:/Users/cCengiZz/Downloads/submit_this.csv', index=False)"
   ]
  },
  {
   "cell_type": "code",
   "execution_count": 984,
   "metadata": {
    "collapsed": true
   },
   "outputs": [
    {
     "name": "stdout",
     "output_type": "stream",
     "text": [
      "Collecting xgboost\n",
      "  Downloading xgboost-1.4.1-py3-none-win_amd64.whl (97.8 MB)\n",
      "Requirement already satisfied: numpy in c:\\python39\\opencv\\lib\\site-packages (from xgboost) (1.20.2)\n",
      "Requirement already satisfied: scipy in c:\\python39\\opencv\\lib\\site-packages (from xgboost) (1.6.3)\n",
      "Installing collected packages: xgboost\n",
      "Successfully installed xgboost-1.4.1\n"
     ]
    }
   ],
   "source": [
    "!pip install xgboost"
   ]
  },
  {
   "cell_type": "code",
   "execution_count": 985,
   "metadata": {},
   "outputs": [],
   "source": [
    "from xgboost import XGBClassifier"
   ]
  },
  {
   "cell_type": "code",
   "execution_count": 1089,
   "metadata": {},
   "outputs": [
    {
     "name": "stderr",
     "output_type": "stream",
     "text": [
      "c:\\python39\\opencv\\lib\\site-packages\\xgboost\\sklearn.py:1146: UserWarning: The use of label encoder in XGBClassifier is deprecated and will be removed in a future release. To remove this warning, do the following: 1) Pass option use_label_encoder=False when constructing XGBClassifier object; and 2) Encode your labels (y) as integers starting with 0, i.e. 0, 1, 2, ..., [num_class - 1].\n",
      "  warnings.warn(label_encoder_deprecation_msg, UserWarning)\n"
     ]
    },
    {
     "name": "stdout",
     "output_type": "stream",
     "text": [
      "[09:17:32] WARNING: C:/Users/Administrator/workspace/xgboost-win64_release_1.4.0/src/learner.cc:1095: Starting in XGBoost 1.3.0, the default evaluation metric used with the objective 'multi:softprob' was changed from 'merror' to 'mlogloss'. Explicitly set eval_metric if you'd like to restore the old behavior.\n"
     ]
    },
    {
     "data": {
      "text/plain": [
       "XGBClassifier(base_score=0.5, booster='gbtree', colsample_bylevel=1,\n",
       "              colsample_bynode=1, colsample_bytree=1, gamma=0, gpu_id=-1,\n",
       "              importance_type='gain', interaction_constraints='',\n",
       "              learning_rate=0.300000012, max_delta_step=0, max_depth=6,\n",
       "              min_child_weight=1, missing=nan, monotone_constraints='()',\n",
       "              n_estimators=100, n_jobs=4, num_parallel_tree=1,\n",
       "              objective='multi:softprob', random_state=0, reg_alpha=0,\n",
       "              reg_lambda=1, scale_pos_weight=None, subsample=1,\n",
       "              tree_method='exact', validate_parameters=1, verbosity=None)"
      ]
     },
     "execution_count": 1089,
     "metadata": {},
     "output_type": "execute_result"
    }
   ],
   "source": [
    "model = XGBClassifier()\n",
    "model.fit(projectData, projectData_statusgroup)"
   ]
  },
  {
   "cell_type": "code",
   "execution_count": 1090,
   "metadata": {},
   "outputs": [
    {
     "name": "stderr",
     "output_type": "stream",
     "text": [
      "c:\\python39\\opencv\\lib\\site-packages\\xgboost\\data.py:112: UserWarning: Use subset (sliced data) of np.ndarray is not recommended because it will generate extra copies and increase memory consumption\n",
      "  warnings.warn(\n"
     ]
    }
   ],
   "source": [
    "prediction4 = model.predict(testData)\n",
    "\n",
    "data = {'ID': testData_id, 'status_group': prediction4}\n",
    "submit = pd.DataFrame(data=data)\n",
    "vals_to_replace = {1:'functional', 2:'functional needs repair', 0:'non functional'}\n",
    "\n",
    "submit.status_group = submit.status_group.replace(vals_to_replace)        \n",
    "\n",
    "submit.to_csv('C:/Users/cCengiZz/Downloads/submit_this.csv', index=False)"
   ]
  },
  {
   "cell_type": "code",
   "execution_count": null,
   "metadata": {},
   "outputs": [],
   "source": []
  }
 ],
 "metadata": {
  "colab": {
   "collapsed_sections": [],
   "name": "IT541Project.ipynb",
   "provenance": [],
   "toc_visible": true
  },
  "kernelspec": {
   "name": "python391jvsc74a57bd096f2cfdbe6bb14b3440a94d8b1cb282ee3a713ec3fc2e6f8861f2240a36d2fe4",
   "display_name": "Python 3.9.1 64-bit"
  },
  "language_info": {
   "codemirror_mode": {
    "name": "ipython",
    "version": 3
   },
   "file_extension": ".py",
   "mimetype": "text/x-python",
   "name": "python",
   "nbconvert_exporter": "python",
   "pygments_lexer": "ipython3",
   "version": "3.9.1"
  },
  "metadata": {
   "interpreter": {
    "hash": "96f2cfdbe6bb14b3440a94d8b1cb282ee3a713ec3fc2e6f8861f2240a36d2fe4"
   }
  }
 },
 "nbformat": 4,
 "nbformat_minor": 1
}